{
 "cells": [
  {
   "cell_type": "code",
   "execution_count": 2,
   "id": "248c6630",
   "metadata": {},
   "outputs": [],
   "source": [
    "from music21 import converter, environment"
   ]
  },
  {
   "cell_type": "code",
   "execution_count": 3,
   "id": "357e8b10",
   "metadata": {},
   "outputs": [
    {
     "name": "stdout",
     "output_type": "stream",
     "text": [
      "/Applications/MuseScore 3.app/Contents/MacOS/mscore\n"
     ]
    }
   ],
   "source": [
    "us = environment.UserSettings()\n",
    "print(us['musescoreDirectPNGPath'])"
   ]
  },
  {
   "cell_type": "code",
   "execution_count": 7,
   "id": "d49968a6",
   "metadata": {},
   "outputs": [
    {
     "data": {
      "text/plain": [
       "PosixPath('/Applications/Utilities/QuickTime Player 7.app')"
      ]
     },
     "execution_count": 7,
     "metadata": {},
     "output_type": "execute_result"
    }
   ],
   "source": [
    "us['midiPath']"
   ]
  },
  {
   "cell_type": "code",
   "execution_count": 5,
   "id": "05344f19",
   "metadata": {},
   "outputs": [
    {
     "data": {
      "text/html": [
       "\n",
       "                <div id='midiPlayerDiv194'></div>\n",
       "                <link rel=\"stylesheet\" href=\"//cuthbertLab.github.io/music21j/css/m21.css\"\n",
       "                    type=\"text/css\" />\n",
       "                <script>\n",
       "                require.config({\n",
       "                    paths: {'music21': '//cuthbertLab.github.io/music21j/src/music21'}\n",
       "                });\n",
       "                require(['music21'], function() {\n",
       "                               mp = new music21.miditools.MidiPlayer();\n",
       "                               mp.addPlayer('#midiPlayerDiv194');\n",
       "                               mp.base64Load('data:audio/midi;base64,TVRoZAAAAAYAAQACBABNVHJrAAAAFAD/UQMHoSAA/1gEBAMYCIgA/y8ATVRyawAAAFYA/wMAAOAAQIgAkDBaiACAMAAAkDFaiACAMQAAkDVaiACANQAAkDVahACANQAAkDdahSuANwAAkDlahSqQO1oBgDkAhSqAOwAAkDxaiACAPACIAP8vAA==');\n",
       "                        });\n",
       "                </script>"
      ],
      "text/plain": [
       "<IPython.core.display.HTML object>"
      ]
     },
     "metadata": {},
     "output_type": "display_data"
    }
   ],
   "source": [
    "s = converter.parse('tinyNotation: 4/8 C4_hi D-4 E#4 F8 trip{G4 A4 B4} c4')\n",
    "s.show('midi')"
   ]
  },
  {
   "cell_type": "code",
   "execution_count": 4,
   "id": "c5520a61",
   "metadata": {},
   "outputs": [
    {
     "data": {
      "text/plain": [
       "PosixPath('/Users/mizukinakano/.music21rc')"
      ]
     },
     "execution_count": 4,
     "metadata": {},
     "output_type": "execute_result"
    }
   ],
   "source": [
    "us.getSettingsPath()"
   ]
  },
  {
   "cell_type": "code",
   "execution_count": 6,
   "id": "cae8b073",
   "metadata": {},
   "outputs": [
    {
     "data": {
      "text/html": [
       "\n",
       "                <div id='midiPlayerDiv346'></div>\n",
       "                <link rel=\"stylesheet\" href=\"//cuthbertLab.github.io/music21j/css/m21.css\"\n",
       "                    type=\"text/css\" />\n",
       "                <script>\n",
       "                require.config({\n",
       "                    paths: {'music21': '//cuthbertLab.github.io/music21j/src/music21'}\n",
       "                });\n",
       "                require(['music21'], function() {\n",
       "                               mp = new music21.miditools.MidiPlayer();\n",
       "                               mp.addPlayer('#midiPlayerDiv346');\n",
       "                               mp.base64Load('data:audio/midi;base64,TVRoZAAAAAYAAQACBABNVHJrAAAAFAD/UQMHoSAA/1gEBAMYCIgA/y8ATVRyawAAAFYA/wMAAOAAQIgAkDBaiACAMAAAkDFaiACAMQAAkDVaiACANQAAkDVahACANQAAkDdahSuANwAAkDlahSqQO1oBgDkAhSqAOwAAkDxaiACAPACIAP8vAA==');\n",
       "                        });\n",
       "                </script>"
      ],
      "text/plain": [
       "<IPython.core.display.HTML object>"
      ]
     },
     "metadata": {},
     "output_type": "display_data"
    },
    {
     "data": {
      "text/plain": [
       "NoneType"
      ]
     },
     "execution_count": 6,
     "metadata": {},
     "output_type": "execute_result"
    }
   ],
   "source": [
    "type(s.show('midi'))"
   ]
  },
  {
   "cell_type": "code",
   "execution_count": 7,
   "id": "582046a8",
   "metadata": {},
   "outputs": [],
   "source": [
    "s = '[[73, 16],[74, 16],[75, 8],[0, 8],[78, 4]]'"
   ]
  },
  {
   "cell_type": "code",
   "execution_count": 4,
   "id": "baeccac7",
   "metadata": {},
   "outputs": [],
   "source": [
    "import ast"
   ]
  },
  {
   "cell_type": "code",
   "execution_count": 8,
   "id": "0e9f0ec4",
   "metadata": {},
   "outputs": [],
   "source": [
    "res = ast.literal_eval(s)"
   ]
  },
  {
   "cell_type": "code",
   "execution_count": 12,
   "id": "449784a6",
   "metadata": {},
   "outputs": [
    {
     "data": {
      "text/plain": [
       "73"
      ]
     },
     "execution_count": 12,
     "metadata": {},
     "output_type": "execute_result"
    }
   ],
   "source": [
    "res[0][0]"
   ]
  },
  {
   "cell_type": "code",
   "execution_count": null,
   "id": "896a041a",
   "metadata": {},
   "outputs": [],
   "source": []
  }
 ],
 "metadata": {
  "kernelspec": {
   "display_name": "Python 3 (ipykernel)",
   "language": "python",
   "name": "python3"
  },
  "language_info": {
   "codemirror_mode": {
    "name": "ipython",
    "version": 3
   },
   "file_extension": ".py",
   "mimetype": "text/x-python",
   "name": "python",
   "nbconvert_exporter": "python",
   "pygments_lexer": "ipython3",
   "version": "3.8.12"
  },
  "toc": {
   "base_numbering": 1,
   "nav_menu": {},
   "number_sections": true,
   "sideBar": true,
   "skip_h1_title": false,
   "title_cell": "Table of Contents",
   "title_sidebar": "Contents",
   "toc_cell": false,
   "toc_position": {},
   "toc_section_display": true,
   "toc_window_display": false
  }
 },
 "nbformat": 4,
 "nbformat_minor": 5
}

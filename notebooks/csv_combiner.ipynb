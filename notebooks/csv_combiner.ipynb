{
 "cells": [
  {
   "cell_type": "markdown",
   "id": "45941066",
   "metadata": {},
   "source": [
    "Imports"
   ]
  },
  {
   "cell_type": "code",
   "execution_count": 296,
   "id": "9f0ded11",
   "metadata": {},
   "outputs": [],
   "source": [
    "import pandas as pd\n",
    "import numpy as np\n",
    "from os import listdir\n",
    "from os.path import isfile, join, dirname"
   ]
  },
  {
   "cell_type": "markdown",
   "id": "350dace8",
   "metadata": {},
   "source": [
    "#### Get names of csv's \n"
   ]
  },
  {
   "cell_type": "markdown",
   "id": "c40699af",
   "metadata": {},
   "source": [
    "Function Components"
   ]
  },
  {
   "cell_type": "code",
   "execution_count": 25,
   "id": "46beffbc",
   "metadata": {},
   "outputs": [],
   "source": [
    "###Set up necessary variables\n",
    "\n",
    "mypath='../raw_data/mozart_sonatas' #folder of pieces\n",
    "metadata_filenames = ['documentation.txt','mps - pieces.csv'] #files we want to ignore for getting just indiv pieces\n",
    "pieces_metadata_filepath = join(mypath,'mps - pieces.csv') #filepath for the pieces.csv file"
   ]
  },
  {
   "cell_type": "code",
   "execution_count": 11,
   "id": "94c4257d",
   "metadata": {},
   "outputs": [],
   "source": [
    "movement_filenames = [f for f in listdir(mypath) if isfile(join(mypath, f))] \n",
    "\n",
    "#listdir gives list of files and directories at path end. if statement will check if its a file so we ignore dirs"
   ]
  },
  {
   "cell_type": "code",
   "execution_count": 12,
   "id": "79003485",
   "metadata": {},
   "outputs": [],
   "source": [
    "for filename in metadata_filenames:\n",
    "    if filename in movement_filenames:\n",
    "        movement_filenames.remove(filename)"
   ]
  },
  {
   "cell_type": "markdown",
   "id": "00a1258f",
   "metadata": {},
   "source": [
    "Combine into Function"
   ]
  },
  {
   "cell_type": "code",
   "execution_count": 33,
   "id": "49fdefab",
   "metadata": {},
   "outputs": [],
   "source": [
    "def get_movement_filenames():\n",
    "    mypath='../raw_data/mozart_sonatas' #folder of pieces\n",
    "    metadata_filenames = ['documentation.txt','mps - pieces.csv'] #files we want to ignore for getting just indiv pieces\n",
    "    \n",
    "    movement_filenames = [filename for filename in listdir(mypath) if isfile(join(mypath, filename))] \n",
    "    #listdir gives list of files and directories at path end. if statement will check if its a file so we ignore dirs\n",
    "    \n",
    "    for filename in metadata_filenames:  #remove metadata filenames\n",
    "        if filename in movement_filenames:    #make sure no error if already removed\n",
    "            movement_filenames.remove(filename)\n",
    "        \n",
    "    return movement_filenames"
   ]
  },
  {
   "cell_type": "markdown",
   "id": "ea5845ce",
   "metadata": {},
   "source": [
    "Get paths and names"
   ]
  },
  {
   "cell_type": "code",
   "execution_count": 182,
   "id": "18bb8c57",
   "metadata": {},
   "outputs": [],
   "source": [
    "#make filenames and filepaths and piece names\n",
    "\n",
    "movement_filenames = get_movement_filenames()\n",
    "movement_filepaths = [join(mypath, filename) for filename in movement_filenames]\n",
    "movement_names = [filename.split('mps - ')[1].split('.csv')[0] for filename in movement_filenames]\n"
   ]
  },
  {
   "cell_type": "code",
   "execution_count": 259,
   "id": "8f764d9b",
   "metadata": {},
   "outputs": [],
   "source": [
    "def get_movement_filepaths():\n",
    "    \n",
    "    movement_filepaths = [join(mypath, filename) for filename in movement_filenames]\n",
    "    return movement_filepaths\n",
    "\n",
    "def get_movement_names():\n",
    "    \n",
    "    movement_names = [filename.split('mps - ')[1].split('.csv')[0] for filename in movement_filenames]\n",
    "    return movement_names"
   ]
  },
  {
   "cell_type": "code",
   "execution_count": 183,
   "id": "0b565e68",
   "metadata": {},
   "outputs": [
    {
     "data": {
      "text/plain": [
       "('mps - K311-III.csv',\n",
       " '../raw_data/mozart_sonatas/mps - K311-III.csv',\n",
       " 'K311-III')"
      ]
     },
     "execution_count": 183,
     "metadata": {},
     "output_type": "execute_result"
    }
   ],
   "source": [
    "index = 10\n",
    "\n",
    "movement_filenames[index],movement_filepaths[index],movement_names[index]"
   ]
  },
  {
   "cell_type": "markdown",
   "id": "7fa4348f",
   "metadata": {},
   "source": [
    "get dict and list"
   ]
  },
  {
   "cell_type": "code",
   "execution_count": 184,
   "id": "7288bcd3",
   "metadata": {},
   "outputs": [],
   "source": [
    "#make dictionary of piece dfs\n",
    "#loop over movement name and path, to make dict with movement name as key, and movement df as value\n",
    "\n",
    "movement_df_dict = {name:pd.read_csv(path) for path, name in zip(movement_filepaths,movement_names)}\n"
   ]
  },
  {
   "cell_type": "code",
   "execution_count": 185,
   "id": "4f7bc136",
   "metadata": {},
   "outputs": [],
   "source": [
    "#pull each movement file into a df and into a list\n",
    "\n",
    "movement_df_list = [pd.read_csv(path) for path in movement_filepaths]\n"
   ]
  },
  {
   "cell_type": "code",
   "execution_count": 186,
   "id": "a679cb8a",
   "metadata": {
    "scrolled": true
   },
   "outputs": [],
   "source": [
    "#add movement name column to dfs [in dict]\n",
    "\n",
    "for key in movement_df_dict:\n",
    "    movement_df_dict[key]['movement_name'] = key"
   ]
  },
  {
   "cell_type": "code",
   "execution_count": 187,
   "id": "ace43bc6",
   "metadata": {},
   "outputs": [],
   "source": [
    "#add movement name column to dfs [in list]\n",
    "\n",
    "for i in range(len(movement_df_list)):\n",
    "    movement_df_list[i]['movement_name'] = movement_names[i]"
   ]
  },
  {
   "cell_type": "code",
   "execution_count": null,
   "id": "5ed8419d",
   "metadata": {},
   "outputs": [],
   "source": [
    "def get_movement_df_dict():\n",
    "    \n",
    "    movement_df_dict = {name:pd.read_csv(path) for path, name in zip(movement_filepaths,movement_names)}\n",
    "    for key in movement_df_dict:\n",
    "        movement_df_dict[key]['movement_name'] = key\n",
    "        \n",
    "    return movement_df_dict"
   ]
  },
  {
   "cell_type": "code",
   "execution_count": 261,
   "id": "1ee6d623",
   "metadata": {},
   "outputs": [],
   "source": [
    "def get_movement_df_list():\n",
    "    \n",
    "    movement_df_list = [pd.read_csv(path) for path in movement_filepaths]\n",
    "    for i in range(len(movement_df_list)):\n",
    "        movement_df_list[i]['movement_name'] = movement_names[i]\n",
    "        \n",
    "    return movement_df_list"
   ]
  },
  {
   "cell_type": "code",
   "execution_count": 223,
   "id": "49033539",
   "metadata": {},
   "outputs": [
    {
     "data": {
      "text/html": [
       "<div>\n",
       "<style scoped>\n",
       "    .dataframe tbody tr th:only-of-type {\n",
       "        vertical-align: middle;\n",
       "    }\n",
       "\n",
       "    .dataframe tbody tr th {\n",
       "        vertical-align: top;\n",
       "    }\n",
       "\n",
       "    .dataframe thead th {\n",
       "        text-align: right;\n",
       "    }\n",
       "</style>\n",
       "<table border=\"1\" class=\"dataframe\">\n",
       "  <thead>\n",
       "    <tr style=\"text-align: right;\">\n",
       "      <th></th>\n",
       "      <th>note_name</th>\n",
       "      <th>duration</th>\n",
       "      <th>measure</th>\n",
       "      <th>beat</th>\n",
       "      <th>subdiv</th>\n",
       "      <th>harm</th>\n",
       "      <th>from_root</th>\n",
       "      <th>NCT</th>\n",
       "      <th>BI2</th>\n",
       "      <th>CI</th>\n",
       "      <th>trill</th>\n",
       "      <th>dynamic</th>\n",
       "      <th>movement_name</th>\n",
       "    </tr>\n",
       "  </thead>\n",
       "  <tbody>\n",
       "    <tr>\n",
       "      <th>0</th>\n",
       "      <td>d5</td>\n",
       "      <td>4</td>\n",
       "      <td>1</td>\n",
       "      <td>1</td>\n",
       "      <td>1</td>\n",
       "      <td>I</td>\n",
       "      <td>1</td>\n",
       "      <td>0</td>\n",
       "      <td>0</td>\n",
       "      <td>0</td>\n",
       "      <td>0</td>\n",
       "      <td>f</td>\n",
       "      <td>K284-I</td>\n",
       "    </tr>\n",
       "    <tr>\n",
       "      <th>1</th>\n",
       "      <td>r</td>\n",
       "      <td>4</td>\n",
       "      <td>1</td>\n",
       "      <td>2</td>\n",
       "      <td>1</td>\n",
       "      <td>0</td>\n",
       "      <td>0</td>\n",
       "      <td>0</td>\n",
       "      <td>0</td>\n",
       "      <td>0</td>\n",
       "      <td>0</td>\n",
       "      <td>f</td>\n",
       "      <td>K284-I</td>\n",
       "    </tr>\n",
       "    <tr>\n",
       "      <th>2</th>\n",
       "      <td>g4</td>\n",
       "      <td>16</td>\n",
       "      <td>1</td>\n",
       "      <td>3</td>\n",
       "      <td>1</td>\n",
       "      <td>I</td>\n",
       "      <td>4</td>\n",
       "      <td>1</td>\n",
       "      <td>0</td>\n",
       "      <td>0</td>\n",
       "      <td>0</td>\n",
       "      <td>f</td>\n",
       "      <td>K284-I</td>\n",
       "    </tr>\n",
       "    <tr>\n",
       "      <th>3</th>\n",
       "      <td>f#4</td>\n",
       "      <td>16</td>\n",
       "      <td>1</td>\n",
       "      <td>3</td>\n",
       "      <td>2</td>\n",
       "      <td>I</td>\n",
       "      <td>3</td>\n",
       "      <td>0</td>\n",
       "      <td>0</td>\n",
       "      <td>0</td>\n",
       "      <td>0</td>\n",
       "      <td>f</td>\n",
       "      <td>K284-I</td>\n",
       "    </tr>\n",
       "    <tr>\n",
       "      <th>4</th>\n",
       "      <td>e4</td>\n",
       "      <td>16</td>\n",
       "      <td>1</td>\n",
       "      <td>3</td>\n",
       "      <td>3</td>\n",
       "      <td>I</td>\n",
       "      <td>2</td>\n",
       "      <td>1</td>\n",
       "      <td>0</td>\n",
       "      <td>0</td>\n",
       "      <td>0</td>\n",
       "      <td>f</td>\n",
       "      <td>K284-I</td>\n",
       "    </tr>\n",
       "  </tbody>\n",
       "</table>\n",
       "</div>"
      ],
      "text/plain": [
       "  note_name  duration  measure  beat  subdiv harm  from_root  NCT  BI2  CI  \\\n",
       "0        d5         4        1     1       1    I          1    0    0   0   \n",
       "1         r         4        1     2       1    0          0    0    0   0   \n",
       "2        g4        16        1     3       1    I          4    1    0   0   \n",
       "3       f#4        16        1     3       2    I          3    0    0   0   \n",
       "4        e4        16        1     3       3    I          2    1    0   0   \n",
       "\n",
       "   trill dynamic movement_name  \n",
       "0      0       f        K284-I  \n",
       "1      0       f        K284-I  \n",
       "2      0       f        K284-I  \n",
       "3      0       f        K284-I  \n",
       "4      0       f        K284-I  "
      ]
     },
     "execution_count": 223,
     "metadata": {},
     "output_type": "execute_result"
    }
   ],
   "source": [
    "movement_df_list[1].head()"
   ]
  },
  {
   "cell_type": "code",
   "execution_count": 224,
   "id": "9f308a48",
   "metadata": {},
   "outputs": [
    {
     "data": {
      "text/html": [
       "<div>\n",
       "<style scoped>\n",
       "    .dataframe tbody tr th:only-of-type {\n",
       "        vertical-align: middle;\n",
       "    }\n",
       "\n",
       "    .dataframe tbody tr th {\n",
       "        vertical-align: top;\n",
       "    }\n",
       "\n",
       "    .dataframe thead th {\n",
       "        text-align: right;\n",
       "    }\n",
       "</style>\n",
       "<table border=\"1\" class=\"dataframe\">\n",
       "  <thead>\n",
       "    <tr style=\"text-align: right;\">\n",
       "      <th></th>\n",
       "      <th>note_name</th>\n",
       "      <th>duration</th>\n",
       "      <th>measure</th>\n",
       "      <th>beat</th>\n",
       "      <th>subdiv</th>\n",
       "      <th>harm</th>\n",
       "      <th>from_root</th>\n",
       "      <th>NCT</th>\n",
       "      <th>BI2</th>\n",
       "      <th>CI</th>\n",
       "      <th>trill</th>\n",
       "      <th>dynamic</th>\n",
       "      <th>movement_name</th>\n",
       "    </tr>\n",
       "  </thead>\n",
       "  <tbody>\n",
       "    <tr>\n",
       "      <th>0</th>\n",
       "      <td>d5</td>\n",
       "      <td>4</td>\n",
       "      <td>1</td>\n",
       "      <td>1</td>\n",
       "      <td>1</td>\n",
       "      <td>I</td>\n",
       "      <td>1</td>\n",
       "      <td>0</td>\n",
       "      <td>0</td>\n",
       "      <td>0</td>\n",
       "      <td>0</td>\n",
       "      <td>f</td>\n",
       "      <td>K284-I</td>\n",
       "    </tr>\n",
       "    <tr>\n",
       "      <th>1</th>\n",
       "      <td>r</td>\n",
       "      <td>4</td>\n",
       "      <td>1</td>\n",
       "      <td>2</td>\n",
       "      <td>1</td>\n",
       "      <td>0</td>\n",
       "      <td>0</td>\n",
       "      <td>0</td>\n",
       "      <td>0</td>\n",
       "      <td>0</td>\n",
       "      <td>0</td>\n",
       "      <td>f</td>\n",
       "      <td>K284-I</td>\n",
       "    </tr>\n",
       "    <tr>\n",
       "      <th>2</th>\n",
       "      <td>g4</td>\n",
       "      <td>16</td>\n",
       "      <td>1</td>\n",
       "      <td>3</td>\n",
       "      <td>1</td>\n",
       "      <td>I</td>\n",
       "      <td>4</td>\n",
       "      <td>1</td>\n",
       "      <td>0</td>\n",
       "      <td>0</td>\n",
       "      <td>0</td>\n",
       "      <td>f</td>\n",
       "      <td>K284-I</td>\n",
       "    </tr>\n",
       "    <tr>\n",
       "      <th>3</th>\n",
       "      <td>f#4</td>\n",
       "      <td>16</td>\n",
       "      <td>1</td>\n",
       "      <td>3</td>\n",
       "      <td>2</td>\n",
       "      <td>I</td>\n",
       "      <td>3</td>\n",
       "      <td>0</td>\n",
       "      <td>0</td>\n",
       "      <td>0</td>\n",
       "      <td>0</td>\n",
       "      <td>f</td>\n",
       "      <td>K284-I</td>\n",
       "    </tr>\n",
       "    <tr>\n",
       "      <th>4</th>\n",
       "      <td>e4</td>\n",
       "      <td>16</td>\n",
       "      <td>1</td>\n",
       "      <td>3</td>\n",
       "      <td>3</td>\n",
       "      <td>I</td>\n",
       "      <td>2</td>\n",
       "      <td>1</td>\n",
       "      <td>0</td>\n",
       "      <td>0</td>\n",
       "      <td>0</td>\n",
       "      <td>f</td>\n",
       "      <td>K284-I</td>\n",
       "    </tr>\n",
       "  </tbody>\n",
       "</table>\n",
       "</div>"
      ],
      "text/plain": [
       "  note_name  duration  measure  beat  subdiv harm  from_root  NCT  BI2  CI  \\\n",
       "0        d5         4        1     1       1    I          1    0    0   0   \n",
       "1         r         4        1     2       1    0          0    0    0   0   \n",
       "2        g4        16        1     3       1    I          4    1    0   0   \n",
       "3       f#4        16        1     3       2    I          3    0    0   0   \n",
       "4        e4        16        1     3       3    I          2    1    0   0   \n",
       "\n",
       "   trill dynamic movement_name  \n",
       "0      0       f        K284-I  \n",
       "1      0       f        K284-I  \n",
       "2      0       f        K284-I  \n",
       "3      0       f        K284-I  \n",
       "4      0       f        K284-I  "
      ]
     },
     "execution_count": 224,
     "metadata": {},
     "output_type": "execute_result"
    }
   ],
   "source": [
    "movement_df_dict[movement_names[1]].head()"
   ]
  },
  {
   "cell_type": "markdown",
   "id": "8e727884",
   "metadata": {},
   "source": [
    "make stacked df"
   ]
  },
  {
   "cell_type": "code",
   "execution_count": 251,
   "id": "a9083000",
   "metadata": {
    "scrolled": true
   },
   "outputs": [],
   "source": [
    "stacked_movement_df = pd.concat(movement_df_list)"
   ]
  },
  {
   "cell_type": "code",
   "execution_count": 252,
   "id": "6618d13f",
   "metadata": {},
   "outputs": [],
   "source": [
    "stacked_movement_df.reset_index(inplace=True)"
   ]
  },
  {
   "cell_type": "code",
   "execution_count": 264,
   "id": "b56605ef",
   "metadata": {
    "scrolled": true
   },
   "outputs": [],
   "source": [
    "stacked_movement_df.rename(columns={'index':'note_num'}, inplace=True)"
   ]
  },
  {
   "cell_type": "code",
   "execution_count": 290,
   "id": "a5f29f6f",
   "metadata": {},
   "outputs": [],
   "source": [
    "def get_stacked_movement_df():\n",
    "    \n",
    "    stacked = pd.concat(movement_df_list)\n",
    "    stacked.reset_index(inplace = True)\n",
    "    stacked.rename(columns={'index':'note_num'}, inplace=True)\n",
    "    \n",
    "    return stacked"
   ]
  },
  {
   "cell_type": "code",
   "execution_count": 291,
   "id": "ae1f9d20",
   "metadata": {},
   "outputs": [],
   "source": [
    "stacked = get_stacked_movement_df()"
   ]
  },
  {
   "cell_type": "code",
   "execution_count": 288,
   "id": "4f8adada",
   "metadata": {},
   "outputs": [],
   "source": [
    "path = '../raw_data/'\n",
    "name = 'stacked_movement_df.csv'\n",
    "stacked.to_csv(join(path,name))"
   ]
  },
  {
   "cell_type": "code",
   "execution_count": 280,
   "id": "6590469a",
   "metadata": {},
   "outputs": [
    {
     "data": {
      "text/plain": [
       "('../raw_data/', 'stacked_movement_df.csv')"
      ]
     },
     "execution_count": 280,
     "metadata": {},
     "output_type": "execute_result"
    }
   ],
   "source": [
    "path, name"
   ]
  },
  {
   "cell_type": "code",
   "execution_count": 281,
   "id": "b73724b9",
   "metadata": {},
   "outputs": [
    {
     "data": {
      "text/plain": [
       "'../raw_data/stacked_movement_df.csv'"
      ]
     },
     "execution_count": 281,
     "metadata": {},
     "output_type": "execute_result"
    }
   ],
   "source": [
    "join(path,name)"
   ]
  },
  {
   "cell_type": "code",
   "execution_count": 294,
   "id": "8981085c",
   "metadata": {},
   "outputs": [],
   "source": [
    "def export_stacked():\n",
    "    \n",
    "    path = '../raw_data/'\n",
    "    name = 'stacked_movement_df.csv'\n",
    "    stacked.to_csv(join(path,name)) #will overwrite curent file if same name so can be rerun\n",
    "    \n",
    "    "
   ]
  },
  {
   "cell_type": "code",
   "execution_count": 293,
   "id": "2e158970",
   "metadata": {},
   "outputs": [],
   "source": [
    "export_stacked()"
   ]
  },
  {
   "cell_type": "code",
   "execution_count": 257,
   "id": "2ef4e714",
   "metadata": {},
   "outputs": [
    {
     "data": {
      "text/html": [
       "<div>\n",
       "<style scoped>\n",
       "    .dataframe tbody tr th:only-of-type {\n",
       "        vertical-align: middle;\n",
       "    }\n",
       "\n",
       "    .dataframe tbody tr th {\n",
       "        vertical-align: top;\n",
       "    }\n",
       "\n",
       "    .dataframe thead th {\n",
       "        text-align: right;\n",
       "    }\n",
       "</style>\n",
       "<table border=\"1\" class=\"dataframe\">\n",
       "  <thead>\n",
       "    <tr style=\"text-align: right;\">\n",
       "      <th></th>\n",
       "      <th>index</th>\n",
       "      <th>note_name</th>\n",
       "      <th>duration</th>\n",
       "      <th>measure</th>\n",
       "      <th>beat</th>\n",
       "      <th>subdiv</th>\n",
       "      <th>harm</th>\n",
       "      <th>from_root</th>\n",
       "      <th>NCT</th>\n",
       "      <th>BI2</th>\n",
       "      <th>CI</th>\n",
       "      <th>trill</th>\n",
       "      <th>dynamic</th>\n",
       "      <th>movement_name</th>\n",
       "    </tr>\n",
       "  </thead>\n",
       "  <tbody>\n",
       "    <tr>\n",
       "      <th>28</th>\n",
       "      <td>9</td>\n",
       "      <td>d</td>\n",
       "      <td>16</td>\n",
       "      <td>1</td>\n",
       "      <td>4</td>\n",
       "      <td>4</td>\n",
       "      <td>I</td>\n",
       "      <td>1</td>\n",
       "      <td>0</td>\n",
       "      <td>0</td>\n",
       "      <td>0</td>\n",
       "      <td>0</td>\n",
       "      <td>f</td>\n",
       "      <td>K284-I</td>\n",
       "    </tr>\n",
       "    <tr>\n",
       "      <th>893</th>\n",
       "      <td>10</td>\n",
       "      <td>d</td>\n",
       "      <td>8</td>\n",
       "      <td>4</td>\n",
       "      <td>1</td>\n",
       "      <td>2</td>\n",
       "      <td>V</td>\n",
       "      <td>3</td>\n",
       "      <td>0</td>\n",
       "      <td>0</td>\n",
       "      <td>1</td>\n",
       "      <td>0</td>\n",
       "      <td>p</td>\n",
       "      <td>K498a-II</td>\n",
       "    </tr>\n",
       "  </tbody>\n",
       "</table>\n",
       "</div>"
      ],
      "text/plain": [
       "     index note_name duration  measure  beat subdiv harm  from_root  NCT  BI2  \\\n",
       "28       9         d       16        1     4      4    I          1    0    0   \n",
       "893     10         d        8        4     1      2    V          3    0    0   \n",
       "\n",
       "     CI  trill dynamic movement_name  \n",
       "28    0      0       f        K284-I  \n",
       "893   1      0       p      K498a-II  "
      ]
     },
     "execution_count": 257,
     "metadata": {},
     "output_type": "execute_result"
    }
   ],
   "source": [
    "stacked_movement_df[stacked_movement_df.note_name == 'd']"
   ]
  },
  {
   "cell_type": "code",
   "execution_count": 258,
   "id": "d0c920c2",
   "metadata": {},
   "outputs": [
    {
     "data": {
      "text/plain": [
       "c5     166\n",
       "d5     144\n",
       "f5     128\n",
       "e5      98\n",
       "g5      92\n",
       "a4      89\n",
       "bb4     81\n",
       "g4      68\n",
       "r       68\n",
       "b4      64\n",
       "eb5     55\n",
       "a5      46\n",
       "f4      44\n",
       "c#5     27\n",
       "f#5     24\n",
       "e4      21\n",
       "bb5     20\n",
       "ab4     19\n",
       "d4      14\n",
       "g#4     11\n",
       "c6      11\n",
       "b5      11\n",
       "eb4     10\n",
       "f#4     10\n",
       "ab5      9\n",
       "c4       6\n",
       "c#4      4\n",
       "g#5      4\n",
       "d#5      3\n",
       "e#5      3\n",
       "a3       3\n",
       "b3       2\n",
       "d        2\n",
       "db5      2\n",
       "c#6      1\n",
       "d6       1\n",
       "bb3      1\n",
       "d#4      1\n",
       "f6       1\n",
       "Name: note_name, dtype: int64"
      ]
     },
     "execution_count": 258,
     "metadata": {},
     "output_type": "execute_result"
    }
   ],
   "source": [
    "stacked_movement_df.note_name.value_counts()"
   ]
  },
  {
   "cell_type": "code",
   "execution_count": null,
   "id": "7fe839cf",
   "metadata": {},
   "outputs": [],
   "source": []
  }
 ],
 "metadata": {
  "kernelspec": {
   "display_name": "Python 3 (ipykernel)",
   "language": "python",
   "name": "python3"
  },
  "language_info": {
   "codemirror_mode": {
    "name": "ipython",
    "version": 3
   },
   "file_extension": ".py",
   "mimetype": "text/x-python",
   "name": "python",
   "nbconvert_exporter": "python",
   "pygments_lexer": "ipython3",
   "version": "3.8.12"
  },
  "toc": {
   "base_numbering": 1,
   "nav_menu": {},
   "number_sections": true,
   "sideBar": true,
   "skip_h1_title": false,
   "title_cell": "Table of Contents",
   "title_sidebar": "Contents",
   "toc_cell": false,
   "toc_position": {},
   "toc_section_display": true,
   "toc_window_display": false
  }
 },
 "nbformat": 4,
 "nbformat_minor": 5
}

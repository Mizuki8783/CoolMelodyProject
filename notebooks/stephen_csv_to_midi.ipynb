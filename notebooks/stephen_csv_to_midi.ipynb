{
 "cells": [
  {
   "cell_type": "markdown",
   "id": "6176a536",
   "metadata": {},
   "source": [
    "## CSV to midi"
   ]
  },
  {
   "cell_type": "markdown",
   "id": "222d5a40",
   "metadata": {},
   "source": [
    "### Setup"
   ]
  },
  {
   "cell_type": "code",
   "execution_count": 1,
   "id": "8426d8d7",
   "metadata": {},
   "outputs": [],
   "source": [
    "import pandas as pd\n",
    "import numpy as np\n",
    "import pretty_midi\n",
    "# import fluidsynth\n",
    "# from IPython import display\n",
    "from IPython.display import Image, Audio\n",
    "import glob\n",
    "import collections\n",
    "import tensorflow as tf\n",
    "from tensorflow.keras.models import Sequential\n",
    "from tensorflow.keras.layers import LSTM, Dense, Dropout\n",
    "from tensorflow.keras.utils import to_categorical\n",
    "from tensorflow.keras.optimizers import RMSprop\n",
    "from tensorflow.keras.callbacks import EarlyStopping\n",
    "import matplotlib.pyplot as plt"
   ]
  },
  {
   "cell_type": "code",
   "execution_count": 2,
   "id": "8b5ec55a",
   "metadata": {},
   "outputs": [
    {
     "name": "stdout",
     "output_type": "stream",
     "text": [
      "Number of files: 57\n",
      "first file: ../raw_data/mozart_sonatas/mps - K311-I.csv\n"
     ]
    }
   ],
   "source": [
    "filenames = glob.glob('../raw_data/mozart_sonatas/mps - K*')\n",
    "print('Number of files:', len(filenames))\n",
    "print('first file:', filenames[0])"
   ]
  },
  {
   "cell_type": "markdown",
   "id": "3ece1cbf",
   "metadata": {},
   "source": [
    "**create pieces df (each row is one piece)**"
   ]
  },
  {
   "cell_type": "code",
   "execution_count": 3,
   "id": "3d09afe5",
   "metadata": {},
   "outputs": [
    {
     "data": {
      "text/html": [
       "<div>\n",
       "<style scoped>\n",
       "    .dataframe tbody tr th:only-of-type {\n",
       "        vertical-align: middle;\n",
       "    }\n",
       "\n",
       "    .dataframe tbody tr th {\n",
       "        vertical-align: top;\n",
       "    }\n",
       "\n",
       "    .dataframe thead th {\n",
       "        text-align: right;\n",
       "    }\n",
       "</style>\n",
       "<table border=\"1\" class=\"dataframe\">\n",
       "  <thead>\n",
       "    <tr style=\"text-align: right;\">\n",
       "      <th></th>\n",
       "      <th>name</th>\n",
       "      <th>key</th>\n",
       "      <th>title</th>\n",
       "      <th>time_sig</th>\n",
       "      <th>tempo marking</th>\n",
       "      <th>bpm</th>\n",
       "      <th>pickup_bar</th>\n",
       "      <th>pickup_length</th>\n",
       "    </tr>\n",
       "  </thead>\n",
       "  <tbody>\n",
       "    <tr>\n",
       "      <th>0</th>\n",
       "      <td>K545-I</td>\n",
       "      <td>c major</td>\n",
       "      <td>NaN</td>\n",
       "      <td>common</td>\n",
       "      <td>allegro</td>\n",
       "      <td>4=132</td>\n",
       "      <td>0</td>\n",
       "      <td>0</td>\n",
       "    </tr>\n",
       "    <tr>\n",
       "      <th>1</th>\n",
       "      <td>K545-II</td>\n",
       "      <td>g major</td>\n",
       "      <td>NaN</td>\n",
       "      <td>3/4</td>\n",
       "      <td>andante</td>\n",
       "      <td>4=60</td>\n",
       "      <td>0</td>\n",
       "      <td>0</td>\n",
       "    </tr>\n",
       "    <tr>\n",
       "      <th>2</th>\n",
       "      <td>K545-III</td>\n",
       "      <td>c major</td>\n",
       "      <td>Rondo</td>\n",
       "      <td>2/4</td>\n",
       "      <td>allegretto grazioso</td>\n",
       "      <td>4=104</td>\n",
       "      <td>1</td>\n",
       "      <td>4</td>\n",
       "    </tr>\n",
       "    <tr>\n",
       "      <th>3</th>\n",
       "      <td>K283-I</td>\n",
       "      <td>g major</td>\n",
       "      <td>NaN</td>\n",
       "      <td>3/4</td>\n",
       "      <td>allegro</td>\n",
       "      <td>4=138</td>\n",
       "      <td>1</td>\n",
       "      <td>4</td>\n",
       "    </tr>\n",
       "    <tr>\n",
       "      <th>4</th>\n",
       "      <td>K283-II</td>\n",
       "      <td>c major</td>\n",
       "      <td>NaN</td>\n",
       "      <td>common</td>\n",
       "      <td>andante</td>\n",
       "      <td>4=58</td>\n",
       "      <td>0</td>\n",
       "      <td>0</td>\n",
       "    </tr>\n",
       "  </tbody>\n",
       "</table>\n",
       "</div>"
      ],
      "text/plain": [
       "       name      key  title time_sig        tempo marking    bpm  pickup_bar  \\\n",
       "0    K545-I  c major    NaN   common              allegro  4=132           0   \n",
       "1   K545-II  g major    NaN      3/4              andante   4=60           0   \n",
       "2  K545-III  c major  Rondo      2/4  allegretto grazioso  4=104           1   \n",
       "3    K283-I  g major    NaN      3/4              allegro  4=138           1   \n",
       "4   K283-II  c major    NaN   common              andante   4=58           0   \n",
       "\n",
       "  pickup_length  \n",
       "0             0  \n",
       "1             0  \n",
       "2             4  \n",
       "3             4  \n",
       "4             0  "
      ]
     },
     "execution_count": 3,
     "metadata": {},
     "output_type": "execute_result"
    }
   ],
   "source": [
    "pieces_df = pd.read_csv('../raw_data/mozart_sonatas/mps - pieces.csv')\n",
    "pieces_df.head()"
   ]
  },
  {
   "cell_type": "markdown",
   "id": "8e0aacb2",
   "metadata": {},
   "source": [
    "### Normalize pitches to C major / A minor"
   ]
  },
  {
   "cell_type": "markdown",
   "id": "bc0d2571",
   "metadata": {},
   "source": [
    "**create key converter dictionaries**"
   ]
  },
  {
   "cell_type": "code",
   "execution_count": 4,
   "id": "b36877f7",
   "metadata": {},
   "outputs": [
    {
     "data": {
      "text/plain": [
       "{'a major',\n",
       " 'a minor',\n",
       " 'bb major',\n",
       " 'c major',\n",
       " 'c minor',\n",
       " 'd major',\n",
       " 'eb major',\n",
       " 'f major',\n",
       " 'f minor',\n",
       " 'g major'}"
      ]
     },
     "execution_count": 4,
     "metadata": {},
     "output_type": "execute_result"
    }
   ],
   "source": [
    "all_keys = set([key for key in pieces_df.key.value_counts().index])\n",
    "all_keys"
   ]
  },
  {
   "cell_type": "code",
   "execution_count": 5,
   "id": "e1899327",
   "metadata": {},
   "outputs": [],
   "source": [
    "# key: # of half steps to add to get to c major / a minor\n",
    "maj_key_converter_dict = {'a major': 3, 'bb major': 2, 'c major': 0, 'd major': -2, 'eb major': -3, 'f major': -5, 'g major': 5}\n",
    "min_key_converter_dict = {'a minor': 0, 'c minor': -3, 'f minor': 4}"
   ]
  },
  {
   "cell_type": "code",
   "execution_count": 6,
   "id": "59ad640c",
   "metadata": {},
   "outputs": [],
   "source": [
    "def normalize_pitches(x, piece_key_type, piece_key):\n",
    "    if x > 0:\n",
    "        if piece_key_type == 'major':\n",
    "            x += maj_key_converter_dict[piece_key]\n",
    "        else:\n",
    "            x += min_key_converter_dict[piece_key]\n",
    "    return x"
   ]
  },
  {
   "cell_type": "markdown",
   "id": "694dcaf8",
   "metadata": {},
   "source": [
    "### Create duration (in seconds) column"
   ]
  },
  {
   "cell_type": "code",
   "execution_count": 7,
   "id": "7bd11799",
   "metadata": {},
   "outputs": [
    {
     "data": {
      "text/plain": [
       "{'2', '2d', '4', '4d', '8'}"
      ]
     },
     "execution_count": 7,
     "metadata": {},
     "output_type": "execute_result"
    }
   ],
   "source": [
    "bpm_beat_types = set([bpm.split('=')[0] for bpm in pieces_df.bpm.value_counts().index])\n",
    "bpm_beat_types"
   ]
  },
  {
   "cell_type": "code",
   "execution_count": 8,
   "id": "72958d0e",
   "metadata": {},
   "outputs": [],
   "source": [
    "# bpm note value: amount to multiply bpm by to convert bpm to quarter notes\n",
    "bpm_converter_dict = {'2': 2, '2d': 3, '4': 1, '4d': 1.5, '8': 0.5}"
   ]
  },
  {
   "cell_type": "code",
   "execution_count": 9,
   "id": "c966c3d1",
   "metadata": {},
   "outputs": [],
   "source": [
    "# duration: amount to multiply spb (seconds per beat) by to get duration in seconds\n",
    "beat_dict = {\n",
    "    '1': 4, \n",
    "    '2': 2, \n",
    "    '4': 1, \n",
    "    '8': 0.5,\n",
    "    '16': 0.25,\n",
    "    '32': 0.125,\n",
    "    '64': 0.0625\n",
    "}"
   ]
  },
  {
   "cell_type": "code",
   "execution_count": 10,
   "id": "d881b90a",
   "metadata": {},
   "outputs": [],
   "source": [
    "def duration_to_seconds(x, piece_spb):\n",
    "    if type(x) != 'str':\n",
    "        x = str(x)\n",
    "    if x[-2:] == 'dd':\n",
    "        s = piece_spb * beat_dict[x[:-2]] * 1.75\n",
    "    elif x[-1] == 'd':\n",
    "        s = piece_spb * beat_dict[x[:-1]] * 1.5\n",
    "    else:\n",
    "        s = piece_spb * beat_dict[x]\n",
    "    return s"
   ]
  },
  {
   "cell_type": "markdown",
   "id": "ece9a515",
   "metadata": {},
   "source": [
    "### preprocess all dfs"
   ]
  },
  {
   "cell_type": "code",
   "execution_count": 12,
   "id": "5808a4d2",
   "metadata": {},
   "outputs": [],
   "source": [
    "def process_df(filename):\n",
    "    \n",
    "    # extract the K number\n",
    "    k_num = filename.split(' - ')[1].split('.csv')[0].strip(' ')\n",
    "    \n",
    "    # create df\n",
    "    df = pd.read_csv(filename)  # make df\n",
    "    \n",
    "    # normalize pitch\n",
    "    df['pitch'] = df.note_name.apply(lambda x: pretty_midi.note_name_to_number(x) if x != 'r' else 0)  \n",
    "    piece_key = pieces_df[pieces_df['name'] == k_num]['key'].values[0].strip(' ')\n",
    "    piece_key_type = piece_key.split(' ')[1].strip(' ')\n",
    "    df['pitch_norm'] = df.pitch.apply(normalize_pitches, args=(piece_key_type, piece_key))\n",
    "    \n",
    "    # get duration in seconds\n",
    "    piece_bpm = pieces_df[pieces_df['name'] == k_num]['bpm'].values[0].split('=')\n",
    "    piece_bpm_norm = int(bpm_converter_dict[piece_bpm[0]] * int(piece_bpm[1]))\n",
    "    piece_spb = 60 / piece_bpm_norm\n",
    "    df['dur(s)'] = df.duration.apply(duration_to_seconds, args=(piece_spb,))\n",
    "    \n",
    "    return df"
   ]
  },
  {
   "cell_type": "code",
   "execution_count": 13,
   "id": "0fe9b69e",
   "metadata": {
    "code_folding": []
   },
   "outputs": [],
   "source": [
    "all_csv_dfs = []\n",
    "for file in filenames:\n",
    "    all_csv_dfs.append(process_df(file))"
   ]
  },
  {
   "cell_type": "code",
   "execution_count": 14,
   "id": "4bdfbf30",
   "metadata": {},
   "outputs": [
    {
     "data": {
      "text/html": [
       "<div>\n",
       "<style scoped>\n",
       "    .dataframe tbody tr th:only-of-type {\n",
       "        vertical-align: middle;\n",
       "    }\n",
       "\n",
       "    .dataframe tbody tr th {\n",
       "        vertical-align: top;\n",
       "    }\n",
       "\n",
       "    .dataframe thead th {\n",
       "        text-align: right;\n",
       "    }\n",
       "</style>\n",
       "<table border=\"1\" class=\"dataframe\">\n",
       "  <thead>\n",
       "    <tr style=\"text-align: right;\">\n",
       "      <th></th>\n",
       "      <th>note_name</th>\n",
       "      <th>duration</th>\n",
       "      <th>measure</th>\n",
       "      <th>beat</th>\n",
       "      <th>subdiv</th>\n",
       "      <th>harm</th>\n",
       "      <th>from_root</th>\n",
       "      <th>NCT</th>\n",
       "      <th>BI2</th>\n",
       "      <th>CI</th>\n",
       "      <th>trill</th>\n",
       "      <th>dynamic</th>\n",
       "      <th>pitch</th>\n",
       "      <th>pitch_norm</th>\n",
       "      <th>dur(s)</th>\n",
       "    </tr>\n",
       "  </thead>\n",
       "  <tbody>\n",
       "    <tr>\n",
       "      <th>0</th>\n",
       "      <td>d5</td>\n",
       "      <td>4</td>\n",
       "      <td>1</td>\n",
       "      <td>1</td>\n",
       "      <td>1</td>\n",
       "      <td>I</td>\n",
       "      <td>1</td>\n",
       "      <td>0</td>\n",
       "      <td>0</td>\n",
       "      <td>0</td>\n",
       "      <td>0</td>\n",
       "      <td>f</td>\n",
       "      <td>74</td>\n",
       "      <td>72</td>\n",
       "      <td>0.454545</td>\n",
       "    </tr>\n",
       "    <tr>\n",
       "      <th>1</th>\n",
       "      <td>r</td>\n",
       "      <td>4</td>\n",
       "      <td>1</td>\n",
       "      <td>2</td>\n",
       "      <td>1</td>\n",
       "      <td>0</td>\n",
       "      <td>0</td>\n",
       "      <td>0</td>\n",
       "      <td>0</td>\n",
       "      <td>0</td>\n",
       "      <td>0</td>\n",
       "      <td>f</td>\n",
       "      <td>0</td>\n",
       "      <td>0</td>\n",
       "      <td>0.454545</td>\n",
       "    </tr>\n",
       "    <tr>\n",
       "      <th>2</th>\n",
       "      <td>g5</td>\n",
       "      <td>16</td>\n",
       "      <td>1</td>\n",
       "      <td>3</td>\n",
       "      <td>1</td>\n",
       "      <td>I</td>\n",
       "      <td>4</td>\n",
       "      <td>1</td>\n",
       "      <td>0</td>\n",
       "      <td>0</td>\n",
       "      <td>0</td>\n",
       "      <td>f</td>\n",
       "      <td>79</td>\n",
       "      <td>77</td>\n",
       "      <td>0.113636</td>\n",
       "    </tr>\n",
       "    <tr>\n",
       "      <th>3</th>\n",
       "      <td>f#5</td>\n",
       "      <td>16</td>\n",
       "      <td>1</td>\n",
       "      <td>3</td>\n",
       "      <td>2</td>\n",
       "      <td>I</td>\n",
       "      <td>3</td>\n",
       "      <td>0</td>\n",
       "      <td>0</td>\n",
       "      <td>0</td>\n",
       "      <td>0</td>\n",
       "      <td>f</td>\n",
       "      <td>78</td>\n",
       "      <td>76</td>\n",
       "      <td>0.113636</td>\n",
       "    </tr>\n",
       "    <tr>\n",
       "      <th>4</th>\n",
       "      <td>e5</td>\n",
       "      <td>16</td>\n",
       "      <td>1</td>\n",
       "      <td>3</td>\n",
       "      <td>3</td>\n",
       "      <td>I</td>\n",
       "      <td>2</td>\n",
       "      <td>1</td>\n",
       "      <td>0</td>\n",
       "      <td>0</td>\n",
       "      <td>0</td>\n",
       "      <td>f</td>\n",
       "      <td>76</td>\n",
       "      <td>74</td>\n",
       "      <td>0.113636</td>\n",
       "    </tr>\n",
       "  </tbody>\n",
       "</table>\n",
       "</div>"
      ],
      "text/plain": [
       "  note_name  duration  measure  beat  subdiv harm  from_root  NCT  BI2  CI  \\\n",
       "0        d5         4        1     1       1    I          1    0    0   0   \n",
       "1         r         4        1     2       1    0          0    0    0   0   \n",
       "2        g5        16        1     3       1    I          4    1    0   0   \n",
       "3       f#5        16        1     3       2    I          3    0    0   0   \n",
       "4        e5        16        1     3       3    I          2    1    0   0   \n",
       "\n",
       "   trill dynamic  pitch  pitch_norm    dur(s)  \n",
       "0      0       f     74          72  0.454545  \n",
       "1      0       f      0           0  0.454545  \n",
       "2      0       f     79          77  0.113636  \n",
       "3      0       f     78          76  0.113636  \n",
       "4      0       f     76          74  0.113636  "
      ]
     },
     "execution_count": 14,
     "metadata": {},
     "output_type": "execute_result"
    }
   ],
   "source": [
    "all_csv_dfs[0].head()"
   ]
  },
  {
   "cell_type": "markdown",
   "id": "d901c5b9",
   "metadata": {},
   "source": [
    "### Using categorical target"
   ]
  },
  {
   "cell_type": "code",
   "execution_count": 15,
   "id": "cd59342d",
   "metadata": {},
   "outputs": [],
   "source": [
    "# make columns of each pitch-duration pair transposed to 12 keys\n",
    "\n",
    "for df in all_csv_dfs:\n",
    "    for i in range(-6, 6):\n",
    "        pitch_duration = []\n",
    "        for ind, val in df.iterrows():\n",
    "            if val.note_name == 'r':\n",
    "                pitch_duration.append(str(0) + '-' + str(val.duration))\n",
    "            else:\n",
    "                pitch_duration.append(str(int(val.pitch_norm + i)) + '-' + str(val.duration))\n",
    "        df[f'pitch_dur{i}'] = pitch_duration"
   ]
  },
  {
   "cell_type": "code",
   "execution_count": 16,
   "id": "f5a90930",
   "metadata": {},
   "outputs": [
    {
     "data": {
      "text/html": [
       "<div>\n",
       "<style scoped>\n",
       "    .dataframe tbody tr th:only-of-type {\n",
       "        vertical-align: middle;\n",
       "    }\n",
       "\n",
       "    .dataframe tbody tr th {\n",
       "        vertical-align: top;\n",
       "    }\n",
       "\n",
       "    .dataframe thead th {\n",
       "        text-align: right;\n",
       "    }\n",
       "</style>\n",
       "<table border=\"1\" class=\"dataframe\">\n",
       "  <thead>\n",
       "    <tr style=\"text-align: right;\">\n",
       "      <th></th>\n",
       "      <th>note_name</th>\n",
       "      <th>duration</th>\n",
       "      <th>measure</th>\n",
       "      <th>beat</th>\n",
       "      <th>subdiv</th>\n",
       "      <th>harm</th>\n",
       "      <th>from_root</th>\n",
       "      <th>NCT</th>\n",
       "      <th>BI2</th>\n",
       "      <th>CI</th>\n",
       "      <th>...</th>\n",
       "      <th>pitch_dur-4</th>\n",
       "      <th>pitch_dur-3</th>\n",
       "      <th>pitch_dur-2</th>\n",
       "      <th>pitch_dur-1</th>\n",
       "      <th>pitch_dur0</th>\n",
       "      <th>pitch_dur1</th>\n",
       "      <th>pitch_dur2</th>\n",
       "      <th>pitch_dur3</th>\n",
       "      <th>pitch_dur4</th>\n",
       "      <th>pitch_dur5</th>\n",
       "    </tr>\n",
       "  </thead>\n",
       "  <tbody>\n",
       "    <tr>\n",
       "      <th>0</th>\n",
       "      <td>d5</td>\n",
       "      <td>4</td>\n",
       "      <td>1</td>\n",
       "      <td>1</td>\n",
       "      <td>1</td>\n",
       "      <td>I</td>\n",
       "      <td>1</td>\n",
       "      <td>0</td>\n",
       "      <td>0</td>\n",
       "      <td>0</td>\n",
       "      <td>...</td>\n",
       "      <td>68-4</td>\n",
       "      <td>69-4</td>\n",
       "      <td>70-4</td>\n",
       "      <td>71-4</td>\n",
       "      <td>72-4</td>\n",
       "      <td>73-4</td>\n",
       "      <td>74-4</td>\n",
       "      <td>75-4</td>\n",
       "      <td>76-4</td>\n",
       "      <td>77-4</td>\n",
       "    </tr>\n",
       "    <tr>\n",
       "      <th>1</th>\n",
       "      <td>r</td>\n",
       "      <td>4</td>\n",
       "      <td>1</td>\n",
       "      <td>2</td>\n",
       "      <td>1</td>\n",
       "      <td>0</td>\n",
       "      <td>0</td>\n",
       "      <td>0</td>\n",
       "      <td>0</td>\n",
       "      <td>0</td>\n",
       "      <td>...</td>\n",
       "      <td>0-4</td>\n",
       "      <td>0-4</td>\n",
       "      <td>0-4</td>\n",
       "      <td>0-4</td>\n",
       "      <td>0-4</td>\n",
       "      <td>0-4</td>\n",
       "      <td>0-4</td>\n",
       "      <td>0-4</td>\n",
       "      <td>0-4</td>\n",
       "      <td>0-4</td>\n",
       "    </tr>\n",
       "    <tr>\n",
       "      <th>2</th>\n",
       "      <td>g5</td>\n",
       "      <td>16</td>\n",
       "      <td>1</td>\n",
       "      <td>3</td>\n",
       "      <td>1</td>\n",
       "      <td>I</td>\n",
       "      <td>4</td>\n",
       "      <td>1</td>\n",
       "      <td>0</td>\n",
       "      <td>0</td>\n",
       "      <td>...</td>\n",
       "      <td>73-16</td>\n",
       "      <td>74-16</td>\n",
       "      <td>75-16</td>\n",
       "      <td>76-16</td>\n",
       "      <td>77-16</td>\n",
       "      <td>78-16</td>\n",
       "      <td>79-16</td>\n",
       "      <td>80-16</td>\n",
       "      <td>81-16</td>\n",
       "      <td>82-16</td>\n",
       "    </tr>\n",
       "    <tr>\n",
       "      <th>3</th>\n",
       "      <td>f#5</td>\n",
       "      <td>16</td>\n",
       "      <td>1</td>\n",
       "      <td>3</td>\n",
       "      <td>2</td>\n",
       "      <td>I</td>\n",
       "      <td>3</td>\n",
       "      <td>0</td>\n",
       "      <td>0</td>\n",
       "      <td>0</td>\n",
       "      <td>...</td>\n",
       "      <td>72-16</td>\n",
       "      <td>73-16</td>\n",
       "      <td>74-16</td>\n",
       "      <td>75-16</td>\n",
       "      <td>76-16</td>\n",
       "      <td>77-16</td>\n",
       "      <td>78-16</td>\n",
       "      <td>79-16</td>\n",
       "      <td>80-16</td>\n",
       "      <td>81-16</td>\n",
       "    </tr>\n",
       "    <tr>\n",
       "      <th>4</th>\n",
       "      <td>e5</td>\n",
       "      <td>16</td>\n",
       "      <td>1</td>\n",
       "      <td>3</td>\n",
       "      <td>3</td>\n",
       "      <td>I</td>\n",
       "      <td>2</td>\n",
       "      <td>1</td>\n",
       "      <td>0</td>\n",
       "      <td>0</td>\n",
       "      <td>...</td>\n",
       "      <td>70-16</td>\n",
       "      <td>71-16</td>\n",
       "      <td>72-16</td>\n",
       "      <td>73-16</td>\n",
       "      <td>74-16</td>\n",
       "      <td>75-16</td>\n",
       "      <td>76-16</td>\n",
       "      <td>77-16</td>\n",
       "      <td>78-16</td>\n",
       "      <td>79-16</td>\n",
       "    </tr>\n",
       "  </tbody>\n",
       "</table>\n",
       "<p>5 rows × 27 columns</p>\n",
       "</div>"
      ],
      "text/plain": [
       "  note_name  duration  measure  beat  subdiv harm  from_root  NCT  BI2  CI  \\\n",
       "0        d5         4        1     1       1    I          1    0    0   0   \n",
       "1         r         4        1     2       1    0          0    0    0   0   \n",
       "2        g5        16        1     3       1    I          4    1    0   0   \n",
       "3       f#5        16        1     3       2    I          3    0    0   0   \n",
       "4        e5        16        1     3       3    I          2    1    0   0   \n",
       "\n",
       "   ...  pitch_dur-4 pitch_dur-3  pitch_dur-2  pitch_dur-1  pitch_dur0  \\\n",
       "0  ...         68-4        69-4         70-4         71-4        72-4   \n",
       "1  ...          0-4         0-4          0-4          0-4         0-4   \n",
       "2  ...        73-16       74-16        75-16        76-16       77-16   \n",
       "3  ...        72-16       73-16        74-16        75-16       76-16   \n",
       "4  ...        70-16       71-16        72-16        73-16       74-16   \n",
       "\n",
       "  pitch_dur1 pitch_dur2 pitch_dur3 pitch_dur4 pitch_dur5  \n",
       "0       73-4       74-4       75-4       76-4       77-4  \n",
       "1        0-4        0-4        0-4        0-4        0-4  \n",
       "2      78-16      79-16      80-16      81-16      82-16  \n",
       "3      77-16      78-16      79-16      80-16      81-16  \n",
       "4      75-16      76-16      77-16      78-16      79-16  \n",
       "\n",
       "[5 rows x 27 columns]"
      ]
     },
     "execution_count": 16,
     "metadata": {},
     "output_type": "execute_result"
    }
   ],
   "source": [
    "all_csv_dfs[0].head()"
   ]
  },
  {
   "cell_type": "markdown",
   "id": "8423da3d",
   "metadata": {},
   "source": [
    "**creating clean csvs for api**"
   ]
  },
  {
   "cell_type": "code",
   "execution_count": 17,
   "id": "8952a152",
   "metadata": {},
   "outputs": [
    {
     "data": {
      "text/plain": [
       "33"
      ]
     },
     "execution_count": 17,
     "metadata": {},
     "output_type": "execute_result"
    }
   ],
   "source": [
    "# removing pieces with pickup bars or complex meters\n",
    "starter_dfs = []\n",
    "for df in all_csv_dfs:\n",
    "    subdiv_nums = df.subdiv.apply(lambda x: str(x)[0])\n",
    "    if df.measure[0] in ['0', 0] or int(max(subdiv_nums)) > 4:\n",
    "        continue\n",
    "    starter_dfs.append(df)\n",
    "\n",
    "len(starter_dfs)"
   ]
  },
  {
   "cell_type": "code",
   "execution_count": 19,
   "id": "7bc0668e",
   "metadata": {},
   "outputs": [],
   "source": [
    "for i, df in enumerate(starter_dfs):\n",
    "    df.to_csv(f\"../raw_data/clean_csvs/csv_{i}.csv\")"
   ]
  },
  {
   "cell_type": "markdown",
   "id": "45bce456",
   "metadata": {},
   "source": [
    "**cont.**"
   ]
  },
  {
   "cell_type": "code",
   "execution_count": 108,
   "id": "9adfe1a2",
   "metadata": {},
   "outputs": [
    {
     "data": {
      "text/plain": [
       "Index(['pitch_dur-6', 'pitch_dur-5', 'pitch_dur-4', 'pitch_dur-3',\n",
       "       'pitch_dur-2', 'pitch_dur-1', 'pitch_dur0', 'pitch_dur1', 'pitch_dur2',\n",
       "       'pitch_dur3', 'pitch_dur4', 'pitch_dur5'],\n",
       "      dtype='object')"
      ]
     },
     "execution_count": 108,
     "metadata": {},
     "output_type": "execute_result"
    }
   ],
   "source": [
    "all_csv_dfs[0].columns[15:27]"
   ]
  },
  {
   "cell_type": "code",
   "execution_count": 123,
   "id": "3801b771",
   "metadata": {},
   "outputs": [],
   "source": [
    "# Create mapping of all pitch_dur columns\n",
    "\n",
    "corpus = []\n",
    "list(all_csv_dfs[0]['pitch_dur-4']) + list(all_csv_dfs[0]['pitch_dur-3'])\n",
    "for df in all_csv_dfs:\n",
    "    for i in range(-6,6):\n",
    "        pitch_dur = list(df[f'pitch_dur{i}'])\n",
    "        corpus = corpus + pitch_dur        "
   ]
  },
  {
   "cell_type": "code",
   "execution_count": 126,
   "id": "bd8815fa",
   "metadata": {},
   "outputs": [
    {
     "name": "stdout",
     "output_type": "stream",
     "text": [
      "Total notes in dataset: 16368\n",
      "Total unique note / duration pairs in corpus: 380\n"
     ]
    }
   ],
   "source": [
    "count_num = collections.Counter(corpus)\n",
    "print(\"Total notes in dataset:\", len(corpus))\n",
    "print(\"Total unique note / duration pairs in corpus:\", len(count_num))"
   ]
  },
  {
   "cell_type": "code",
   "execution_count": 127,
   "id": "4b0ce36a",
   "metadata": {},
   "outputs": [
    {
     "name": "stdout",
     "output_type": "stream",
     "text": [
      "Average recurrence for a note in Corpus: 43.07368421052632\n",
      "Most frequent note in Corpus appeared: 480 times\n",
      "Least frequent note in Corpus appeared: 1 time\n"
     ]
    }
   ],
   "source": [
    "# Exploring the notes dictionary\n",
    "Notes = list(count_num.keys())\n",
    "Recurrence = list(count_num.values())\n",
    "\n",
    "# Average recurrence for a note in Corpus\n",
    "def Average(lst):\n",
    "    return sum(lst) / len(lst)\n",
    "print(\"Average recurrence for a note in Corpus:\", Average(Recurrence))\n",
    "print(\"Most frequent note in Corpus appeared:\", max(Recurrence), \"times\")\n",
    "print(\"Least frequent note in Corpus appeared:\", min(Recurrence), \"time\")"
   ]
  },
  {
   "cell_type": "code",
   "execution_count": 128,
   "id": "05e3dbd3",
   "metadata": {},
   "outputs": [
    {
     "name": "stdout",
     "output_type": "stream",
     "text": [
      "Total number of characters: 16368\n",
      "Number of unique characters: 380\n"
     ]
    }
   ],
   "source": [
    "# Storing all the unique characters present in the corpus to buid a mapping dict.\n",
    "symb = sorted(list(set(corpus)))\n",
    "\n",
    "L_corpus = len(corpus)  # length of corpus\n",
    "L_symb = len(symb)  # length of total unique characters\n",
    "\n",
    "# Building dictionary to access the vocabulary from indices and vice versa\n",
    "mapping = dict((c, i) for i, c in enumerate(symb))\n",
    "reverse_mapping = dict((i, c) for i, c in enumerate(symb))\n",
    "\n",
    "print(\"Total number of characters:\", L_corpus)\n",
    "print(\"Number of unique characters:\", L_symb)"
   ]
  },
  {
   "cell_type": "code",
   "execution_count": 132,
   "id": "0fd969d8",
   "metadata": {},
   "outputs": [
    {
     "name": "stdout",
     "output_type": "stream",
     "text": [
      "Total number of sequences in the corpus: 9528\n"
     ]
    }
   ],
   "source": [
    "# Splitting the corpus in equal length of strings and output target\n",
    "length = 10\n",
    "features = []\n",
    "targets = []\n",
    "for df in all_csv_dfs:\n",
    "    # make embedded list of pitch_dur columns\n",
    "    pitch_dur_columns = []\n",
    "    for i in range(-6,6):\n",
    "        pitch_dur_columns.append(list(df[f'pitch_dur{i}']))\n",
    "    # add create features of length 10 and targets\n",
    "    L_df = len(df)\n",
    "    for column in pitch_dur_columns:    \n",
    "        for i in range(0, L_df - length, 1):\n",
    "            feature = column[i:i + length]\n",
    "            target = column[i + length]\n",
    "            features.append([mapping[j] for j in feature])\n",
    "            targets.append(mapping[target])\n",
    "    \n",
    "L_datapoints = len(targets)\n",
    "print(\"Total number of sequences in the corpus:\", L_datapoints)"
   ]
  },
  {
   "cell_type": "code",
   "execution_count": 135,
   "id": "3c4000d7",
   "metadata": {},
   "outputs": [],
   "source": [
    "# reshape X and normalize\n",
    "X = (np.reshape(features, (L_datapoints, length, 1)))/ float(L_symb)\n",
    "# one hot encode the output variable\n",
    "y = to_categorical(targets)"
   ]
  },
  {
   "cell_type": "code",
   "execution_count": 180,
   "id": "59ca0f1d",
   "metadata": {},
   "outputs": [],
   "source": [
    "y_vals = np.eye(y_counts.shape[0])"
   ]
  },
  {
   "cell_type": "code",
   "execution_count": 183,
   "id": "2205da65",
   "metadata": {},
   "outputs": [
    {
     "ename": "TypeError",
     "evalue": "unhashable type: 'numpy.ndarray'",
     "output_type": "error",
     "traceback": [
      "\u001b[0;31m---------------------------------------------------------------------------\u001b[0m",
      "\u001b[0;31mTypeError\u001b[0m                                 Traceback (most recent call last)",
      "Input \u001b[0;32mIn [183]\u001b[0m, in \u001b[0;36m<cell line: 1>\u001b[0;34m()\u001b[0m\n\u001b[0;32m----> 1\u001b[0m class_weights \u001b[38;5;241m=\u001b[39m {y_val: (\u001b[38;5;241m1\u001b[39m\u001b[38;5;241m/\u001b[39mcount) \u001b[38;5;241m*\u001b[39m (\u001b[38;5;28mlen\u001b[39m(y)\u001b[38;5;241m/\u001b[39m\u001b[38;5;241m2\u001b[39m) \u001b[38;5;28;01mfor\u001b[39;00m (y_val, count) \u001b[38;5;129;01min\u001b[39;00m \u001b[38;5;28mzip\u001b[39m(y_vals, y_counts)}\n",
      "Input \u001b[0;32mIn [183]\u001b[0m, in \u001b[0;36m<dictcomp>\u001b[0;34m(.0)\u001b[0m\n\u001b[0;32m----> 1\u001b[0m class_weights \u001b[38;5;241m=\u001b[39m {y_val: (\u001b[38;5;241m1\u001b[39m\u001b[38;5;241m/\u001b[39mcount) \u001b[38;5;241m*\u001b[39m (\u001b[38;5;28mlen\u001b[39m(y)\u001b[38;5;241m/\u001b[39m\u001b[38;5;241m2\u001b[39m) \u001b[38;5;28;01mfor\u001b[39;00m (y_val, count) \u001b[38;5;129;01min\u001b[39;00m \u001b[38;5;28mzip\u001b[39m(y_vals, y_counts)}\n",
      "\u001b[0;31mTypeError\u001b[0m: unhashable type: 'numpy.ndarray'"
     ]
    }
   ],
   "source": [
    "class_weights = {y_val: (1/count) * (len(y)/2) for (y_val, count) in zip(y_vals, y_counts)}"
   ]
  },
  {
   "cell_type": "code",
   "execution_count": 169,
   "id": "f48d6be8",
   "metadata": {},
   "outputs": [
    {
     "data": {
      "text/plain": [
       "array([ 36., 144., 276.,   0.,   2.,   1.,   2.,   1.,   2.,   1.,   2.,\n",
       "         1.,   3.,   0.,   1.,   2.,   3.,   3.,   0.,   1.,   2.,   3.,\n",
       "         6.,   0.,   1.,   2.,  10.,   2.,   8.,   0.,   1.,   3.,   6.,\n",
       "        20.,   1.,   2.,   8.,   0.,   1.,   3.,   6.,  20.,   1.,   2.,\n",
       "        14.,   0.,   2.,   5.,   0.,   8.,  35.,   1.,   2.,  16.,   0.,\n",
       "         2.,   5.,   0.,   8.,  38.,   1.,   2.,  28.,   0.,   0.,   2.,\n",
       "         9.,   0.,  13.,   2.,  57.,   3.,   0.,   2.,  41.,   0.,   0.,\n",
       "         2.,  14.,   0.,  14.,   2.,  70.,   5.,   0.,   2.,  45.,   0.,\n",
       "         0.,   2.,  14.,   0.,  14.,   2.,  71.,   5.,   0.,   2.,  62.,\n",
       "         0.,   2.,   2.,  20.,   0.,  15.,   4.,  83.,   5.,   0.,   2.,\n",
       "        63.,   0.,   3.,   2.,  20.,   0.,  17.,   4.,  84.,   5.,   0.,\n",
       "         2.,  79.,   1.,   3.,   2.,  23.,   0.,  24.,   5.,  92.,   5.,\n",
       "         0.,   2.,  79.,   1.,   3.,   2.,  23.,   0.,  25.,   5.,  92.,\n",
       "         5.,   0.,   2.,  96.,   2.,   3.,   2.,  28.,   0.,  27.,   6.,\n",
       "        99.,   5.,   0., 125.,   5.,   3.,   1.,  31.,   0.,  33.,   8.,\n",
       "       114.,   7.,   0., 126.,   5.,   3.,   1.,  32.,   0.,  33.,   8.,\n",
       "       118.,   7.,   0., 149.,   6.,   3.,  39.,  42.,   9.,   0., 135.,\n",
       "         7.,   0., 148.,   6.,   4.,  39.,  43.,   9.,   0., 135.,   7.,\n",
       "         0., 164.,   7.,   6.,   0.,  43.,  52.,   9.,   0., 156.,   7.,\n",
       "       179.,   7.,   6.,   0.,  42.,  59.,  12.,   0., 175.,   5., 177.,\n",
       "         7.,   6.,   0.,  42.,  60.,  12.,   0., 176.,   5., 177.,   7.,\n",
       "         6.,   0.,  37.,  66.,  11.,   0., 184.,   7., 179.,   7.,   5.,\n",
       "         0.,  38.,  64.,  11.,   0., 183.,   7., 171.,   6.,   5.,   0.,\n",
       "        38.,  62.,  11.,   0., 185.,   8., 172.,   6.,   5.,   0.,  39.,\n",
       "        61.,  11.,   0., 185.,   8., 159.,   5.,   5.,   0.,  34.,  59.,\n",
       "        10.,   0., 173.,   9., 131.,   2.,   5.,   0.,  29.,  53.,   8.,\n",
       "         0., 151.,   6., 130.,   2.,   5.,   0.,  28.,  53.,   8.,   0.,\n",
       "       148.,   6., 102.,   1.,   5.,   0.,  19.,  42.,   7.,   0., 116.,\n",
       "         6., 101.,   1.,   4.,   0.,  19.,  42.,   7.,   0., 113.,   6.,\n",
       "        73.,   0.,   2.,  11.,  28.,   5.,   0.,  73.,   4.,  45.,   2.,\n",
       "         7.,  20.,   2.,  41.,   4.,  43.,   2.,   7.,  19.,   2.,  39.,\n",
       "         4.,  24.,   0.,   5.,  10.,   1.,  18.,   2.,  21.,   0.,   4.,\n",
       "        10.,   1.,  18.,   2.,  12.,   1.,   5.,   0.,   6.,   1.,  11.,\n",
       "         5.,   0.,   6.,   1.,   4.,   5.,   0.,   4.,   0.,   1.,   1.,\n",
       "         1.,   0.,   1.,   1.,   0.,   1.], dtype=float32)"
      ]
     },
     "execution_count": 169,
     "metadata": {},
     "output_type": "execute_result"
    }
   ],
   "source": [
    "# getting class weights for y\n",
    "y_counts = np.sum(y, axis=0)\n",
    "# class_weights = {y_val: (1/count) * (len(y)/2) for (y_val, count) in zip(y_valus, y_counts)}\n",
    "y_counts"
   ]
  },
  {
   "cell_type": "code",
   "execution_count": 191,
   "id": "bc0d7d62",
   "metadata": {},
   "outputs": [
    {
     "data": {
      "image/png": "[encoded data removed]",
      "text/plain": [
       "<Figure size 432x288 with 1 Axes>"
      ]
     },
     "metadata": {
      "needs_background": "light"
     },
     "output_type": "display_data"
    }
   ],
   "source": [
    "plt.hist(targets, bins=100);"
   ]
  },
  {
   "cell_type": "code",
   "execution_count": 202,
   "id": "fbb16fae",
   "metadata": {},
   "outputs": [],
   "source": [
    "counts = np.unique(np.array(targets), return_counts=True)"
   ]
  },
  {
   "cell_type": "code",
   "execution_count": 210,
   "id": "6025a2ac",
   "metadata": {},
   "outputs": [],
   "source": [
    "class_weights = {key:val for key, val in zip(counts[0], counts[1])}\n",
    "class_mean = np.mean(list(class_weights.values()))\n",
    "class_weights = {key:(1 / val) * class_mean for key, val in zip(counts[0], counts[1])}"
   ]
  },
  {
   "cell_type": "code",
   "execution_count": 211,
   "id": "57ce942a",
   "metadata": {},
   "outputs": [
    {
     "data": {
      "text/plain": [
       "{0: 0.8706140350877192,\n",
       " 1: 0.2176535087719298,\n",
       " 2: 0.11355835240274599,\n",
       " 4: 15.671052631578947,\n",
       " 5: 31.342105263157894,\n",
       " 6: 15.671052631578947,\n",
       " 7: 31.342105263157894,\n",
       " 8: 15.671052631578947,\n",
       " 9: 31.342105263157894,\n",
       " 10: 15.671052631578947,\n",
       " 11: 31.342105263157894,\n",
       " 12: 10.44736842105263,\n",
       " 14: 31.342105263157894,\n",
       " 15: 15.671052631578947,\n",
       " 16: 10.44736842105263,\n",
       " 17: 10.44736842105263,\n",
       " 19: 31.342105263157894,\n",
       " 20: 15.671052631578947,\n",
       " 21: 10.44736842105263,\n",
       " 22: 5.223684210526315,\n",
       " 24: 31.342105263157894,\n",
       " 25: 15.671052631578947,\n",
       " 26: 3.1342105263157896,\n",
       " 27: 15.671052631578947,\n",
       " 28: 3.9177631578947367,\n",
       " 30: 31.342105263157894,\n",
       " 31: 10.44736842105263,\n",
       " 32: 5.223684210526315,\n",
       " 33: 1.5671052631578948,\n",
       " 34: 31.342105263157894,\n",
       " 35: 15.671052631578947,\n",
       " 36: 3.9177631578947367,\n",
       " 38: 31.342105263157894,\n",
       " 39: 10.44736842105263,\n",
       " 40: 5.223684210526315,\n",
       " 41: 1.5671052631578948,\n",
       " 42: 31.342105263157894,\n",
       " 43: 15.671052631578947,\n",
       " 44: 2.238721804511278,\n",
       " 46: 15.671052631578947,\n",
       " 47: 6.268421052631579,\n",
       " 49: 3.9177631578947367,\n",
       " 50: 0.8954887218045112,\n",
       " 51: 31.342105263157894,\n",
       " 52: 15.671052631578947,\n",
       " 53: 1.9588815789473684,\n",
       " 55: 15.671052631578947,\n",
       " 56: 6.268421052631579,\n",
       " 58: 3.9177631578947367,\n",
       " 59: 0.824792243767313,\n",
       " 60: 31.342105263157894,\n",
       " 61: 15.671052631578947,\n",
       " 62: 1.119360902255639,\n",
       " 65: 15.671052631578947,\n",
       " 66: 3.4824561403508767,\n",
       " 68: 2.410931174089069,\n",
       " 69: 15.671052631578947,\n",
       " 70: 0.5498614958448753,\n",
       " 71: 10.44736842105263,\n",
       " 73: 15.671052631578947,\n",
       " 74: 0.7644415917843389,\n",
       " 77: 15.671052631578947,\n",
       " 78: 2.238721804511278,\n",
       " 80: 2.238721804511278,\n",
       " 81: 15.671052631578947,\n",
       " 82: 0.4477443609022556,\n",
       " 83: 6.268421052631579,\n",
       " 85: 15.671052631578947,\n",
       " 86: 0.6964912280701755,\n",
       " 89: 15.671052631578947,\n",
       " 90: 2.238721804511278,\n",
       " 92: 2.238721804511278,\n",
       " 93: 15.671052631578947,\n",
       " 94: 0.4414381022979985,\n",
       " 95: 6.268421052631579,\n",
       " 97: 15.671052631578947,\n",
       " 98: 0.5055178268251274,\n",
       " 100: 15.671052631578947,\n",
       " 101: 15.671052631578947,\n",
       " 102: 1.5671052631578948,\n",
       " 104: 2.0894736842105264,\n",
       " 105: 7.8355263157894735,\n",
       " 106: 0.37761572606214333,\n",
       " 107: 6.268421052631579,\n",
       " 109: 15.671052631578947,\n",
       " 110: 0.49749373433583954,\n",
       " 112: 10.44736842105263,\n",
       " 113: 15.671052631578947,\n",
       " 114: 1.5671052631578948,\n",
       " 116: 1.8436532507739938,\n",
       " 117: 7.8355263157894735,\n",
       " 118: 0.3731203007518797,\n",
       " 119: 6.268421052631579,\n",
       " 121: 15.671052631578947,\n",
       " 122: 0.39673550966022647,\n",
       " 123: 31.342105263157894,\n",
       " 124: 10.44736842105263,\n",
       " 125: 15.671052631578947,\n",
       " 126: 1.362700228832952,\n",
       " 128: 1.3059210526315788,\n",
       " 129: 6.268421052631579,\n",
       " 130: 0.340675057208238,\n",
       " 131: 6.268421052631579,\n",
       " 133: 15.671052631578947,\n",
       " 134: 0.39673550966022647,\n",
       " 135: 31.342105263157894,\n",
       " 136: 10.44736842105263,\n",
       " 137: 15.671052631578947,\n",
       " 138: 1.362700228832952,\n",
       " 140: 1.2536842105263157,\n",
       " 141: 6.268421052631579,\n",
       " 142: 0.340675057208238,\n",
       " 143: 6.268421052631579,\n",
       " 145: 15.671052631578947,\n",
       " 146: 0.3264802631578947,\n",
       " 147: 15.671052631578947,\n",
       " 148: 10.44736842105263,\n",
       " 149: 15.671052631578947,\n",
       " 150: 1.119360902255639,\n",
       " 152: 1.1608187134502923,\n",
       " 153: 5.223684210526315,\n",
       " 154: 0.31658692185007975,\n",
       " 155: 6.268421052631579,\n",
       " 157: 0.25073684210526315,\n",
       " 158: 6.268421052631579,\n",
       " 159: 10.44736842105263,\n",
       " 160: 31.342105263157894,\n",
       " 161: 1.0110356536502547,\n",
       " 163: 0.9497607655502392,\n",
       " 164: 3.9177631578947367,\n",
       " 165: 0.27493074792243766,\n",
       " 166: 4.477443609022556,\n",
       " 168: 0.24874686716791977,\n",
       " 169: 6.268421052631579,\n",
       " 170: 10.44736842105263,\n",
       " 171: 31.342105263157894,\n",
       " 172: 0.9794407894736842,\n",
       " 174: 0.9497607655502392,\n",
       " 175: 3.9177631578947367,\n",
       " 176: 0.26561106155218556,\n",
       " 177: 4.477443609022556,\n",
       " 179: 0.21034969975273754,\n",
       " 180: 5.223684210526315,\n",
       " 181: 10.44736842105263,\n",
       " 182: 0.8036437246963563,\n",
       " 183: 0.7462406015037594,\n",
       " 184: 3.4824561403508767,\n",
       " 186: 0.2321637426900585,\n",
       " 187: 4.477443609022556,\n",
       " 189: 0.2117709815078236,\n",
       " 190: 5.223684210526315,\n",
       " 191: 7.8355263157894735,\n",
       " 192: 0.8036437246963563,\n",
       " 193: 0.7288861689106487,\n",
       " 194: 3.4824561403508767,\n",
       " 196: 0.2321637426900585,\n",
       " 197: 4.477443609022556,\n",
       " 199: 0.19111039794608473,\n",
       " 200: 4.477443609022556,\n",
       " 201: 5.223684210526315,\n",
       " 203: 0.7288861689106487,\n",
       " 204: 0.6027327935222673,\n",
       " 205: 3.4824561403508767,\n",
       " 207: 0.20091093117408906,\n",
       " 208: 4.477443609022556,\n",
       " 209: 0.17509556012937372,\n",
       " 210: 4.477443609022556,\n",
       " 211: 5.223684210526315,\n",
       " 213: 0.7462406015037594,\n",
       " 214: 0.5312221231043711,\n",
       " 215: 2.6118421052631575,\n",
       " 217: 0.17909774436090226,\n",
       " 218: 6.268421052631579,\n",
       " 219: 0.17707404103479035,\n",
       " 220: 4.477443609022556,\n",
       " 221: 5.223684210526315,\n",
       " 223: 0.7462406015037594,\n",
       " 224: 0.5223684210526316,\n",
       " 225: 2.6118421052631575,\n",
       " 227: 0.17808014354066987,\n",
       " 228: 6.268421052631579,\n",
       " 229: 0.17707404103479035,\n",
       " 230: 4.477443609022556,\n",
       " 231: 5.223684210526315,\n",
       " 233: 0.8470839260312945,\n",
       " 234: 0.4748803827751196,\n",
       " 235: 2.849282296650718,\n",
       " 237: 0.170337528604119,\n",
       " 238: 4.477443609022556,\n",
       " 239: 0.17509556012937372,\n",
       " 240: 4.477443609022556,\n",
       " 241: 6.268421052631579,\n",
       " 243: 0.824792243767313,\n",
       " 244: 0.4897203947368421,\n",
       " 245: 2.849282296650718,\n",
       " 247: 0.1712683347713546,\n",
       " 248: 4.477443609022556,\n",
       " 249: 0.1832871652816251,\n",
       " 250: 5.223684210526315,\n",
       " 251: 6.268421052631579,\n",
       " 253: 0.824792243767313,\n",
       " 254: 0.5055178268251274,\n",
       " 255: 2.849282296650718,\n",
       " 257: 0.16941678520625889,\n",
       " 258: 3.9177631578947367,\n",
       " 259: 0.18222154222766218,\n",
       " 260: 5.223684210526315,\n",
       " 261: 6.268421052631579,\n",
       " 263: 0.8036437246963563,\n",
       " 264: 0.5138050043140638,\n",
       " 265: 2.849282296650718,\n",
       " 267: 0.16941678520625889,\n",
       " 268: 3.9177631578947367,\n",
       " 269: 0.1971201588877855,\n",
       " 270: 6.268421052631579,\n",
       " 271: 6.268421052631579,\n",
       " 273: 0.9218266253869969,\n",
       " 274: 0.5312221231043711,\n",
       " 275: 3.1342105263157896,\n",
       " 277: 0.18116823851536354,\n",
       " 278: 3.4824561403508767,\n",
       " 279: 0.239252711932503,\n",
       " 280: 15.671052631578947,\n",
       " 281: 6.268421052631579,\n",
       " 283: 1.0807622504537204,\n",
       " 284: 0.5913604766633564,\n",
       " 285: 3.9177631578947367,\n",
       " 287: 0.2075636110142907,\n",
       " 288: 5.223684210526315,\n",
       " 289: 0.24109311740890688,\n",
       " 290: 15.671052631578947,\n",
       " 291: 6.268421052631579,\n",
       " 293: 1.119360902255639,\n",
       " 294: 0.5913604766633564,\n",
       " 295: 3.9177631578947367,\n",
       " 297: 0.2117709815078236,\n",
       " 298: 5.223684210526315,\n",
       " 299: 0.30727554179566563,\n",
       " 300: 31.342105263157894,\n",
       " 301: 6.268421052631579,\n",
       " 303: 1.649584487534626,\n",
       " 304: 0.7462406015037594,\n",
       " 305: 4.477443609022556,\n",
       " 307: 0.2701905626134301,\n",
       " 308: 5.223684210526315,\n",
       " 309: 0.3103178738926524,\n",
       " 310: 31.342105263157894,\n",
       " 311: 7.8355263157894735,\n",
       " 313: 1.649584487534626,\n",
       " 314: 0.7462406015037594,\n",
       " 315: 4.477443609022556,\n",
       " 317: 0.27736376339077784,\n",
       " 318: 5.223684210526315,\n",
       " 319: 0.42934390771449166,\n",
       " 321: 15.671052631578947,\n",
       " 322: 2.849282296650718,\n",
       " 323: 1.119360902255639,\n",
       " 324: 6.268421052631579,\n",
       " 326: 0.42934390771449166,\n",
       " 327: 7.8355263157894735,\n",
       " 328: 0.6964912280701755,\n",
       " 329: 15.671052631578947,\n",
       " 330: 4.477443609022556,\n",
       " 331: 1.5671052631578948,\n",
       " 332: 15.671052631578947,\n",
       " 333: 0.7644415917843389,\n",
       " 334: 7.8355263157894735,\n",
       " 335: 0.7288861689106487,\n",
       " 336: 15.671052631578947,\n",
       " 337: 4.477443609022556,\n",
       " 338: 1.649584487534626,\n",
       " 339: 15.671052631578947,\n",
       " 340: 0.8036437246963563,\n",
       " 341: 7.8355263157894735,\n",
       " 342: 1.3059210526315788,\n",
       " 344: 6.268421052631579,\n",
       " 345: 3.1342105263157896,\n",
       " 346: 31.342105263157894,\n",
       " 347: 1.7412280701754383,\n",
       " 348: 15.671052631578947,\n",
       " 349: 1.4924812030075187,\n",
       " 351: 7.8355263157894735,\n",
       " 352: 3.1342105263157896,\n",
       " 353: 31.342105263157894,\n",
       " 354: 1.7412280701754383,\n",
       " 355: 15.671052631578947,\n",
       " 356: 2.6118421052631575,\n",
       " 357: 31.342105263157894,\n",
       " 358: 6.268421052631579,\n",
       " 360: 5.223684210526315,\n",
       " 361: 31.342105263157894,\n",
       " 362: 2.849282296650718,\n",
       " 363: 6.268421052631579,\n",
       " 365: 5.223684210526315,\n",
       " 366: 31.342105263157894,\n",
       " 367: 7.8355263157894735,\n",
       " 368: 6.268421052631579,\n",
       " 370: 7.8355263157894735,\n",
       " 372: 31.342105263157894,\n",
       " 373: 31.342105263157894,\n",
       " 374: 31.342105263157894,\n",
       " 376: 31.342105263157894,\n",
       " 377: 31.342105263157894,\n",
       " 379: 31.342105263157894}"
      ]
     },
     "execution_count": 211,
     "metadata": {},
     "output_type": "execute_result"
    }
   ],
   "source": [
    "class_weights"
   ]
  },
  {
   "cell_type": "code",
   "execution_count": 207,
   "id": "6dec5f3f",
   "metadata": {},
   "outputs": [],
   "source": []
  },
  {
   "cell_type": "code",
   "execution_count": 185,
   "id": "f2a4f320",
   "metadata": {},
   "outputs": [],
   "source": [
    "from tensorflow.keras.optimizers import RMSprop\n",
    "\n",
    "opt = RMSprop(learning_rate=0.01)\n",
    "\n",
    "def initialize_model():\n",
    "    model = Sequential()\n",
    "    \n",
    "    model.add(LSTM(512, activation='tanh', input_shape=X.shape[1:], return_sequences=True))\n",
    "    model.add(Dropout(0.1))\n",
    "    model.add(LSTM(256, activation='tanh'))\n",
    "    model.add(Dense(256, activation='relu'))\n",
    "    model.add(Dropout(0.1))\n",
    "    model.add(Dense(y.shape[1], activation='softmax'))\n",
    "    \n",
    "    model.compile(loss='sparse_categorical_crossentropy', optimizer=opt)\n",
    "    \n",
    "    return model"
   ]
  },
  {
   "cell_type": "code",
   "execution_count": 186,
   "id": "51084351",
   "metadata": {},
   "outputs": [
    {
     "name": "stdout",
     "output_type": "stream",
     "text": [
      "Model: \"sequential_3\"\n",
      "_________________________________________________________________\n",
      "Layer (type)                 Output Shape              Param #   \n",
      "=================================================================\n",
      "lstm_6 (LSTM)                (None, 10, 512)           1052672   \n",
      "_________________________________________________________________\n",
      "dropout_6 (Dropout)          (None, 10, 512)           0         \n",
      "_________________________________________________________________\n",
      "lstm_7 (LSTM)                (None, 256)               787456    \n",
      "_________________________________________________________________\n",
      "dense_6 (Dense)              (None, 256)               65792     \n",
      "_________________________________________________________________\n",
      "dropout_7 (Dropout)          (None, 256)               0         \n",
      "_________________________________________________________________\n",
      "dense_7 (Dense)              (None, 380)               97660     \n",
      "=================================================================\n",
      "Total params: 2,003,580\n",
      "Trainable params: 2,003,580\n",
      "Non-trainable params: 0\n",
      "_________________________________________________________________\n"
     ]
    }
   ],
   "source": [
    "model = initialize_model()\n",
    "model.summary()"
   ]
  },
  {
   "cell_type": "code",
   "execution_count": 212,
   "id": "49c3bd7f",
   "metadata": {},
   "outputs": [
    {
     "ename": "ValueError",
     "evalue": "Expected `class_weight` to be a dict with keys from 0 to one less than the number of classes, found {0: 0.8706140350877192, 1: 0.2176535087719298, 2: 0.11355835240274599, 4: 15.671052631578947, 5: 31.342105263157894, 6: 15.671052631578947, 7: 31.342105263157894, 8: 15.671052631578947, 9: 31.342105263157894, 10: 15.671052631578947, 11: 31.342105263157894, 12: 10.44736842105263, 14: 31.342105263157894, 15: 15.671052631578947, 16: 10.44736842105263, 17: 10.44736842105263, 19: 31.342105263157894, 20: 15.671052631578947, 21: 10.44736842105263, 22: 5.223684210526315, 24: 31.342105263157894, 25: 15.671052631578947, 26: 3.1342105263157896, 27: 15.671052631578947, 28: 3.9177631578947367, 30: 31.342105263157894, 31: 10.44736842105263, 32: 5.223684210526315, 33: 1.5671052631578948, 34: 31.342105263157894, 35: 15.671052631578947, 36: 3.9177631578947367, 38: 31.342105263157894, 39: 10.44736842105263, 40: 5.223684210526315, 41: 1.5671052631578948, 42: 31.342105263157894, 43: 15.671052631578947, 44: 2.238721804511278, 46: 15.671052631578947, 47: 6.268421052631579, 49: 3.9177631578947367, 50: 0.8954887218045112, 51: 31.342105263157894, 52: 15.671052631578947, 53: 1.9588815789473684, 55: 15.671052631578947, 56: 6.268421052631579, 58: 3.9177631578947367, 59: 0.824792243767313, 60: 31.342105263157894, 61: 15.671052631578947, 62: 1.119360902255639, 65: 15.671052631578947, 66: 3.4824561403508767, 68: 2.410931174089069, 69: 15.671052631578947, 70: 0.5498614958448753, 71: 10.44736842105263, 73: 15.671052631578947, 74: 0.7644415917843389, 77: 15.671052631578947, 78: 2.238721804511278, 80: 2.238721804511278, 81: 15.671052631578947, 82: 0.4477443609022556, 83: 6.268421052631579, 85: 15.671052631578947, 86: 0.6964912280701755, 89: 15.671052631578947, 90: 2.238721804511278, 92: 2.238721804511278, 93: 15.671052631578947, 94: 0.4414381022979985, 95: 6.268421052631579, 97: 15.671052631578947, 98: 0.5055178268251274, 100: 15.671052631578947, 101: 15.671052631578947, 102: 1.5671052631578948, 104: 2.0894736842105264, 105: 7.8355263157894735, 106: 0.37761572606214333, 107: 6.268421052631579, 109: 15.671052631578947, 110: 0.49749373433583954, 112: 10.44736842105263, 113: 15.671052631578947, 114: 1.5671052631578948, 116: 1.8436532507739938, 117: 7.8355263157894735, 118: 0.3731203007518797, 119: 6.268421052631579, 121: 15.671052631578947, 122: 0.39673550966022647, 123: 31.342105263157894, 124: 10.44736842105263, 125: 15.671052631578947, 126: 1.362700228832952, 128: 1.3059210526315788, 129: 6.268421052631579, 130: 0.340675057208238, 131: 6.268421052631579, 133: 15.671052631578947, 134: 0.39673550966022647, 135: 31.342105263157894, 136: 10.44736842105263, 137: 15.671052631578947, 138: 1.362700228832952, 140: 1.2536842105263157, 141: 6.268421052631579, 142: 0.340675057208238, 143: 6.268421052631579, 145: 15.671052631578947, 146: 0.3264802631578947, 147: 15.671052631578947, 148: 10.44736842105263, 149: 15.671052631578947, 150: 1.119360902255639, 152: 1.1608187134502923, 153: 5.223684210526315, 154: 0.31658692185007975, 155: 6.268421052631579, 157: 0.25073684210526315, 158: 6.268421052631579, 159: 10.44736842105263, 160: 31.342105263157894, 161: 1.0110356536502547, 163: 0.9497607655502392, 164: 3.9177631578947367, 165: 0.27493074792243766, 166: 4.477443609022556, 168: 0.24874686716791977, 169: 6.268421052631579, 170: 10.44736842105263, 171: 31.342105263157894, 172: 0.9794407894736842, 174: 0.9497607655502392, 175: 3.9177631578947367, 176: 0.26561106155218556, 177: 4.477443609022556, 179: 0.21034969975273754, 180: 5.223684210526315, 181: 10.44736842105263, 182: 0.8036437246963563, 183: 0.7462406015037594, 184: 3.4824561403508767, 186: 0.2321637426900585, 187: 4.477443609022556, 189: 0.2117709815078236, 190: 5.223684210526315, 191: 7.8355263157894735, 192: 0.8036437246963563, 193: 0.7288861689106487, 194: 3.4824561403508767, 196: 0.2321637426900585, 197: 4.477443609022556, 199: 0.19111039794608473, 200: 4.477443609022556, 201: 5.223684210526315, 203: 0.7288861689106487, 204: 0.6027327935222673, 205: 3.4824561403508767, 207: 0.20091093117408906, 208: 4.477443609022556, 209: 0.17509556012937372, 210: 4.477443609022556, 211: 5.223684210526315, 213: 0.7462406015037594, 214: 0.5312221231043711, 215: 2.6118421052631575, 217: 0.17909774436090226, 218: 6.268421052631579, 219: 0.17707404103479035, 220: 4.477443609022556, 221: 5.223684210526315, 223: 0.7462406015037594, 224: 0.5223684210526316, 225: 2.6118421052631575, 227: 0.17808014354066987, 228: 6.268421052631579, 229: 0.17707404103479035, 230: 4.477443609022556, 231: 5.223684210526315, 233: 0.8470839260312945, 234: 0.4748803827751196, 235: 2.849282296650718, 237: 0.170337528604119, 238: 4.477443609022556, 239: 0.17509556012937372, 240: 4.477443609022556, 241: 6.268421052631579, 243: 0.824792243767313, 244: 0.4897203947368421, 245: 2.849282296650718, 247: 0.1712683347713546, 248: 4.477443609022556, 249: 0.1832871652816251, 250: 5.223684210526315, 251: 6.268421052631579, 253: 0.824792243767313, 254: 0.5055178268251274, 255: 2.849282296650718, 257: 0.16941678520625889, 258: 3.9177631578947367, 259: 0.18222154222766218, 260: 5.223684210526315, 261: 6.268421052631579, 263: 0.8036437246963563, 264: 0.5138050043140638, 265: 2.849282296650718, 267: 0.16941678520625889, 268: 3.9177631578947367, 269: 0.1971201588877855, 270: 6.268421052631579, 271: 6.268421052631579, 273: 0.9218266253869969, 274: 0.5312221231043711, 275: 3.1342105263157896, 277: 0.18116823851536354, 278: 3.4824561403508767, 279: 0.239252711932503, 280: 15.671052631578947, 281: 6.268421052631579, 283: 1.0807622504537204, 284: 0.5913604766633564, 285: 3.9177631578947367, 287: 0.2075636110142907, 288: 5.223684210526315, 289: 0.24109311740890688, 290: 15.671052631578947, 291: 6.268421052631579, 293: 1.119360902255639, 294: 0.5913604766633564, 295: 3.9177631578947367, 297: 0.2117709815078236, 298: 5.223684210526315, 299: 0.30727554179566563, 300: 31.342105263157894, 301: 6.268421052631579, 303: 1.649584487534626, 304: 0.7462406015037594, 305: 4.477443609022556, 307: 0.2701905626134301, 308: 5.223684210526315, 309: 0.3103178738926524, 310: 31.342105263157894, 311: 7.8355263157894735, 313: 1.649584487534626, 314: 0.7462406015037594, 315: 4.477443609022556, 317: 0.27736376339077784, 318: 5.223684210526315, 319: 0.42934390771449166, 321: 15.671052631578947, 322: 2.849282296650718, 323: 1.119360902255639, 324: 6.268421052631579, 326: 0.42934390771449166, 327: 7.8355263157894735, 328: 0.6964912280701755, 329: 15.671052631578947, 330: 4.477443609022556, 331: 1.5671052631578948, 332: 15.671052631578947, 333: 0.7644415917843389, 334: 7.8355263157894735, 335: 0.7288861689106487, 336: 15.671052631578947, 337: 4.477443609022556, 338: 1.649584487534626, 339: 15.671052631578947, 340: 0.8036437246963563, 341: 7.8355263157894735, 342: 1.3059210526315788, 344: 6.268421052631579, 345: 3.1342105263157896, 346: 31.342105263157894, 347: 1.7412280701754383, 348: 15.671052631578947, 349: 1.4924812030075187, 351: 7.8355263157894735, 352: 3.1342105263157896, 353: 31.342105263157894, 354: 1.7412280701754383, 355: 15.671052631578947, 356: 2.6118421052631575, 357: 31.342105263157894, 358: 6.268421052631579, 360: 5.223684210526315, 361: 31.342105263157894, 362: 2.849282296650718, 363: 6.268421052631579, 365: 5.223684210526315, 366: 31.342105263157894, 367: 7.8355263157894735, 368: 6.268421052631579, 370: 7.8355263157894735, 372: 31.342105263157894, 373: 31.342105263157894, 374: 31.342105263157894, 376: 31.342105263157894, 377: 31.342105263157894, 379: 31.342105263157894}",
     "output_type": "error",
     "traceback": [
      "\u001b[0;31m---------------------------------------------------------------------------\u001b[0m",
      "\u001b[0;31mValueError\u001b[0m                                Traceback (most recent call last)",
      "Input \u001b[0;32mIn [212]\u001b[0m, in \u001b[0;36m<cell line: 3>\u001b[0;34m()\u001b[0m\n\u001b[1;32m      1\u001b[0m es \u001b[38;5;241m=\u001b[39m EarlyStopping(patience\u001b[38;5;241m=\u001b[39m\u001b[38;5;241m5\u001b[39m, restore_best_weights\u001b[38;5;241m=\u001b[39m\u001b[38;5;28;01mTrue\u001b[39;00m)\n\u001b[0;32m----> 3\u001b[0m history \u001b[38;5;241m=\u001b[39m \u001b[43mmodel\u001b[49m\u001b[38;5;241;43m.\u001b[39;49m\u001b[43mfit\u001b[49m\u001b[43m(\u001b[49m\u001b[43mX\u001b[49m\u001b[43m,\u001b[49m\u001b[43m \u001b[49m\u001b[43mnp\u001b[49m\u001b[38;5;241;43m.\u001b[39;49m\u001b[43marray\u001b[49m\u001b[43m(\u001b[49m\u001b[43mtargets\u001b[49m\u001b[43m)\u001b[49m\u001b[43m,\u001b[49m\u001b[43m \u001b[49m\u001b[43mvalidation_split\u001b[49m\u001b[38;5;241;43m=\u001b[39;49m\u001b[38;5;241;43m0.2\u001b[39;49m\u001b[43m,\u001b[49m\u001b[43m \u001b[49m\u001b[43mbatch_size\u001b[49m\u001b[38;5;241;43m=\u001b[39;49m\u001b[38;5;241;43m32\u001b[39;49m\u001b[43m,\u001b[49m\u001b[43m \u001b[49m\u001b[43mepochs\u001b[49m\u001b[38;5;241;43m=\u001b[39;49m\u001b[38;5;241;43m500\u001b[39;49m\u001b[43m,\u001b[49m\u001b[43m \u001b[49m\u001b[43mcallbacks\u001b[49m\u001b[38;5;241;43m=\u001b[39;49m\u001b[43m[\u001b[49m\u001b[43mes\u001b[49m\u001b[43m]\u001b[49m\u001b[43m,\u001b[49m\u001b[43m \u001b[49m\u001b[43mverbose\u001b[49m\u001b[38;5;241;43m=\u001b[39;49m\u001b[38;5;241;43m1\u001b[39;49m\u001b[43m,\u001b[49m\u001b[43m \u001b[49m\u001b[43mclass_weight\u001b[49m\u001b[38;5;241;43m=\u001b[39;49m\u001b[43mclass_weights\u001b[49m\u001b[43m)\u001b[49m\n",
      "File \u001b[0;32m~/.pyenv/versions/3.8.12/envs/CoolMelodyProject/lib/python3.8/site-packages/keras/engine/training.py:1134\u001b[0m, in \u001b[0;36mModel.fit\u001b[0;34m(self, x, y, batch_size, epochs, verbose, callbacks, validation_split, validation_data, shuffle, class_weight, sample_weight, initial_epoch, steps_per_epoch, validation_steps, validation_batch_size, validation_freq, max_queue_size, workers, use_multiprocessing)\u001b[0m\n\u001b[1;32m   1128\u001b[0m   \u001b[38;5;28mself\u001b[39m\u001b[38;5;241m.\u001b[39m_cluster_coordinator \u001b[38;5;241m=\u001b[39m tf\u001b[38;5;241m.\u001b[39mdistribute\u001b[38;5;241m.\u001b[39mexperimental\u001b[38;5;241m.\u001b[39mcoordinator\u001b[38;5;241m.\u001b[39mClusterCoordinator(\n\u001b[1;32m   1129\u001b[0m       \u001b[38;5;28mself\u001b[39m\u001b[38;5;241m.\u001b[39mdistribute_strategy)\n\u001b[1;32m   1131\u001b[0m \u001b[38;5;28;01mwith\u001b[39;00m \u001b[38;5;28mself\u001b[39m\u001b[38;5;241m.\u001b[39mdistribute_strategy\u001b[38;5;241m.\u001b[39mscope(), \\\n\u001b[1;32m   1132\u001b[0m      training_utils\u001b[38;5;241m.\u001b[39mRespectCompiledTrainableState(\u001b[38;5;28mself\u001b[39m):\n\u001b[1;32m   1133\u001b[0m   \u001b[38;5;66;03m# Creates a `tf.data.Dataset` and handles batch and epoch iteration.\u001b[39;00m\n\u001b[0;32m-> 1134\u001b[0m   data_handler \u001b[38;5;241m=\u001b[39m \u001b[43mdata_adapter\u001b[49m\u001b[38;5;241;43m.\u001b[39;49m\u001b[43mget_data_handler\u001b[49m\u001b[43m(\u001b[49m\n\u001b[1;32m   1135\u001b[0m \u001b[43m      \u001b[49m\u001b[43mx\u001b[49m\u001b[38;5;241;43m=\u001b[39;49m\u001b[43mx\u001b[49m\u001b[43m,\u001b[49m\n\u001b[1;32m   1136\u001b[0m \u001b[43m      \u001b[49m\u001b[43my\u001b[49m\u001b[38;5;241;43m=\u001b[39;49m\u001b[43my\u001b[49m\u001b[43m,\u001b[49m\n\u001b[1;32m   1137\u001b[0m \u001b[43m      \u001b[49m\u001b[43msample_weight\u001b[49m\u001b[38;5;241;43m=\u001b[39;49m\u001b[43msample_weight\u001b[49m\u001b[43m,\u001b[49m\n\u001b[1;32m   1138\u001b[0m \u001b[43m      \u001b[49m\u001b[43mbatch_size\u001b[49m\u001b[38;5;241;43m=\u001b[39;49m\u001b[43mbatch_size\u001b[49m\u001b[43m,\u001b[49m\n\u001b[1;32m   1139\u001b[0m \u001b[43m      \u001b[49m\u001b[43msteps_per_epoch\u001b[49m\u001b[38;5;241;43m=\u001b[39;49m\u001b[43msteps_per_epoch\u001b[49m\u001b[43m,\u001b[49m\n\u001b[1;32m   1140\u001b[0m \u001b[43m      \u001b[49m\u001b[43minitial_epoch\u001b[49m\u001b[38;5;241;43m=\u001b[39;49m\u001b[43minitial_epoch\u001b[49m\u001b[43m,\u001b[49m\n\u001b[1;32m   1141\u001b[0m \u001b[43m      \u001b[49m\u001b[43mepochs\u001b[49m\u001b[38;5;241;43m=\u001b[39;49m\u001b[43mepochs\u001b[49m\u001b[43m,\u001b[49m\n\u001b[1;32m   1142\u001b[0m \u001b[43m      \u001b[49m\u001b[43mshuffle\u001b[49m\u001b[38;5;241;43m=\u001b[39;49m\u001b[43mshuffle\u001b[49m\u001b[43m,\u001b[49m\n\u001b[1;32m   1143\u001b[0m \u001b[43m      \u001b[49m\u001b[43mclass_weight\u001b[49m\u001b[38;5;241;43m=\u001b[39;49m\u001b[43mclass_weight\u001b[49m\u001b[43m,\u001b[49m\n\u001b[1;32m   1144\u001b[0m \u001b[43m      \u001b[49m\u001b[43mmax_queue_size\u001b[49m\u001b[38;5;241;43m=\u001b[39;49m\u001b[43mmax_queue_size\u001b[49m\u001b[43m,\u001b[49m\n\u001b[1;32m   1145\u001b[0m \u001b[43m      \u001b[49m\u001b[43mworkers\u001b[49m\u001b[38;5;241;43m=\u001b[39;49m\u001b[43mworkers\u001b[49m\u001b[43m,\u001b[49m\n\u001b[1;32m   1146\u001b[0m \u001b[43m      \u001b[49m\u001b[43muse_multiprocessing\u001b[49m\u001b[38;5;241;43m=\u001b[39;49m\u001b[43muse_multiprocessing\u001b[49m\u001b[43m,\u001b[49m\n\u001b[1;32m   1147\u001b[0m \u001b[43m      \u001b[49m\u001b[43mmodel\u001b[49m\u001b[38;5;241;43m=\u001b[39;49m\u001b[38;5;28;43mself\u001b[39;49m\u001b[43m,\u001b[49m\n\u001b[1;32m   1148\u001b[0m \u001b[43m      \u001b[49m\u001b[43msteps_per_execution\u001b[49m\u001b[38;5;241;43m=\u001b[39;49m\u001b[38;5;28;43mself\u001b[39;49m\u001b[38;5;241;43m.\u001b[39;49m\u001b[43m_steps_per_execution\u001b[49m\u001b[43m)\u001b[49m\n\u001b[1;32m   1150\u001b[0m   \u001b[38;5;66;03m# Container that configures and calls `tf.keras.Callback`s.\u001b[39;00m\n\u001b[1;32m   1151\u001b[0m   \u001b[38;5;28;01mif\u001b[39;00m \u001b[38;5;129;01mnot\u001b[39;00m \u001b[38;5;28misinstance\u001b[39m(callbacks, callbacks_module\u001b[38;5;241m.\u001b[39mCallbackList):\n",
      "File \u001b[0;32m~/.pyenv/versions/3.8.12/envs/CoolMelodyProject/lib/python3.8/site-packages/keras/engine/data_adapter.py:1383\u001b[0m, in \u001b[0;36mget_data_handler\u001b[0;34m(*args, **kwargs)\u001b[0m\n\u001b[1;32m   1381\u001b[0m \u001b[38;5;28;01mif\u001b[39;00m \u001b[38;5;28mgetattr\u001b[39m(kwargs[\u001b[38;5;124m\"\u001b[39m\u001b[38;5;124mmodel\u001b[39m\u001b[38;5;124m\"\u001b[39m], \u001b[38;5;124m\"\u001b[39m\u001b[38;5;124m_cluster_coordinator\u001b[39m\u001b[38;5;124m\"\u001b[39m, \u001b[38;5;28;01mNone\u001b[39;00m):\n\u001b[1;32m   1382\u001b[0m   \u001b[38;5;28;01mreturn\u001b[39;00m _ClusterCoordinatorDataHandler(\u001b[38;5;241m*\u001b[39margs, \u001b[38;5;241m*\u001b[39m\u001b[38;5;241m*\u001b[39mkwargs)\n\u001b[0;32m-> 1383\u001b[0m \u001b[38;5;28;01mreturn\u001b[39;00m \u001b[43mDataHandler\u001b[49m\u001b[43m(\u001b[49m\u001b[38;5;241;43m*\u001b[39;49m\u001b[43margs\u001b[49m\u001b[43m,\u001b[49m\u001b[43m \u001b[49m\u001b[38;5;241;43m*\u001b[39;49m\u001b[38;5;241;43m*\u001b[39;49m\u001b[43mkwargs\u001b[49m\u001b[43m)\u001b[49m\n",
      "File \u001b[0;32m~/.pyenv/versions/3.8.12/envs/CoolMelodyProject/lib/python3.8/site-packages/keras/engine/data_adapter.py:1158\u001b[0m, in \u001b[0;36mDataHandler.__init__\u001b[0;34m(self, x, y, sample_weight, batch_size, steps_per_epoch, initial_epoch, epochs, shuffle, class_weight, max_queue_size, workers, use_multiprocessing, model, steps_per_execution, distribute)\u001b[0m\n\u001b[1;32m   1155\u001b[0m \u001b[38;5;28mself\u001b[39m\u001b[38;5;241m.\u001b[39m_step_increment \u001b[38;5;241m=\u001b[39m \u001b[38;5;28mself\u001b[39m\u001b[38;5;241m.\u001b[39m_steps_per_execution_value \u001b[38;5;241m-\u001b[39m \u001b[38;5;241m1\u001b[39m\n\u001b[1;32m   1156\u001b[0m \u001b[38;5;28mself\u001b[39m\u001b[38;5;241m.\u001b[39m_insufficient_data \u001b[38;5;241m=\u001b[39m \u001b[38;5;28;01mFalse\u001b[39;00m\n\u001b[0;32m-> 1158\u001b[0m \u001b[38;5;28;43mself\u001b[39;49m\u001b[38;5;241;43m.\u001b[39;49m\u001b[43m_configure_dataset_and_inferred_steps\u001b[49m\u001b[43m(\u001b[49m\u001b[43mstrategy\u001b[49m\u001b[43m,\u001b[49m\u001b[43m \u001b[49m\u001b[43mx\u001b[49m\u001b[43m,\u001b[49m\u001b[43m \u001b[49m\u001b[43msteps_per_epoch\u001b[49m\u001b[43m,\u001b[49m\n\u001b[1;32m   1159\u001b[0m \u001b[43m                                           \u001b[49m\u001b[43mclass_weight\u001b[49m\u001b[43m,\u001b[49m\u001b[43m \u001b[49m\u001b[43mdistribute\u001b[49m\u001b[43m)\u001b[49m\n",
      "File \u001b[0;32m~/.pyenv/versions/3.8.12/envs/CoolMelodyProject/lib/python3.8/site-packages/keras/engine/data_adapter.py:1167\u001b[0m, in \u001b[0;36mDataHandler._configure_dataset_and_inferred_steps\u001b[0;34m(***failed resolving arguments***)\u001b[0m\n\u001b[1;32m   1165\u001b[0m dataset \u001b[38;5;241m=\u001b[39m \u001b[38;5;28mself\u001b[39m\u001b[38;5;241m.\u001b[39m_adapter\u001b[38;5;241m.\u001b[39mget_dataset()\n\u001b[1;32m   1166\u001b[0m \u001b[38;5;28;01mif\u001b[39;00m class_weight:\n\u001b[0;32m-> 1167\u001b[0m   dataset \u001b[38;5;241m=\u001b[39m dataset\u001b[38;5;241m.\u001b[39mmap(\u001b[43m_make_class_weight_map_fn\u001b[49m\u001b[43m(\u001b[49m\u001b[43mclass_weight\u001b[49m\u001b[43m)\u001b[49m)\n\u001b[1;32m   1168\u001b[0m \u001b[38;5;28mself\u001b[39m\u001b[38;5;241m.\u001b[39m_inferred_steps \u001b[38;5;241m=\u001b[39m \u001b[38;5;28mself\u001b[39m\u001b[38;5;241m.\u001b[39m_infer_steps(steps_per_epoch, dataset)\n\u001b[1;32m   1170\u001b[0m \u001b[38;5;66;03m# `PreprocessingLayer.adapt` does not currently support distributed\u001b[39;00m\n\u001b[1;32m   1171\u001b[0m \u001b[38;5;66;03m# datasets, so we pass `distribute=False` there.\u001b[39;00m\n",
      "File \u001b[0;32m~/.pyenv/versions/3.8.12/envs/CoolMelodyProject/lib/python3.8/site-packages/keras/engine/data_adapter.py:1406\u001b[0m, in \u001b[0;36m_make_class_weight_map_fn\u001b[0;34m(class_weight)\u001b[0m\n\u001b[1;32m   1402\u001b[0m \u001b[38;5;28;01mif\u001b[39;00m class_ids \u001b[38;5;241m!=\u001b[39m expected_class_ids:\n\u001b[1;32m   1403\u001b[0m   error_msg \u001b[38;5;241m=\u001b[39m (\n\u001b[1;32m   1404\u001b[0m       \u001b[38;5;124m\"\u001b[39m\u001b[38;5;124mExpected `class_weight` to be a dict with keys from 0 to one less \u001b[39m\u001b[38;5;124m\"\u001b[39m\n\u001b[1;32m   1405\u001b[0m       \u001b[38;5;124m\"\u001b[39m\u001b[38;5;124mthan the number of classes, found \u001b[39m\u001b[38;5;132;01m{}\u001b[39;00m\u001b[38;5;124m\"\u001b[39m)\u001b[38;5;241m.\u001b[39mformat(class_weight)\n\u001b[0;32m-> 1406\u001b[0m   \u001b[38;5;28;01mraise\u001b[39;00m \u001b[38;5;167;01mValueError\u001b[39;00m(error_msg)\n\u001b[1;32m   1408\u001b[0m class_weight_tensor \u001b[38;5;241m=\u001b[39m tf\u001b[38;5;241m.\u001b[39mconvert_to_tensor(\n\u001b[1;32m   1409\u001b[0m     [class_weight[\u001b[38;5;28mint\u001b[39m(c)] \u001b[38;5;28;01mfor\u001b[39;00m c \u001b[38;5;129;01min\u001b[39;00m class_ids])\n\u001b[1;32m   1411\u001b[0m \u001b[38;5;28;01mdef\u001b[39;00m \u001b[38;5;21m_class_weights_map_fn\u001b[39m(\u001b[38;5;241m*\u001b[39mdata):\n",
      "\u001b[0;31mValueError\u001b[0m: Expected `class_weight` to be a dict with keys from 0 to one less than the number of classes, found {0: 0.8706140350877192, 1: 0.2176535087719298, 2: 0.11355835240274599, 4: 15.671052631578947, 5: 31.342105263157894, 6: 15.671052631578947, 7: 31.342105263157894, 8: 15.671052631578947, 9: 31.342105263157894, 10: 15.671052631578947, 11: 31.342105263157894, 12: 10.44736842105263, 14: 31.342105263157894, 15: 15.671052631578947, 16: 10.44736842105263, 17: 10.44736842105263, 19: 31.342105263157894, 20: 15.671052631578947, 21: 10.44736842105263, 22: 5.223684210526315, 24: 31.342105263157894, 25: 15.671052631578947, 26: 3.1342105263157896, 27: 15.671052631578947, 28: 3.9177631578947367, 30: 31.342105263157894, 31: 10.44736842105263, 32: 5.223684210526315, 33: 1.5671052631578948, 34: 31.342105263157894, 35: 15.671052631578947, 36: 3.9177631578947367, 38: 31.342105263157894, 39: 10.44736842105263, 40: 5.223684210526315, 41: 1.5671052631578948, 42: 31.342105263157894, 43: 15.671052631578947, 44: 2.238721804511278, 46: 15.671052631578947, 47: 6.268421052631579, 49: 3.9177631578947367, 50: 0.8954887218045112, 51: 31.342105263157894, 52: 15.671052631578947, 53: 1.9588815789473684, 55: 15.671052631578947, 56: 6.268421052631579, 58: 3.9177631578947367, 59: 0.824792243767313, 60: 31.342105263157894, 61: 15.671052631578947, 62: 1.119360902255639, 65: 15.671052631578947, 66: 3.4824561403508767, 68: 2.410931174089069, 69: 15.671052631578947, 70: 0.5498614958448753, 71: 10.44736842105263, 73: 15.671052631578947, 74: 0.7644415917843389, 77: 15.671052631578947, 78: 2.238721804511278, 80: 2.238721804511278, 81: 15.671052631578947, 82: 0.4477443609022556, 83: 6.268421052631579, 85: 15.671052631578947, 86: 0.6964912280701755, 89: 15.671052631578947, 90: 2.238721804511278, 92: 2.238721804511278, 93: 15.671052631578947, 94: 0.4414381022979985, 95: 6.268421052631579, 97: 15.671052631578947, 98: 0.5055178268251274, 100: 15.671052631578947, 101: 15.671052631578947, 102: 1.5671052631578948, 104: 2.0894736842105264, 105: 7.8355263157894735, 106: 0.37761572606214333, 107: 6.268421052631579, 109: 15.671052631578947, 110: 0.49749373433583954, 112: 10.44736842105263, 113: 15.671052631578947, 114: 1.5671052631578948, 116: 1.8436532507739938, 117: 7.8355263157894735, 118: 0.3731203007518797, 119: 6.268421052631579, 121: 15.671052631578947, 122: 0.39673550966022647, 123: 31.342105263157894, 124: 10.44736842105263, 125: 15.671052631578947, 126: 1.362700228832952, 128: 1.3059210526315788, 129: 6.268421052631579, 130: 0.340675057208238, 131: 6.268421052631579, 133: 15.671052631578947, 134: 0.39673550966022647, 135: 31.342105263157894, 136: 10.44736842105263, 137: 15.671052631578947, 138: 1.362700228832952, 140: 1.2536842105263157, 141: 6.268421052631579, 142: 0.340675057208238, 143: 6.268421052631579, 145: 15.671052631578947, 146: 0.3264802631578947, 147: 15.671052631578947, 148: 10.44736842105263, 149: 15.671052631578947, 150: 1.119360902255639, 152: 1.1608187134502923, 153: 5.223684210526315, 154: 0.31658692185007975, 155: 6.268421052631579, 157: 0.25073684210526315, 158: 6.268421052631579, 159: 10.44736842105263, 160: 31.342105263157894, 161: 1.0110356536502547, 163: 0.9497607655502392, 164: 3.9177631578947367, 165: 0.27493074792243766, 166: 4.477443609022556, 168: 0.24874686716791977, 169: 6.268421052631579, 170: 10.44736842105263, 171: 31.342105263157894, 172: 0.9794407894736842, 174: 0.9497607655502392, 175: 3.9177631578947367, 176: 0.26561106155218556, 177: 4.477443609022556, 179: 0.21034969975273754, 180: 5.223684210526315, 181: 10.44736842105263, 182: 0.8036437246963563, 183: 0.7462406015037594, 184: 3.4824561403508767, 186: 0.2321637426900585, 187: 4.477443609022556, 189: 0.2117709815078236, 190: 5.223684210526315, 191: 7.8355263157894735, 192: 0.8036437246963563, 193: 0.7288861689106487, 194: 3.4824561403508767, 196: 0.2321637426900585, 197: 4.477443609022556, 199: 0.19111039794608473, 200: 4.477443609022556, 201: 5.223684210526315, 203: 0.7288861689106487, 204: 0.6027327935222673, 205: 3.4824561403508767, 207: 0.20091093117408906, 208: 4.477443609022556, 209: 0.17509556012937372, 210: 4.477443609022556, 211: 5.223684210526315, 213: 0.7462406015037594, 214: 0.5312221231043711, 215: 2.6118421052631575, 217: 0.17909774436090226, 218: 6.268421052631579, 219: 0.17707404103479035, 220: 4.477443609022556, 221: 5.223684210526315, 223: 0.7462406015037594, 224: 0.5223684210526316, 225: 2.6118421052631575, 227: 0.17808014354066987, 228: 6.268421052631579, 229: 0.17707404103479035, 230: 4.477443609022556, 231: 5.223684210526315, 233: 0.8470839260312945, 234: 0.4748803827751196, 235: 2.849282296650718, 237: 0.170337528604119, 238: 4.477443609022556, 239: 0.17509556012937372, 240: 4.477443609022556, 241: 6.268421052631579, 243: 0.824792243767313, 244: 0.4897203947368421, 245: 2.849282296650718, 247: 0.1712683347713546, 248: 4.477443609022556, 249: 0.1832871652816251, 250: 5.223684210526315, 251: 6.268421052631579, 253: 0.824792243767313, 254: 0.5055178268251274, 255: 2.849282296650718, 257: 0.16941678520625889, 258: 3.9177631578947367, 259: 0.18222154222766218, 260: 5.223684210526315, 261: 6.268421052631579, 263: 0.8036437246963563, 264: 0.5138050043140638, 265: 2.849282296650718, 267: 0.16941678520625889, 268: 3.9177631578947367, 269: 0.1971201588877855, 270: 6.268421052631579, 271: 6.268421052631579, 273: 0.9218266253869969, 274: 0.5312221231043711, 275: 3.1342105263157896, 277: 0.18116823851536354, 278: 3.4824561403508767, 279: 0.239252711932503, 280: 15.671052631578947, 281: 6.268421052631579, 283: 1.0807622504537204, 284: 0.5913604766633564, 285: 3.9177631578947367, 287: 0.2075636110142907, 288: 5.223684210526315, 289: 0.24109311740890688, 290: 15.671052631578947, 291: 6.268421052631579, 293: 1.119360902255639, 294: 0.5913604766633564, 295: 3.9177631578947367, 297: 0.2117709815078236, 298: 5.223684210526315, 299: 0.30727554179566563, 300: 31.342105263157894, 301: 6.268421052631579, 303: 1.649584487534626, 304: 0.7462406015037594, 305: 4.477443609022556, 307: 0.2701905626134301, 308: 5.223684210526315, 309: 0.3103178738926524, 310: 31.342105263157894, 311: 7.8355263157894735, 313: 1.649584487534626, 314: 0.7462406015037594, 315: 4.477443609022556, 317: 0.27736376339077784, 318: 5.223684210526315, 319: 0.42934390771449166, 321: 15.671052631578947, 322: 2.849282296650718, 323: 1.119360902255639, 324: 6.268421052631579, 326: 0.42934390771449166, 327: 7.8355263157894735, 328: 0.6964912280701755, 329: 15.671052631578947, 330: 4.477443609022556, 331: 1.5671052631578948, 332: 15.671052631578947, 333: 0.7644415917843389, 334: 7.8355263157894735, 335: 0.7288861689106487, 336: 15.671052631578947, 337: 4.477443609022556, 338: 1.649584487534626, 339: 15.671052631578947, 340: 0.8036437246963563, 341: 7.8355263157894735, 342: 1.3059210526315788, 344: 6.268421052631579, 345: 3.1342105263157896, 346: 31.342105263157894, 347: 1.7412280701754383, 348: 15.671052631578947, 349: 1.4924812030075187, 351: 7.8355263157894735, 352: 3.1342105263157896, 353: 31.342105263157894, 354: 1.7412280701754383, 355: 15.671052631578947, 356: 2.6118421052631575, 357: 31.342105263157894, 358: 6.268421052631579, 360: 5.223684210526315, 361: 31.342105263157894, 362: 2.849282296650718, 363: 6.268421052631579, 365: 5.223684210526315, 366: 31.342105263157894, 367: 7.8355263157894735, 368: 6.268421052631579, 370: 7.8355263157894735, 372: 31.342105263157894, 373: 31.342105263157894, 374: 31.342105263157894, 376: 31.342105263157894, 377: 31.342105263157894, 379: 31.342105263157894}"
     ]
    }
   ],
   "source": [
    "es = EarlyStopping(patience=5, restore_best_weights=True)\n",
    "\n",
    "history = model.fit(X, np.array(targets), validation_split=0.2, batch_size=32, epochs=500, callbacks=[es], verbose=1, class_weight=class_weights)"
   ]
  },
  {
   "cell_type": "code",
   "execution_count": 143,
   "id": "35ac9a80",
   "metadata": {},
   "outputs": [
    {
     "data": {
      "text/plain": [
       "[<matplotlib.lines.Line2D at 0x152a51940>]"
      ]
     },
     "execution_count": 143,
     "metadata": {},
     "output_type": "execute_result"
    },
    {
     "data": {
      "image/png": "[encoded data removed]",
      "text/plain": [
       "<Figure size 432x288 with 1 Axes>"
      ]
     },
     "metadata": {
      "needs_background": "light"
     },
     "output_type": "display_data"
    }
   ],
   "source": [
    "plt.plot(history.epoch, history.history['loss'])\n",
    "plt.plot(history.epoch, history.history['val_loss'])"
   ]
  },
  {
   "cell_type": "code",
   "execution_count": 144,
   "id": "14ed3a96",
   "metadata": {},
   "outputs": [
    {
     "name": "stdout",
     "output_type": "stream",
     "text": [
      "1/1 [==============================] - 1s 947ms/step\n",
      "1/1 [==============================] - 0s 26ms/step\n",
      "1/1 [==============================] - 0s 25ms/step\n",
      "1/1 [==============================] - 0s 29ms/step\n",
      "1/1 [==============================] - 0s 32ms/step\n",
      "1/1 [==============================] - 0s 25ms/step\n",
      "1/1 [==============================] - 0s 29ms/step\n",
      "1/1 [==============================] - 0s 27ms/step\n",
      "1/1 [==============================] - 0s 29ms/step\n",
      "1/1 [==============================] - 0s 29ms/step\n"
     ]
    }
   ],
   "source": [
    "note_count = 10\n",
    "Music = \"\"\n",
    "notes_generated = []\n",
    "for i in range(note_count):\n",
    "    sample = X[0].reshape(1, length, 1)\n",
    "    prediction = model.predict(sample, verbose=1)[0]\n",
    "    prediction = np.log(prediction) / 1.0  # diversity?\n",
    "    exp_preds = np.exp(prediction)\n",
    "    prediction = exp_preds / np.sum(exp_preds)\n",
    "    index = np.argmax(prediction)\n",
    "    index_N = index / float(L_symb)\n",
    "    notes_generated.append(index)\n",
    "    Music = [reverse_mapping[char] for char in notes_generated]\n",
    "    seed = np.insert(sample[0], len(sample[0]), index_N)\n",
    "    sample = sample[1:]"
   ]
  },
  {
   "cell_type": "code",
   "execution_count": 145,
   "id": "6cf33bef",
   "metadata": {},
   "outputs": [
    {
     "data": {
      "text/plain": [
       "['63-8',\n",
       " '63-8',\n",
       " '63-8',\n",
       " '63-8',\n",
       " '63-8',\n",
       " '63-8',\n",
       " '63-8',\n",
       " '63-8',\n",
       " '63-8',\n",
       " '63-8']"
      ]
     },
     "execution_count": 145,
     "metadata": {},
     "output_type": "execute_result"
    }
   ],
   "source": [
    "Music"
   ]
  },
  {
   "cell_type": "code",
   "execution_count": null,
   "id": "b39a09d8",
   "metadata": {},
   "outputs": [],
   "source": []
  },
  {
   "cell_type": "code",
   "execution_count": null,
   "id": "6416952d",
   "metadata": {},
   "outputs": [],
   "source": []
  },
  {
   "cell_type": "code",
   "execution_count": null,
   "id": "0ddc3ef1",
   "metadata": {},
   "outputs": [],
   "source": []
  },
  {
   "cell_type": "code",
   "execution_count": null,
   "id": "bb04b1d7",
   "metadata": {},
   "outputs": [],
   "source": []
  },
  {
   "cell_type": "code",
   "execution_count": null,
   "id": "625dd354",
   "metadata": {},
   "outputs": [],
   "source": []
  },
  {
   "cell_type": "code",
   "execution_count": null,
   "id": "332bbdb4",
   "metadata": {},
   "outputs": [],
   "source": []
  },
  {
   "cell_type": "code",
   "execution_count": null,
   "id": "7b1d8677",
   "metadata": {},
   "outputs": [],
   "source": []
  },
  {
   "cell_type": "code",
   "execution_count": 24,
   "id": "63651954",
   "metadata": {},
   "outputs": [],
   "source": [
    "corpus = []\n",
    "for df in all_csv_dfs:\n",
    "    for i, val in df.iterrows():\n",
    "        pitch_dur = str(val.pitch_norm) + '-' + str(val.duration)\n",
    "        corpus.append(pitch_dur)"
   ]
  },
  {
   "cell_type": "code",
   "execution_count": 29,
   "id": "024bb895",
   "metadata": {},
   "outputs": [
    {
     "name": "stdout",
     "output_type": "stream",
     "text": [
      "Total notes in dataset: 1364\n",
      "Total unique note / duration pairs in corpus: 152\n"
     ]
    }
   ],
   "source": [
    "count_num = collections.Counter(corpus)\n",
    "print(\"Total notes in dataset:\", len(corpus))\n",
    "print(\"Total unique note / duration pairs in corpus:\", len(count_num))"
   ]
  },
  {
   "cell_type": "code",
   "execution_count": 33,
   "id": "fd95cc17",
   "metadata": {},
   "outputs": [
    {
     "name": "stdout",
     "output_type": "stream",
     "text": [
      "Average recurrence for a note in Corpus: 8.973684210526315\n",
      "Most frequent note in Corpus appeared: 63 times\n",
      "Least frequent note in Corpus appeared: 1 time\n"
     ]
    }
   ],
   "source": [
    "# Exploring the notes dictionary\n",
    "Notes = list(count_num.keys())\n",
    "Recurrence = list(count_num.values())\n",
    "\n",
    "# Average recurrence for a note in Corpus\n",
    "def Average(lst):\n",
    "    return sum(lst) / len(lst)\n",
    "print(\"Average recurrence for a note in Corpus:\", Average(Recurrence))\n",
    "print(\"Most frequent note in Corpus appeared:\", max(Recurrence), \"times\")\n",
    "print(\"Least frequent note in Corpus appeared:\", min(Recurrence), \"time\")"
   ]
  },
  {
   "cell_type": "code",
   "execution_count": 34,
   "id": "17a9bd1c",
   "metadata": {},
   "outputs": [
    {
     "name": "stdout",
     "output_type": "stream",
     "text": [
      "Total number of notes that occur less than 3 times: 65\n"
     ]
    }
   ],
   "source": [
    "# getting a list of rare notes\n",
    "rare_note = []\n",
    "for index, (key, value) in enumerate(count_num.items()):\n",
    "    if value < 3:\n",
    "        m = key\n",
    "        rare_note.append(m)\n",
    "        \n",
    "print(\"Total number of notes that occur less than 3 times:\", len(rare_note))"
   ]
  },
  {
   "cell_type": "code",
   "execution_count": 37,
   "id": "8a39107c",
   "metadata": {},
   "outputs": [
    {
     "name": "stdout",
     "output_type": "stream",
     "text": [
      "Length of Corpus after elimination of rare notes: 1274\n"
     ]
    }
   ],
   "source": [
    "# Eliminating the rare notes\n",
    "for element in corpus:\n",
    "    if element in rare_note:\n",
    "        corpus.remove(element)\n",
    "        \n",
    "print(\"Length of Corpus after elimination of rare notes:\", len(corpus))"
   ]
  },
  {
   "cell_type": "markdown",
   "id": "74c67060",
   "metadata": {},
   "source": [
    "**Data preprocessing**"
   ]
  },
  {
   "cell_type": "code",
   "execution_count": 38,
   "id": "32f7920a",
   "metadata": {},
   "outputs": [
    {
     "name": "stdout",
     "output_type": "stream",
     "text": [
      "Total number of characters: 1274\n",
      "Number of unique characters: 88\n"
     ]
    }
   ],
   "source": [
    "# Storing all the unique characters present in the corpus to buid a mapping dict.\n",
    "symb = sorted(list(set(corpus)))\n",
    "\n",
    "L_corpus = len(corpus)  # length of corpus\n",
    "L_symb = len(symb)  # length of total unique characters\n",
    "\n",
    "# Building dictionary to access the vocabulary from indices and vice versa\n",
    "mapping = dict((c, i) for i, c in enumerate(symb))\n",
    "reverse_mapping = dict((i, c) for i, c in enumerate(symb))\n",
    "\n",
    "print(\"Total number of characters:\", L_corpus)\n",
    "print(\"Number of unique characters:\", L_symb)"
   ]
  },
  {
   "cell_type": "markdown",
   "id": "1a65e2d0",
   "metadata": {},
   "source": [
    "**Encoding and Splitting the Corpus as Labels and Targets**"
   ]
  },
  {
   "cell_type": "code",
   "execution_count": 40,
   "id": "e129ed31",
   "metadata": {},
   "outputs": [
    {
     "name": "stdout",
     "output_type": "stream",
     "text": [
      "Total number of sequences in the corpus: 1264\n"
     ]
    }
   ],
   "source": [
    "# Splitting the corpus in equal length of strings and output target\n",
    "length = 10\n",
    "features = []\n",
    "targets = []\n",
    "for i in range(0, L_corpus - length, 1):\n",
    "    feature = corpus[i:i + length]\n",
    "    target = corpus[i + length]\n",
    "    features.append([mapping[j] for j in feature])\n",
    "    targets.append(mapping[target])\n",
    "    \n",
    "L_datapoints = len(targets)\n",
    "print(\"Total number of sequences in the corpus:\", L_datapoints)"
   ]
  },
  {
   "cell_type": "code",
   "execution_count": 44,
   "id": "f0346680",
   "metadata": {},
   "outputs": [],
   "source": [
    "from tensorflow.keras.utils import to_categorical\n",
    "\n",
    "# reshape X and normalize\n",
    "X = (np.reshape(features, (L_datapoints, length, 1)))/ float(L_symb)\n",
    "# one hot encode the output variable\n",
    "y = to_categorical(targets)"
   ]
  },
  {
   "cell_type": "code",
   "execution_count": 71,
   "id": "be429bbd",
   "metadata": {},
   "outputs": [
    {
     "data": {
      "image/png": "[encoded data removed]",
      "text/plain": [
       "<Figure size 432x288 with 1 Axes>"
      ]
     },
     "metadata": {
      "needs_background": "light"
     },
     "output_type": "display_data"
    }
   ],
   "source": [
    "plt.hist(targets, bins=50);"
   ]
  },
  {
   "cell_type": "markdown",
   "id": "532110a6",
   "metadata": {},
   "source": [
    "**Model Building**"
   ]
  },
  {
   "cell_type": "code",
   "execution_count": 51,
   "id": "26b19a9e",
   "metadata": {},
   "outputs": [],
   "source": [
    "from tensorflow.keras.optimizers import RMSprop\n",
    "\n",
    "opt = RMSprop(learning_rate=0.01)\n",
    "\n",
    "def initialize_model():\n",
    "    model = Sequential()\n",
    "    \n",
    "    model.add(LSTM(512, input_shape=X.shape[1:], return_sequences=True))\n",
    "    model.add(Dropout(0.1))\n",
    "    model.add(LSTM(256))\n",
    "    model.add(Dense(256))\n",
    "    model.add(Dropout(0.1))\n",
    "    model.add(Dense(y.shape[1], activation='softmax'))\n",
    "    \n",
    "    model.compile(loss='categorical_crossentropy', optimizer=opt)\n",
    "    \n",
    "    return model"
   ]
  },
  {
   "cell_type": "code",
   "execution_count": 52,
   "id": "f67a06e9",
   "metadata": {},
   "outputs": [
    {
     "name": "stdout",
     "output_type": "stream",
     "text": [
      "Model: \"sequential_1\"\n",
      "_________________________________________________________________\n",
      "Layer (type)                 Output Shape              Param #   \n",
      "=================================================================\n",
      "lstm_2 (LSTM)                (None, 10, 512)           1052672   \n",
      "_________________________________________________________________\n",
      "dropout_2 (Dropout)          (None, 10, 512)           0         \n",
      "_________________________________________________________________\n",
      "lstm_3 (LSTM)                (None, 256)               787456    \n",
      "_________________________________________________________________\n",
      "dense_2 (Dense)              (None, 256)               65792     \n",
      "_________________________________________________________________\n",
      "dropout_3 (Dropout)          (None, 256)               0         \n",
      "_________________________________________________________________\n",
      "dense_3 (Dense)              (None, 88)                22616     \n",
      "=================================================================\n",
      "Total params: 1,928,536\n",
      "Trainable params: 1,928,536\n",
      "Non-trainable params: 0\n",
      "_________________________________________________________________\n"
     ]
    }
   ],
   "source": [
    "model = initialize_model()\n",
    "model.summary()"
   ]
  },
  {
   "cell_type": "code",
   "execution_count": 54,
   "id": "2bdc6561",
   "metadata": {},
   "outputs": [
    {
     "name": "stderr",
     "output_type": "stream",
     "text": [
      "2022-03-04 09:50:14.169446: I tensorflow/compiler/mlir/mlir_graph_optimization_pass.cc:185] None of the MLIR Optimization Passes are enabled (registered 2)\n"
     ]
    },
    {
     "name": "stdout",
     "output_type": "stream",
     "text": [
      "Epoch 1/500\n",
      "32/32 [==============================] - 17s 290ms/step - loss: 9.3999 - val_loss: 5.2953\n",
      "Epoch 2/500\n",
      "32/32 [==============================] - 8s 257ms/step - loss: 5.2493 - val_loss: 5.3932\n",
      "Epoch 3/500\n",
      "32/32 [==============================] - 8s 264ms/step - loss: 4.9461 - val_loss: 4.4797\n",
      "Epoch 4/500\n",
      "32/32 [==============================] - 8s 262ms/step - loss: 4.6033 - val_loss: 4.4442\n",
      "Epoch 5/500\n",
      "32/32 [==============================] - 8s 255ms/step - loss: 4.4204 - val_loss: 4.5704\n",
      "Epoch 6/500\n",
      "32/32 [==============================] - 8s 237ms/step - loss: 4.3276 - val_loss: 4.3611\n",
      "Epoch 7/500\n",
      "32/32 [==============================] - 8s 266ms/step - loss: 4.2357 - val_loss: 4.2884\n",
      "Epoch 8/500\n",
      "32/32 [==============================] - 8s 249ms/step - loss: 4.2282 - val_loss: 4.3043\n",
      "Epoch 9/500\n",
      "32/32 [==============================] - 8s 256ms/step - loss: 4.2059 - val_loss: 4.1929\n",
      "Epoch 10/500\n",
      "32/32 [==============================] - 8s 250ms/step - loss: 4.1762 - val_loss: 4.2545\n",
      "Epoch 11/500\n",
      "32/32 [==============================] - 9s 285ms/step - loss: 4.1684 - val_loss: 4.3021\n",
      "Epoch 12/500\n",
      "32/32 [==============================] - 9s 286ms/step - loss: 4.1654 - val_loss: 4.3987\n",
      "Epoch 13/500\n",
      "32/32 [==============================] - 10s 298ms/step - loss: 4.1751 - val_loss: 4.2555\n",
      "Epoch 14/500\n",
      "32/32 [==============================] - 10s 322ms/step - loss: 4.1843 - val_loss: 4.2364\n"
     ]
    }
   ],
   "source": [
    "es = EarlyStopping(patience=5, restore_best_weights=True)\n",
    "\n",
    "history = model.fit(X, y, validation_split=0.2, batch_size=32, epochs=500, , callbacks=[es], verbose=1,\n",
    "                   #class_weight={class_labels: weights - inverse of occurences}\n",
    "                   )"
   ]
  },
  {
   "cell_type": "code",
   "execution_count": 56,
   "id": "c9aeee3c",
   "metadata": {
    "scrolled": true
   },
   "outputs": [
    {
     "data": {
      "text/plain": [
       "[<matplotlib.lines.Line2D at 0x111f53610>]"
      ]
     },
     "execution_count": 56,
     "metadata": {},
     "output_type": "execute_result"
    },
    {
     "data": {
      "image/png": "[encoded data removed]",
      "text/plain": [
       "<Figure size 432x288 with 1 Axes>"
      ]
     },
     "metadata": {
      "needs_background": "light"
     },
     "output_type": "display_data"
    }
   ],
   "source": [
    "plt.plot(history.epoch, history.history['loss'])\n",
    "plt.plot(history.epoch, history.history['val_loss'])"
   ]
  },
  {
   "cell_type": "code",
   "execution_count": 64,
   "id": "a8ded9f9",
   "metadata": {},
   "outputs": [
    {
     "name": "stdout",
     "output_type": "stream",
     "text": [
      "1/1 [==============================] - 0s 40ms/step\n",
      "1/1 [==============================] - 0s 42ms/step\n",
      "1/1 [==============================] - 0s 33ms/step\n",
      "1/1 [==============================] - 0s 26ms/step\n",
      "1/1 [==============================] - 0s 27ms/step\n",
      "1/1 [==============================] - 0s 28ms/step\n",
      "1/1 [==============================] - 0s 25ms/step\n",
      "1/1 [==============================] - 0s 31ms/step\n",
      "1/1 [==============================] - 0s 27ms/step\n",
      "1/1 [==============================] - 0s 33ms/step\n"
     ]
    }
   ],
   "source": [
    "note_count = 10\n",
    "Music = \"\"\n",
    "notes_generated = []\n",
    "for i in range(note_count):\n",
    "    sample = X[0].reshape(1, length, 1)\n",
    "    prediction = model.predict(sample, verbose=1)[0]\n",
    "    prediction = np.log(prediction) / 1.0  # diversity?\n",
    "    exp_preds = np.exp(prediction)\n",
    "    prediction = exp_preds / np.sum(exp_preds)\n",
    "    index = np.argmax(prediction)\n",
    "    index_N = index / float(L_symb)\n",
    "    notes_generated.append(index)\n",
    "    Music = [reverse_mapping[char] for char in notes_generated]\n",
    "    seed = np.insert(sample[0], len(sample[0]), index_N)\n",
    "    sample = sample[1:]"
   ]
  },
  {
   "cell_type": "code",
   "execution_count": 66,
   "id": "2e2ea187",
   "metadata": {},
   "outputs": [
    {
     "data": {
      "text/plain": [
       "['72-8',\n",
       " '72-8',\n",
       " '72-8',\n",
       " '72-8',\n",
       " '72-8',\n",
       " '72-8',\n",
       " '72-8',\n",
       " '72-8',\n",
       " '72-8',\n",
       " '72-8']"
      ]
     },
     "execution_count": 66,
     "metadata": {},
     "output_type": "execute_result"
    }
   ],
   "source": [
    "Music"
   ]
  },
  {
   "cell_type": "markdown",
   "id": "365b8f7f",
   "metadata": {},
   "source": [
    "### Create midi file"
   ]
  },
  {
   "cell_type": "code",
   "execution_count": null,
   "id": "d97101cf",
   "metadata": {},
   "outputs": [],
   "source": [
    "def notes_to_midi(\n",
    "    notes: pd.DataFrame,\n",
    "    instrument_name: str,\n",
    "    velocity: int = 100 # note loudness\n",
    ") -> pretty_midi.PrettyMIDI:\n",
    "    \n",
    "    pm = pretty_midi.PrettyMIDI()\n",
    "    instrument = pretty_midi.Instrument(\n",
    "        program=pretty_midi.instrument_name_to_program(\n",
    "            instrument_name))\n",
    "    \n",
    "    prev_start = 0\n",
    "    for i, note in notes.iterrows():\n",
    "        start = float(prev_start)\n",
    "        end = float(prev_start + note['dur(s)'])\n",
    "        if note['note_name'] == 'r':\n",
    "            start += float(note['dur(s)'])\n",
    "            prev_start = start\n",
    "        else:\n",
    "            note = pretty_midi.Note(\n",
    "                velocity=velocity,\n",
    "                pitch=note.pitch_norm,\n",
    "#                 pitch=int(pretty_midi.note_name_to_number(note['note_name'])),\n",
    "                start=start,\n",
    "                end=end\n",
    "            )\n",
    "            instrument.notes.append(note)\n",
    "            prev_start = end\n",
    "            \n",
    "    pm.instruments.append(instrument)\n",
    "    return pm"
   ]
  },
  {
   "cell_type": "code",
   "execution_count": null,
   "id": "541dd775",
   "metadata": {},
   "outputs": [],
   "source": [
    "instrument_name = 'Acoustic Guitar (nylon)'\n",
    "\n",
    "all_midis = []\n",
    "for df in all_csv_dfs:\n",
    "    pm = notes_to_midi(df, instrument_name)\n",
    "    all_midis.append(pm)"
   ]
  },
  {
   "cell_type": "code",
   "execution_count": null,
   "id": "2a28daf3",
   "metadata": {},
   "outputs": [],
   "source": [
    "instrument = all_midis[0].instruments[0]\n",
    "instrument.notes"
   ]
  },
  {
   "cell_type": "markdown",
   "id": "7e8bdb0a",
   "metadata": {},
   "source": [
    "### Playback the midi"
   ]
  },
  {
   "cell_type": "code",
   "execution_count": null,
   "id": "8f0d7022",
   "metadata": {},
   "outputs": [],
   "source": [
    "_SAMPLING_RATE = 16000\n",
    "\n",
    "def display_audio(pm: pretty_midi.PrettyMIDI):\n",
    "    waveform = pm.fluidsynth(fs=_SAMPLING_RATE)\n",
    "    return display.Audio(waveform, rate=_SAMPLING_RATE)"
   ]
  },
  {
   "cell_type": "code",
   "execution_count": null,
   "id": "c5148a50",
   "metadata": {},
   "outputs": [],
   "source": [
    "# instrument_name = 'Electric Piano 1'\n",
    "instrument_name = 'Acoustic Guitar (nylon)'\n",
    "out_file = 'example.midi'\n",
    "\n",
    "example_pm = notes_to_midi(all_csv_dfs[10], instrument_name)"
   ]
  },
  {
   "cell_type": "code",
   "execution_count": null,
   "id": "13c14db0",
   "metadata": {},
   "outputs": [],
   "source": [
    "#display_audio(example_pm)"
   ]
  },
  {
   "cell_type": "markdown",
   "id": "a2dc3852",
   "metadata": {},
   "source": [
    "### Create dataframe from midi"
   ]
  },
  {
   "cell_type": "code",
   "execution_count": null,
   "id": "c3e04d6b",
   "metadata": {},
   "outputs": [],
   "source": [
    "filenames[45]"
   ]
  },
  {
   "cell_type": "code",
   "execution_count": null,
   "id": "9c2d1fdd",
   "metadata": {},
   "outputs": [],
   "source": [
    "instrument = example_pm.instruments[0]\n",
    "instrument.notes"
   ]
  },
  {
   "cell_type": "code",
   "execution_count": null,
   "id": "d6781eaf",
   "metadata": {},
   "outputs": [],
   "source": [
    "def midi_to_notes(midi: pretty_midi.PrettyMIDI()) -> pd.DataFrame:\n",
    "#     pm = pretty_midi.PrettyMIDI(midi_file)\n",
    "    instrument = midi.instruments[0]\n",
    "    notes = collections.defaultdict(list)\n",
    "    \n",
    "    # Sort the notes by start time\n",
    "    sorted_notes = sorted(instrument.notes, key=lambda note: note.start)\n",
    "    prev_start = sorted_notes[0].start\n",
    "    \n",
    "    for note in sorted_notes:\n",
    "        start = note.start\n",
    "        end = note.end\n",
    "        notes['pitch'].append(note.pitch)\n",
    "        notes['start'].append(start)\n",
    "        notes['end'].append(end)\n",
    "        notes['step'].append(start-prev_start)\n",
    "        notes['duration'].append(end - start)\n",
    "        prev_start = start\n",
    "        \n",
    "    return pd.DataFrame({name: np.array(value) for name, value in notes.items()})"
   ]
  },
  {
   "cell_type": "code",
   "execution_count": null,
   "id": "8506328f",
   "metadata": {},
   "outputs": [],
   "source": [
    "all_midi_dfs = []\n",
    "\n",
    "for midi in all_midis:\n",
    "    midi_df = midi_to_notes(midi)\n",
    "    all_midi_dfs.append(midi_df)"
   ]
  },
  {
   "cell_type": "code",
   "execution_count": null,
   "id": "f5b44961",
   "metadata": {},
   "outputs": [],
   "source": [
    "all_midi_dfs[45].head()"
   ]
  },
  {
   "cell_type": "code",
   "execution_count": null,
   "id": "17e7fa04",
   "metadata": {},
   "outputs": [],
   "source": [
    "max_pitch_list = []\n",
    "min_pitch_list = []\n",
    "pitch_list = []\n",
    "for midi in all_midi_dfs:\n",
    "    max_pitch_list.append(midi.pitch.max())\n",
    "    min_pitch_list.append(midi.pitch.min())\n",
    "    for pitch in midi.pitch:\n",
    "        if pitch not in pitch_list:\n",
    "            pitch_list.append(pitch)"
   ]
  },
  {
   "cell_type": "code",
   "execution_count": null,
   "id": "c1d9e42a",
   "metadata": {},
   "outputs": [],
   "source": [
    "pitch_list.sort()\n",
    "print(f\"highest note: {max(max_pitch_list)} ({pretty_midi.note_number_to_name(max(max_pitch_list))})\")\n",
    "print(f\"lowest note:, {min(min_pitch_list)} ({pretty_midi.note_number_to_name(min(min_pitch_list))})\")\n",
    "print('number of different notes:', len(pitch_list))"
   ]
  },
  {
   "cell_type": "markdown",
   "id": "a03f0041",
   "metadata": {},
   "source": [
    "### Create slices"
   ]
  },
  {
   "cell_type": "code",
   "execution_count": null,
   "id": "bb86cfdd",
   "metadata": {},
   "outputs": [],
   "source": [
    "slice_length = 10\n",
    "X = []\n",
    "y = []\n",
    "\n",
    "for midi in all_midi_dfs:\n",
    "    df_len = len(midi)\n",
    "    last_possible_index = df_len - (slice_length)\n",
    "    for i in range(last_possible_index):\n",
    "        X.append(midi.loc[i:i+slice_length - 1])\n",
    "        y.append(midi.loc[i+slice_length])"
   ]
  },
  {
   "cell_type": "code",
   "execution_count": null,
   "id": "3758d519",
   "metadata": {},
   "outputs": [],
   "source": [
    "# num_slices_per_midi = 5\n",
    "# slice_length = 4\n",
    "# X = []\n",
    "# y = []\n",
    "\n",
    "# for midi in all_midi_dfs:\n",
    "#     df_len = len(midi)\n",
    "#     last_possible_ind = df_len - (slice_length + 1)\n",
    "#     slice_ind = np.random.choice(last_possible_ind, num_slices_per_midi, replace=False)\n",
    "#     for i in slice_ind:\n",
    "#         X.append(midi.loc[i:i+(slice_length - 1)])\n",
    "#         y.append(midi.loc[i+slice_length])\n"
   ]
  },
  {
   "cell_type": "code",
   "execution_count": null,
   "id": "072ce3d0",
   "metadata": {},
   "outputs": [],
   "source": [
    "X[0].values"
   ]
  },
  {
   "cell_type": "markdown",
   "id": "f41d9e78",
   "metadata": {},
   "source": [
    "**transpose notes to all 12 keys**"
   ]
  },
  {
   "cell_type": "code",
   "execution_count": null,
   "id": "795a47f4",
   "metadata": {},
   "outputs": [],
   "source": [
    "X_np = []\n",
    "\n",
    "for seq in X:    \n",
    "    for i in range(-6, 6):\n",
    "        transposer = np.array([[i, 0, 0, 0, 0]])\n",
    "        X_np.append(seq.values + transposer)"
   ]
  },
  {
   "cell_type": "code",
   "execution_count": null,
   "id": "aa9c3e9e",
   "metadata": {},
   "outputs": [],
   "source": [
    "y_np = []\n",
    "\n",
    "for seq in y:\n",
    "    for i in range(-6, 6):\n",
    "        transposer = np.array([[i, 0, 0, 0, 0]])\n",
    "        y_np.append(seq.values + transposer)"
   ]
  },
  {
   "cell_type": "code",
   "execution_count": null,
   "id": "285cd0a2",
   "metadata": {},
   "outputs": [],
   "source": [
    "print(len(X_np))\n",
    "X_np[0], X_np[1]"
   ]
  },
  {
   "cell_type": "code",
   "execution_count": null,
   "id": "5485833c",
   "metadata": {},
   "outputs": [],
   "source": [
    "print(len(y_np))\n",
    "y_np[0]"
   ]
  },
  {
   "cell_type": "markdown",
   "id": "dabfa5e5",
   "metadata": {},
   "source": [
    "**create 3d tensors for model**"
   ]
  },
  {
   "cell_type": "code",
   "execution_count": null,
   "id": "24596664",
   "metadata": {},
   "outputs": [],
   "source": [
    "X_seq = []\n",
    "for slice in X_np:\n",
    "    X_seq.append(np.delete(slice, [1,2], axis=1))\n",
    "\n",
    "X_3d = np.stack(X_seq)\n",
    "\n",
    "y_seq = []\n",
    "for slice in y_np:\n",
    "    y_seq.append(np.delete(slice, [1,2]))\n",
    "\n",
    "y_2d = np.stack(y_seq)"
   ]
  },
  {
   "cell_type": "code",
   "execution_count": null,
   "id": "7e752191",
   "metadata": {},
   "outputs": [],
   "source": [
    "print(X_3d.shape)\n",
    "print(y_2d.shape)"
   ]
  },
  {
   "cell_type": "markdown",
   "id": "0223c268",
   "metadata": {},
   "source": [
    "### Simple model"
   ]
  },
  {
   "cell_type": "code",
   "execution_count": null,
   "id": "fa7d217c",
   "metadata": {},
   "outputs": [],
   "source": [
    "from tensorflow.keras.models import Sequential\n",
    "from tensorflow.keras import layers\n",
    "\n",
    "def initialize_model():\n",
    "    model = Sequential()\n",
    "    \n",
    "    model.add(layers.LSTM(256, activation='tanh', input_shape=X_3d.shape[1:], return_sequences=True))\n",
    "    \n",
    "    model.add(layers.Dropout(rate=0.1))\n",
    "    model.add(layers.LSTM(32, activation='tanh'))\n",
    "    model.add(layers.Dense(32, activation='relu'))\n",
    "    \n",
    "    model.add(layers.Dropout(rate=0.2))\n",
    "    model.add(layers.Dense(3, activation='linear'))\n",
    "    \n",
    "    model.compile(loss='mse', optimizer='rmsprop')\n",
    "    \n",
    "    return model"
   ]
  },
  {
   "cell_type": "code",
   "execution_count": null,
   "id": "9b0dff49",
   "metadata": {},
   "outputs": [],
   "source": [
    "model = initialize_model()\n",
    "model.summary()"
   ]
  },
  {
   "cell_type": "code",
   "execution_count": null,
   "id": "8cfc1047",
   "metadata": {},
   "outputs": [],
   "source": [
    "from tensorflow.keras.callbacks import EarlyStopping#, ModelCheckpoint\n",
    "\n",
    "filepath = '../models.{epoch:02d}-{val_loss:.2f}.h5'\n",
    "\n",
    "# Trains the model\n",
    "es = [EarlyStopping(patience=10, restore_best_weights=True),\n",
    "      #ModelCheckpoint(filepath=filepath, save_best_only=True)\n",
    "     ]\n",
    "\n",
    "model = initialize_model()\n",
    "history = model.fit(X_3d, y_2d, validation_split=0.3, batch_size=16, epochs=500, verbose=1, callbacks=[es])"
   ]
  },
  {
   "cell_type": "code",
   "execution_count": null,
   "id": "49686e49",
   "metadata": {},
   "outputs": [],
   "source": [
    "plt.plot(history.epoch, history.history['loss'])\n",
    "plt.plot(history.epoch, history.history['val_loss'])"
   ]
  },
  {
   "cell_type": "code",
   "execution_count": null,
   "id": "142dd8ed",
   "metadata": {},
   "outputs": [],
   "source": [
    "X_test = tf.expand_dims(X_3d[0], 0)\n",
    "\n",
    "y_pred = model.predict(X_test)\n",
    "\n",
    "y_pred"
   ]
  },
  {
   "cell_type": "markdown",
   "id": "a244d9d7",
   "metadata": {},
   "source": [
    "### Generate Notes"
   ]
  },
  {
   "cell_type": "code",
   "execution_count": null,
   "id": "645e5b2b",
   "metadata": {},
   "outputs": [],
   "source": [
    "np.mean(X_3d[100][:,2])"
   ]
  },
  {
   "cell_type": "code",
   "execution_count": null,
   "id": "9132701b",
   "metadata": {},
   "outputs": [],
   "source": [
    "number_predictions = 20\n",
    "\n",
    "input_notes = X_3d[100]\n",
    "\n",
    "generated_notes = []\n",
    "prev_start = 0\n",
    "for i in range(number_predictions):\n",
    "    inputs = tf.expand_dims(input_notes, 0)\n",
    "    y_pred = model.predict(inputs)\n",
    "    pitch = int(y_pred[0][0])\n",
    "    step = y_pred[0][1]\n",
    "    duration = y_pred[0][2]\n",
    "    start = prev_start + step\n",
    "    end = start + duration\n",
    "    input_note = (pitch, step, duration)\n",
    "    generated_notes.append((*input_note, start, end))\n",
    "    input_notes = np.delete(input_notes, 0, axis=0)\n",
    "    input_notes = np.append(input_notes, np.expand_dims(input_note, 0), axis=0)\n",
    "    prev_start = start\n",
    "    "
   ]
  },
  {
   "cell_type": "code",
   "execution_count": null,
   "id": "081783f5",
   "metadata": {},
   "outputs": [],
   "source": [
    "gn_columns = ['pitch', 'step', 'duration', 'start', 'end']\n",
    "generated_notes = pd.DataFrame(generated_notes, columns=gn_columns)\n",
    "\n",
    "generated_notes"
   ]
  },
  {
   "cell_type": "markdown",
   "id": "2fcdb2eb",
   "metadata": {},
   "source": [
    "### (old) stack all dfs together"
   ]
  },
  {
   "cell_type": "code",
   "execution_count": null,
   "id": "849b4b9c",
   "metadata": {},
   "outputs": [],
   "source": [
    "midi_dfs_stack = np.vstack(all_midi_dfs)\n",
    "\n",
    "num_slices = 200\n",
    "slice_length = 30\n",
    "X = []\n",
    "y = []\n",
    "\n",
    "array_len = midi_dfs_stack.shape[0]\n",
    "last_possible_ind = array_len - (slice_length + 1)\n",
    "slice_ind = np.random.choice(last_possible_ind, num_slices, replace=False)   \n",
    "    \n",
    "for i in slice_ind:\n",
    "    X.append(midi_dfs_stack[i:i+(slice_length - 1)])\n",
    "    y.append(midi_dfs_stack[i+slice_length])"
   ]
  },
  {
   "cell_type": "code",
   "execution_count": null,
   "id": "2f3a18ff",
   "metadata": {},
   "outputs": [],
   "source": [
    "X[0]"
   ]
  },
  {
   "cell_type": "code",
   "execution_count": null,
   "id": "cbd257ff",
   "metadata": {},
   "outputs": [],
   "source": [
    "X_seq = []\n",
    "for sequence in X:\n",
    "    X_seq.append(np.delete(sequence, [1,2], axis=1))\n",
    "\n",
    "X_3d = np.stack(X_seq)\n",
    "\n",
    "y_seq = []\n",
    "for sequence in y:\n",
    "    y_seq.append(np.delete(sequence, [1,2]))\n",
    "\n",
    "y_2d = np.stack(y_seq)"
   ]
  },
  {
   "cell_type": "code",
   "execution_count": null,
   "id": "5461a990",
   "metadata": {},
   "outputs": [],
   "source": [
    "print(X_3d.shape)\n",
    "print(y_2d.shape)"
   ]
  },
  {
   "cell_type": "code",
   "execution_count": null,
   "id": "1f2697f3",
   "metadata": {},
   "outputs": [],
   "source": [
    "from tensorflow.keras.models import Sequential\n",
    "from tensorflow.keras import layers\n",
    "\n",
    "def initialize_model():\n",
    "    model = Sequential()\n",
    "    model.add(layers.LSTM(units=len(pitch_list), activation='tanh', kernel_regularizer='l1', input_shape=X_3d.shape[1:]))\n",
    "    model.add(layers.Dense(3, activation='linear'))\n",
    "    \n",
    "    model.compile(loss='mse', optimizer='rmsprop')\n",
    "    \n",
    "    return model"
   ]
  },
  {
   "cell_type": "code",
   "execution_count": null,
   "id": "f4c24c2d",
   "metadata": {},
   "outputs": [],
   "source": []
  },
  {
   "cell_type": "markdown",
   "id": "fe1db378",
   "metadata": {},
   "source": []
  },
  {
   "cell_type": "code",
   "execution_count": null,
   "id": "c36c75c6",
   "metadata": {},
   "outputs": [],
   "source": [
    "model.save('model.h5')"
   ]
  },
  {
   "cell_type": "code",
   "execution_count": null,
   "id": "2d94a237",
   "metadata": {},
   "outputs": [],
   "source": [
    "from keras.models import load_model"
   ]
  },
  {
   "cell_type": "code",
   "execution_count": null,
   "id": "1a8e42ba",
   "metadata": {},
   "outputs": [],
   "source": [
    "model = load_model('model.h5')"
   ]
  },
  {
   "cell_type": "code",
   "execution_count": null,
   "id": "f5f74dd5",
   "metadata": {},
   "outputs": [],
   "source": []
  },
  {
   "cell_type": "code",
   "execution_count": null,
   "id": "772fcef2",
   "metadata": {},
   "outputs": [],
   "source": [
    "model = initialize_model()\n",
    "model.summary()"
   ]
  },
  {
   "cell_type": "code",
   "execution_count": null,
   "id": "1bbb2bdb",
   "metadata": {},
   "outputs": [],
   "source": [
    "from tensorflow.keras.callbacks import EarlyStopping\n",
    "\n",
    "es = EarlyStopping(patience=20, restore_best_weights=True)\n",
    "\n",
    "model = initialize_model()\n",
    "history = model.fit(X_3d, y_2d, validation_split=0.3, batch_size=16, epochs=300, verbose=1, callbacks=[es])"
   ]
  },
  {
   "cell_type": "code",
   "execution_count": null,
   "id": "facfd923",
   "metadata": {},
   "outputs": [],
   "source": [
    "plt.plot(history.epoch, history.history['loss'])"
   ]
  },
  {
   "cell_type": "code",
   "execution_count": null,
   "id": "5c870792",
   "metadata": {},
   "outputs": [],
   "source": [
    "number_predictions = 20\n",
    "\n",
    "input_notes = X_3d[0]"
   ]
  },
  {
   "cell_type": "code",
   "execution_count": null,
   "id": "86ffc58e",
   "metadata": {},
   "outputs": [],
   "source": [
    "X_3d[0]"
   ]
  },
  {
   "cell_type": "code",
   "execution_count": null,
   "id": "bd4a3852",
   "metadata": {},
   "outputs": [],
   "source": [
    "generated_notes = []\n",
    "prev_start = 0\n",
    "for i in range(number_predictions):\n",
    "    inputs = tf.expand_dims(input_notes, 0)\n",
    "    y_pred = model.predict(inputs)\n",
    "    pitch = int(y_pred[0][0])\n",
    "    step = y_pred[0][1]\n",
    "    duration = y_pred[0][2]\n",
    "    start = prev_start + step\n",
    "    end = start + duration\n",
    "    input_note = (pitch, step, duration)\n",
    "    generated_notes.append((*input_note, start, end))\n",
    "    input_notes = np.delete(input_notes, 0, axis=0)\n",
    "    input_notes = np.append(input_notes, np.expand_dims(input_note, 0), axis=0)\n",
    "    prev_start = start"
   ]
  },
  {
   "cell_type": "code",
   "execution_count": null,
   "id": "08e3d655",
   "metadata": {},
   "outputs": [],
   "source": [
    "generated_notes = pd.DataFrame(generated_notes, columns=all_midi_dfs[0].columns)\n",
    "\n",
    "generated_notes"
   ]
  },
  {
   "cell_type": "code",
   "execution_count": null,
   "id": "a533d0af",
   "metadata": {},
   "outputs": [],
   "source": [
    "import joblib\n",
    "joblib.dump(model, 'model')"
   ]
  },
  {
   "cell_type": "code",
   "execution_count": null,
   "id": "4d9186c7",
   "metadata": {},
   "outputs": [],
   "source": []
  },
  {
   "cell_type": "code",
   "execution_count": null,
   "id": "a413faa5",
   "metadata": {},
   "outputs": [],
   "source": []
  },
  {
   "cell_type": "code",
   "execution_count": null,
   "id": "4ab03f0e",
   "metadata": {},
   "outputs": [],
   "source": [
    "def midi_df_to_midi(\n",
    "    notes: pd.DataFrame,\n",
    "    instrument_name: str,\n",
    "    velocity: int = 100 # note loudness\n",
    ") -> pretty_midi.PrettyMIDI:\n",
    "    \n",
    "    pm = pretty_midi.PrettyMIDI()\n",
    "    instrument = pretty_midi.Instrument(\n",
    "        program=pretty_midi.instrument_name_to_program(\n",
    "            instrument_name))\n",
    "    \n",
    "    prev_start = 0\n",
    "    for i, note in notes.iterrows():\n",
    "        start = float(prev_start + note['step'])\n",
    "        end = float(start + note['duration'])\n",
    "        note = pretty_midi.Note(\n",
    "            velocity=velocity,\n",
    "            pitch=int(note['pitch']),\n",
    "            start=start,\n",
    "            end=end,\n",
    "        )\n",
    "        instrument.notes.append(note)\n",
    "        prev_start = start\n",
    "        \n",
    "    pm.instruments.append(instrument)\n",
    "    return pm"
   ]
  },
  {
   "cell_type": "code",
   "execution_count": null,
   "id": "13c73315",
   "metadata": {},
   "outputs": [],
   "source": [
    "pm = midi_df_to_midi(generated_notes, instrument_name)\n",
    "display_audio(pm)"
   ]
  },
  {
   "cell_type": "code",
   "execution_count": null,
   "id": "30253a25",
   "metadata": {},
   "outputs": [],
   "source": []
  },
  {
   "cell_type": "code",
   "execution_count": null,
   "id": "1152360d",
   "metadata": {},
   "outputs": [],
   "source": []
  },
  {
   "cell_type": "code",
   "execution_count": null,
   "id": "b7e5ae4f",
   "metadata": {},
   "outputs": [],
   "source": []
  },
  {
   "cell_type": "code",
   "execution_count": null,
   "id": "04195074",
   "metadata": {},
   "outputs": [],
   "source": []
  },
  {
   "cell_type": "code",
   "execution_count": null,
   "id": "daa3a500",
   "metadata": {},
   "outputs": [],
   "source": []
  },
  {
   "cell_type": "code",
   "execution_count": null,
   "id": "4abd8a0b",
   "metadata": {},
   "outputs": [],
   "source": []
  },
  {
   "cell_type": "code",
   "execution_count": null,
   "id": "581a600e",
   "metadata": {},
   "outputs": [],
   "source": []
  },
  {
   "cell_type": "code",
   "execution_count": null,
   "id": "c873d344",
   "metadata": {},
   "outputs": [],
   "source": []
  },
  {
   "cell_type": "markdown",
   "id": "a5a580bf",
   "metadata": {},
   "source": [
    "### from RNN tutorial"
   ]
  },
  {
   "cell_type": "code",
   "execution_count": null,
   "id": "b9e1a9ed",
   "metadata": {},
   "outputs": [],
   "source": [
    "def mse_with_positive_pressure(y_true: tf.Tensor, y_pred: tf.Tensor):\n",
    "    mse = (y_true -y_pred) ** 2\n",
    "    positive_pressure = 10 * tf.maximum(-y_pred, 0.0)\n",
    "    return tf.reduce_mean(mse + positive_pressure)"
   ]
  },
  {
   "cell_type": "code",
   "execution_count": null,
   "id": "3f42e38b",
   "metadata": {},
   "outputs": [],
   "source": [
    "input_shape = X_3d.shape[1:]\n",
    "learning_rate = 0.005\n",
    "\n",
    "inputs = tf.keras.Input(input_shape)\n",
    "x = tf.keras.layers.LSTM(len(pitch_list))(inputs)\n",
    "\n",
    "outputs = {\n",
    "    'pitch': tf.keras.layers.Dense(len(pitch_list), name='pitch')(x),\n",
    "    'step': tf.keras.layers.Dense(1, name='step')(x),\n",
    "    'duration': tf.keras.layers.Dense(1, name='duration')(x),\n",
    "}\n",
    "                                   \n",
    "\n",
    "model = tf.keras.Model(inputs, outputs)\n",
    "\n",
    "loss = {\n",
    "    'pitch': tf.keras.losses.SparseCategoricalCrossentropy(from_logits=True),\n",
    "    'step': mse_with_positive_pressure,\n",
    "    'duration': mse_with_positive_pressure,\n",
    "}\n",
    "\n",
    "optimizer = tf.keras.optimizers.Adam(learning_rate=learning_rate)\n",
    "\n",
    "model.compile(loss=loss, optimizer=optimizer)\n",
    "\n",
    "model.summary()"
   ]
  },
  {
   "cell_type": "code",
   "execution_count": null,
   "id": "1f709ec5",
   "metadata": {},
   "outputs": [],
   "source": [
    "model.compile(\n",
    "    loss=loss,\n",
    "    loss_weights={\n",
    "        'pitch': 0.05,\n",
    "        'step': 1.0,\n",
    "        'duration': 1.0\n",
    "    },\n",
    "    optimizer=optimizer,\n",
    ")\n"
   ]
  },
  {
   "cell_type": "code",
   "execution_count": null,
   "id": "13116cd1",
   "metadata": {},
   "outputs": [],
   "source": [
    "es = tf.keras.callbacks.EarlyStopping(\n",
    "        monitor='loss',\n",
    "        patience=5,\n",
    "        verbose=1,\n",
    "        restore_best_weights=True)"
   ]
  },
  {
   "cell_type": "code",
   "execution_count": null,
   "id": "1e22d643",
   "metadata": {},
   "outputs": [],
   "source": [
    "%%time\n",
    "epochs = 10\n",
    "\n",
    "history = model.fit(\n",
    "    X_3d,\n",
    "    epochs=epochs,\n",
    "    callbacks=[es],\n",
    ")"
   ]
  },
  {
   "cell_type": "markdown",
   "id": "7fe2981d",
   "metadata": {},
   "source": [
    "### dataframes to tensorflow dataset"
   ]
  },
  {
   "cell_type": "code",
   "execution_count": null,
   "id": "46bd47a9",
   "metadata": {},
   "outputs": [],
   "source": [
    "key_order = ['pitch', 'step', 'duration']\n",
    "\n",
    "midi_arrays = []\n",
    "for df in all_midi_dfs:\n",
    "    midi_arrays.append(np.stack([df[key] for key in key_order], axis=1))"
   ]
  },
  {
   "cell_type": "code",
   "execution_count": null,
   "id": "ed36654d",
   "metadata": {},
   "outputs": [],
   "source": [
    "tf_stuff = []\n",
    "for array in midi_arrays:\n",
    "    tf_stuff.append(tf.data.Dataset.from_tensor_slices(array))"
   ]
  },
  {
   "cell_type": "code",
   "execution_count": null,
   "id": "20de362c",
   "metadata": {},
   "outputs": [],
   "source": [
    "list(tf_stuff[0].as_numpy_iterator())"
   ]
  },
  {
   "cell_type": "markdown",
   "id": "b3d2fcc2",
   "metadata": {
    "heading_collapsed": true
   },
   "source": [
    "### Useful code"
   ]
  },
  {
   "cell_type": "code",
   "execution_count": null,
   "id": "c7e11c35",
   "metadata": {
    "hidden": true
   },
   "outputs": [],
   "source": [
    "# df['dur(s)'] = df.duration.apply(compound_duration_to_seconds)"
   ]
  },
  {
   "cell_type": "code",
   "execution_count": null,
   "id": "6726db2c",
   "metadata": {
    "hidden": true
   },
   "outputs": [],
   "source": [
    "# prev_start = 0\n",
    "# start = []\n",
    "# end = []\n",
    "# for _ in df['dur(s)']:\n",
    "#     start.append(prev_start)\n",
    "#     end_time = prev_start + _\n",
    "#     end.append(end_time)\n",
    "#     prev_start = end_time"
   ]
  },
  {
   "cell_type": "code",
   "execution_count": null,
   "id": "494c668f",
   "metadata": {
    "hidden": true
   },
   "outputs": [],
   "source": [
    "# df['start'] = pd.Series(start)\n",
    "# df['end'] = pd.Series(end)\n",
    "# df['pitch'] = df['note_name'].apply(lambda x: pretty_midi.note_name_to_number(x))"
   ]
  },
  {
   "cell_type": "code",
   "execution_count": null,
   "id": "fee2bf9f",
   "metadata": {
    "hidden": true
   },
   "outputs": [],
   "source": []
  }
 ],
 "metadata": {
  "kernelspec": {
   "display_name": "Python 3 (ipykernel)",
   "language": "python",
   "name": "python3"
  },
  "language_info": {
   "codemirror_mode": {
    "name": "ipython",
    "version": 3
   },
   "file_extension": ".py",
   "mimetype": "text/x-python",
   "name": "python",
   "nbconvert_exporter": "python",
   "pygments_lexer": "ipython3",
   "version": "3.8.12"
  },
  "toc": {
   "base_numbering": 1,
   "nav_menu": {},
   "number_sections": true,
   "sideBar": true,
   "skip_h1_title": false,
   "title_cell": "Table of Contents",
   "title_sidebar": "Contents",
   "toc_cell": false,
   "toc_position": {},
   "toc_section_display": true,
   "toc_window_display": false
  }
 },
 "nbformat": 4,
 "nbformat_minor": 5
}

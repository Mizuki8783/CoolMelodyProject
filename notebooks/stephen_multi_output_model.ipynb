{
 "cells": [
  {
   "cell_type": "markdown",
   "id": "6176a536",
   "metadata": {
    "id": "6176a536"
   },
   "source": [
    "## Multi output model"
   ]
  },
  {
   "cell_type": "markdown",
   "id": "222d5a40",
   "metadata": {
    "heading_collapsed": true,
    "id": "222d5a40"
   },
   "source": [
    "### Setup"
   ]
  },
  {
   "cell_type": "code",
   "execution_count": 1,
   "id": "8426d8d7",
   "metadata": {
    "hidden": true,
    "id": "8426d8d7"
   },
   "outputs": [],
   "source": [
    "import pandas as pd\n",
    "import numpy as np\n",
    "import pretty_midi\n",
    "# import fluidsynth\n",
    "# from IPython import display\n",
    "from IPython.display import Image, Audio\n",
    "import glob\n",
    "import collections\n",
    "import tensorflow as tf\n",
    "from tensorflow.keras.models import Sequential\n",
    "from tensorflow.keras.layers import LSTM, Dense, Dropout\n",
    "from tensorflow.keras.utils import to_categorical\n",
    "from tensorflow.keras.optimizers import RMSprop\n",
    "from tensorflow.keras.callbacks import EarlyStopping\n",
    "import matplotlib.pyplot as plt"
   ]
  },
  {
   "cell_type": "code",
   "execution_count": 2,
   "id": "8b5ec55a",
   "metadata": {
    "colab": {
     "base_uri": "https://localhost:8080/"
    },
    "hidden": true,
    "id": "8b5ec55a",
    "outputId": "c8b9f552-cb31-4c0e-e39a-4310b845dd22"
   },
   "outputs": [
    {
     "name": "stdout",
     "output_type": "stream",
     "text": [
      "Number of files: 57\n",
      "first file: ../raw_data/mozart_sonatas/mps - K311-I.csv\n"
     ]
    }
   ],
   "source": [
    "filenames = glob.glob('../raw_data/mozart_sonatas/mps - K*')\n",
    "print('Number of files:', len(filenames))\n",
    "print('first file:', filenames[0])"
   ]
  },
  {
   "cell_type": "markdown",
   "id": "3ece1cbf",
   "metadata": {
    "hidden": true,
    "id": "3ece1cbf"
   },
   "source": [
    "**create pieces df (each row is one piece)**"
   ]
  },
  {
   "cell_type": "code",
   "execution_count": 3,
   "id": "3d09afe5",
   "metadata": {
    "colab": {
     "base_uri": "https://localhost:8080/",
     "height": 206
    },
    "hidden": true,
    "id": "3d09afe5",
    "outputId": "cda238c5-061e-420b-f2d1-1dda0e8c7466"
   },
   "outputs": [
    {
     "data": {
      "text/html": [
       "<div>\n",
       "<style scoped>\n",
       "    .dataframe tbody tr th:only-of-type {\n",
       "        vertical-align: middle;\n",
       "    }\n",
       "\n",
       "    .dataframe tbody tr th {\n",
       "        vertical-align: top;\n",
       "    }\n",
       "\n",
       "    .dataframe thead th {\n",
       "        text-align: right;\n",
       "    }\n",
       "</style>\n",
       "<table border=\"1\" class=\"dataframe\">\n",
       "  <thead>\n",
       "    <tr style=\"text-align: right;\">\n",
       "      <th></th>\n",
       "      <th>name</th>\n",
       "      <th>key</th>\n",
       "      <th>title</th>\n",
       "      <th>time_sig</th>\n",
       "      <th>tempo marking</th>\n",
       "      <th>bpm</th>\n",
       "      <th>pickup_bar</th>\n",
       "      <th>pickup_length</th>\n",
       "    </tr>\n",
       "  </thead>\n",
       "  <tbody>\n",
       "    <tr>\n",
       "      <th>0</th>\n",
       "      <td>K545-I</td>\n",
       "      <td>c major</td>\n",
       "      <td>NaN</td>\n",
       "      <td>common</td>\n",
       "      <td>allegro</td>\n",
       "      <td>4=132</td>\n",
       "      <td>0</td>\n",
       "      <td>0</td>\n",
       "    </tr>\n",
       "    <tr>\n",
       "      <th>1</th>\n",
       "      <td>K545-II</td>\n",
       "      <td>g major</td>\n",
       "      <td>NaN</td>\n",
       "      <td>3/4</td>\n",
       "      <td>andante</td>\n",
       "      <td>4=60</td>\n",
       "      <td>0</td>\n",
       "      <td>0</td>\n",
       "    </tr>\n",
       "    <tr>\n",
       "      <th>2</th>\n",
       "      <td>K545-III</td>\n",
       "      <td>c major</td>\n",
       "      <td>Rondo</td>\n",
       "      <td>2/4</td>\n",
       "      <td>allegretto grazioso</td>\n",
       "      <td>4=104</td>\n",
       "      <td>1</td>\n",
       "      <td>4</td>\n",
       "    </tr>\n",
       "    <tr>\n",
       "      <th>3</th>\n",
       "      <td>K283-I</td>\n",
       "      <td>g major</td>\n",
       "      <td>NaN</td>\n",
       "      <td>3/4</td>\n",
       "      <td>allegro</td>\n",
       "      <td>4=138</td>\n",
       "      <td>1</td>\n",
       "      <td>4</td>\n",
       "    </tr>\n",
       "    <tr>\n",
       "      <th>4</th>\n",
       "      <td>K283-II</td>\n",
       "      <td>c major</td>\n",
       "      <td>NaN</td>\n",
       "      <td>common</td>\n",
       "      <td>andante</td>\n",
       "      <td>4=58</td>\n",
       "      <td>0</td>\n",
       "      <td>0</td>\n",
       "    </tr>\n",
       "  </tbody>\n",
       "</table>\n",
       "</div>"
      ],
      "text/plain": [
       "       name      key  title time_sig        tempo marking    bpm  pickup_bar  \\\n",
       "0    K545-I  c major    NaN   common              allegro  4=132           0   \n",
       "1   K545-II  g major    NaN      3/4              andante   4=60           0   \n",
       "2  K545-III  c major  Rondo      2/4  allegretto grazioso  4=104           1   \n",
       "3    K283-I  g major    NaN      3/4              allegro  4=138           1   \n",
       "4   K283-II  c major    NaN   common              andante   4=58           0   \n",
       "\n",
       "  pickup_length  \n",
       "0             0  \n",
       "1             0  \n",
       "2             4  \n",
       "3             4  \n",
       "4             0  "
      ]
     },
     "execution_count": 3,
     "metadata": {},
     "output_type": "execute_result"
    }
   ],
   "source": [
    "pieces_df = pd.read_csv('../raw_data/mozart_sonatas/mps - pieces.csv')\n",
    "pieces_df.head()"
   ]
  },
  {
   "cell_type": "markdown",
   "id": "8e0aacb2",
   "metadata": {
    "heading_collapsed": true,
    "id": "8e0aacb2"
   },
   "source": [
    "### Normalize pitches to C major / A minor"
   ]
  },
  {
   "cell_type": "markdown",
   "id": "bc0d2571",
   "metadata": {
    "hidden": true,
    "id": "bc0d2571"
   },
   "source": [
    "**create key converter dictionaries**"
   ]
  },
  {
   "cell_type": "code",
   "execution_count": 4,
   "id": "e1899327",
   "metadata": {
    "hidden": true,
    "id": "e1899327"
   },
   "outputs": [],
   "source": [
    "# key: # of half steps to add to get to c major / a minor\n",
    "maj_key_converter_dict = {'a major': 3, 'bb major': 2, 'c major': 0, 'd major': -2, 'eb major': -3, 'f major': -5, 'g major': 5}\n",
    "min_key_converter_dict = {'a minor': 0, 'c minor': -3, 'f minor': 4}"
   ]
  },
  {
   "cell_type": "code",
   "execution_count": 5,
   "id": "59ad640c",
   "metadata": {
    "hidden": true,
    "id": "59ad640c"
   },
   "outputs": [],
   "source": [
    "def normalize_pitches(x, piece_key_type, piece_key):\n",
    "    if x > 0:\n",
    "        if piece_key_type == 'major':\n",
    "            x += maj_key_converter_dict[piece_key]\n",
    "        else:\n",
    "            x += min_key_converter_dict[piece_key]\n",
    "    return x"
   ]
  },
  {
   "cell_type": "markdown",
   "id": "694dcaf8",
   "metadata": {
    "heading_collapsed": true,
    "id": "694dcaf8"
   },
   "source": [
    "### Create duration (in seconds) column"
   ]
  },
  {
   "cell_type": "code",
   "execution_count": 6,
   "id": "7bd11799",
   "metadata": {
    "colab": {
     "base_uri": "https://localhost:8080/"
    },
    "hidden": true,
    "id": "7bd11799",
    "outputId": "71383ca3-2a35-486c-df84-b81cedeb21f2"
   },
   "outputs": [
    {
     "data": {
      "text/plain": [
       "{'2', '2d', '4', '4d', '8'}"
      ]
     },
     "execution_count": 6,
     "metadata": {},
     "output_type": "execute_result"
    }
   ],
   "source": [
    "bpm_beat_types = set([bpm.split('=')[0] for bpm in pieces_df.bpm.value_counts().index])\n",
    "bpm_beat_types"
   ]
  },
  {
   "cell_type": "code",
   "execution_count": 7,
   "id": "72958d0e",
   "metadata": {
    "hidden": true,
    "id": "72958d0e"
   },
   "outputs": [],
   "source": [
    "# bpm note value: amount to multiply bpm by to convert bpm to quarter notes\n",
    "bpm_converter_dict = {'2': 2, '2d': 3, '4': 1, '4d': 1.5, '8': 0.5}"
   ]
  },
  {
   "cell_type": "code",
   "execution_count": 8,
   "id": "c966c3d1",
   "metadata": {
    "hidden": true,
    "id": "c966c3d1"
   },
   "outputs": [],
   "source": [
    "# duration: amount to multiply spb (seconds per beat) by to get duration in seconds\n",
    "beat_dict = {\n",
    "    '1': 4, \n",
    "    '2': 2, \n",
    "    '4': 1, \n",
    "    '8': 0.5,\n",
    "    '16': 0.25,\n",
    "    '32': 0.125,\n",
    "    '64': 0.0625\n",
    "}"
   ]
  },
  {
   "cell_type": "code",
   "execution_count": 9,
   "id": "d881b90a",
   "metadata": {
    "hidden": true,
    "id": "d881b90a"
   },
   "outputs": [],
   "source": [
    "def duration_to_seconds(x, piece_spb):\n",
    "    if type(x) != 'str':\n",
    "        x = str(x)\n",
    "    if x[-2:] == 'dd':\n",
    "        s = piece_spb * beat_dict[x[:-2]] * 1.75\n",
    "    elif x[-1] == 'd':\n",
    "        s = piece_spb * beat_dict[x[:-1]] * 1.5\n",
    "    else:\n",
    "        s = piece_spb * beat_dict[x]\n",
    "    return s"
   ]
  },
  {
   "cell_type": "markdown",
   "id": "ece9a515",
   "metadata": {
    "heading_collapsed": true,
    "id": "ece9a515"
   },
   "source": [
    "### preprocess all dfs"
   ]
  },
  {
   "cell_type": "code",
   "execution_count": 12,
   "id": "5808a4d2",
   "metadata": {
    "hidden": true,
    "id": "5808a4d2"
   },
   "outputs": [],
   "source": [
    "def process_df(filename):\n",
    "    \n",
    "    # extract the K number\n",
    "    k_num = filename.split(' - ')[1].split('.csv')[0].strip(' ')\n",
    "    \n",
    "    # create df\n",
    "    df = pd.read_csv(filename)  # make df\n",
    "    \n",
    "    # normalize pitch\n",
    "    df['pitch'] = df.note_name.apply(lambda x: pretty_midi.note_name_to_number(x) if x != 'r' else 0)  \n",
    "    piece_key = pieces_df[pieces_df['name'] == k_num]['key'].values[0].strip(' ')\n",
    "    piece_key_type = piece_key.split(' ')[1].strip(' ')\n",
    "    df['pitch_norm'] = df.pitch.apply(normalize_pitches, args=(piece_key_type, piece_key))\n",
    "    \n",
    "    # get duration in seconds\n",
    "    piece_bpm = pieces_df[pieces_df['name'] == k_num]['bpm'].values[0].split('=')\n",
    "    piece_bpm_norm = int(bpm_converter_dict[piece_bpm[0]] * int(piece_bpm[1]))\n",
    "    piece_spb = 60 / piece_bpm_norm\n",
    "    df['dur(s)'] = df.duration.apply(duration_to_seconds, args=(piece_spb,))\n",
    "    \n",
    "    return df"
   ]
  },
  {
   "cell_type": "code",
   "execution_count": 13,
   "id": "0fe9b69e",
   "metadata": {
    "code_folding": [],
    "colab": {
     "base_uri": "https://localhost:8080/"
    },
    "hidden": true,
    "id": "0fe9b69e",
    "outputId": "cafa3bbf-dd6e-47a7-f01c-05c825e8ebf5"
   },
   "outputs": [],
   "source": [
    "all_csv_dfs = []\n",
    "for file in filenames:\n",
    "    all_csv_dfs.append(process_df(file))"
   ]
  },
  {
   "cell_type": "code",
   "execution_count": 14,
   "id": "4bdfbf30",
   "metadata": {
    "colab": {
     "base_uri": "https://localhost:8080/",
     "height": 250
    },
    "hidden": true,
    "id": "4bdfbf30",
    "outputId": "bae48e5d-49f3-450e-9402-4d6a16553e52"
   },
   "outputs": [
    {
     "data": {
      "text/html": [
       "<div>\n",
       "<style scoped>\n",
       "    .dataframe tbody tr th:only-of-type {\n",
       "        vertical-align: middle;\n",
       "    }\n",
       "\n",
       "    .dataframe tbody tr th {\n",
       "        vertical-align: top;\n",
       "    }\n",
       "\n",
       "    .dataframe thead th {\n",
       "        text-align: right;\n",
       "    }\n",
       "</style>\n",
       "<table border=\"1\" class=\"dataframe\">\n",
       "  <thead>\n",
       "    <tr style=\"text-align: right;\">\n",
       "      <th></th>\n",
       "      <th>note_name</th>\n",
       "      <th>duration</th>\n",
       "      <th>measure</th>\n",
       "      <th>beat</th>\n",
       "      <th>subdiv</th>\n",
       "      <th>harm</th>\n",
       "      <th>from_root</th>\n",
       "      <th>NCT</th>\n",
       "      <th>BI2</th>\n",
       "      <th>CI</th>\n",
       "      <th>trill</th>\n",
       "      <th>dynamic</th>\n",
       "      <th>pitch</th>\n",
       "      <th>pitch_norm</th>\n",
       "      <th>dur(s)</th>\n",
       "    </tr>\n",
       "  </thead>\n",
       "  <tbody>\n",
       "    <tr>\n",
       "      <th>0</th>\n",
       "      <td>d5</td>\n",
       "      <td>4</td>\n",
       "      <td>1</td>\n",
       "      <td>1</td>\n",
       "      <td>1</td>\n",
       "      <td>I</td>\n",
       "      <td>1</td>\n",
       "      <td>0</td>\n",
       "      <td>0</td>\n",
       "      <td>0</td>\n",
       "      <td>0</td>\n",
       "      <td>f</td>\n",
       "      <td>74</td>\n",
       "      <td>72</td>\n",
       "      <td>0.454545</td>\n",
       "    </tr>\n",
       "    <tr>\n",
       "      <th>1</th>\n",
       "      <td>r</td>\n",
       "      <td>4</td>\n",
       "      <td>1</td>\n",
       "      <td>2</td>\n",
       "      <td>1</td>\n",
       "      <td>0</td>\n",
       "      <td>0</td>\n",
       "      <td>0</td>\n",
       "      <td>0</td>\n",
       "      <td>0</td>\n",
       "      <td>0</td>\n",
       "      <td>f</td>\n",
       "      <td>0</td>\n",
       "      <td>0</td>\n",
       "      <td>0.454545</td>\n",
       "    </tr>\n",
       "    <tr>\n",
       "      <th>2</th>\n",
       "      <td>g5</td>\n",
       "      <td>16</td>\n",
       "      <td>1</td>\n",
       "      <td>3</td>\n",
       "      <td>1</td>\n",
       "      <td>I</td>\n",
       "      <td>4</td>\n",
       "      <td>1</td>\n",
       "      <td>0</td>\n",
       "      <td>0</td>\n",
       "      <td>0</td>\n",
       "      <td>f</td>\n",
       "      <td>79</td>\n",
       "      <td>77</td>\n",
       "      <td>0.113636</td>\n",
       "    </tr>\n",
       "    <tr>\n",
       "      <th>3</th>\n",
       "      <td>f#5</td>\n",
       "      <td>16</td>\n",
       "      <td>1</td>\n",
       "      <td>3</td>\n",
       "      <td>2</td>\n",
       "      <td>I</td>\n",
       "      <td>3</td>\n",
       "      <td>0</td>\n",
       "      <td>0</td>\n",
       "      <td>0</td>\n",
       "      <td>0</td>\n",
       "      <td>f</td>\n",
       "      <td>78</td>\n",
       "      <td>76</td>\n",
       "      <td>0.113636</td>\n",
       "    </tr>\n",
       "    <tr>\n",
       "      <th>4</th>\n",
       "      <td>e5</td>\n",
       "      <td>16</td>\n",
       "      <td>1</td>\n",
       "      <td>3</td>\n",
       "      <td>3</td>\n",
       "      <td>I</td>\n",
       "      <td>2</td>\n",
       "      <td>1</td>\n",
       "      <td>0</td>\n",
       "      <td>0</td>\n",
       "      <td>0</td>\n",
       "      <td>f</td>\n",
       "      <td>76</td>\n",
       "      <td>74</td>\n",
       "      <td>0.113636</td>\n",
       "    </tr>\n",
       "  </tbody>\n",
       "</table>\n",
       "</div>"
      ],
      "text/plain": [
       "  note_name  duration  measure  beat  subdiv harm  from_root  NCT  BI2  CI  \\\n",
       "0        d5         4        1     1       1    I          1    0    0   0   \n",
       "1         r         4        1     2       1    0          0    0    0   0   \n",
       "2        g5        16        1     3       1    I          4    1    0   0   \n",
       "3       f#5        16        1     3       2    I          3    0    0   0   \n",
       "4        e5        16        1     3       3    I          2    1    0   0   \n",
       "\n",
       "   trill dynamic  pitch  pitch_norm    dur(s)  \n",
       "0      0       f     74          72  0.454545  \n",
       "1      0       f      0           0  0.454545  \n",
       "2      0       f     79          77  0.113636  \n",
       "3      0       f     78          76  0.113636  \n",
       "4      0       f     76          74  0.113636  "
      ]
     },
     "execution_count": 14,
     "metadata": {},
     "output_type": "execute_result"
    }
   ],
   "source": [
    "all_csv_dfs[0].head()"
   ]
  },
  {
   "cell_type": "markdown",
   "id": "JuIeyn-dVzt4",
   "metadata": {
    "id": "JuIeyn-dVzt4"
   },
   "source": [
    "### Multi-output model (2 targets - pitch and duration)"
   ]
  },
  {
   "cell_type": "code",
   "execution_count": 17,
   "id": "JDmEuhsBVyw_",
   "metadata": {
    "id": "JDmEuhsBVyw_"
   },
   "outputs": [],
   "source": [
    "# make columns of each pitch-duration pair transposed to 12 keys\n",
    "\n",
    "for df in all_csv_dfs:\n",
    "    for i in range(-6, 6):\n",
    "        pitch_duration = []\n",
    "        for ind, val in df.iterrows():\n",
    "            if val.note_name == 'r':\n",
    "                pitch_duration.append(str(0) + '-' + str(val.duration))\n",
    "            else:\n",
    "                pitch_duration.append(str(int(val.pitch_norm + i)) + '-' + str(val.duration))\n",
    "        df[f'pitch_dur{i}'] = pitch_duration"
   ]
  },
  {
   "cell_type": "code",
   "execution_count": 18,
   "id": "7XfDbCB_Zdzq",
   "metadata": {
    "colab": {
     "base_uri": "https://localhost:8080/",
     "height": 254
    },
    "id": "7XfDbCB_Zdzq",
    "outputId": "24032b3a-b005-4aeb-fe0f-b937834f76c7"
   },
   "outputs": [
    {
     "data": {
      "text/html": [
       "\n",
       "  <div id=\"df-0e44c778-48ce-48cb-9430-b869a6696294\">\n",
       "    <div class=\"colab-df-container\">\n",
       "      <div>\n",
       "<style scoped>\n",
       "    .dataframe tbody tr th:only-of-type {\n",
       "        vertical-align: middle;\n",
       "    }\n",
       "\n",
       "    .dataframe tbody tr th {\n",
       "        vertical-align: top;\n",
       "    }\n",
       "\n",
       "    .dataframe thead th {\n",
       "        text-align: right;\n",
       "    }\n",
       "</style>\n",
       "<table border=\"1\" class=\"dataframe\">\n",
       "  <thead>\n",
       "    <tr style=\"text-align: right;\">\n",
       "      <th></th>\n",
       "      <th>note_name</th>\n",
       "      <th>duration</th>\n",
       "      <th>measure</th>\n",
       "      <th>beat</th>\n",
       "      <th>subdiv</th>\n",
       "      <th>harm</th>\n",
       "      <th>from_root</th>\n",
       "      <th>NCT</th>\n",
       "      <th>BI2</th>\n",
       "      <th>CI</th>\n",
       "      <th>...</th>\n",
       "      <th>pitch_dur-4</th>\n",
       "      <th>pitch_dur-3</th>\n",
       "      <th>pitch_dur-2</th>\n",
       "      <th>pitch_dur-1</th>\n",
       "      <th>pitch_dur0</th>\n",
       "      <th>pitch_dur1</th>\n",
       "      <th>pitch_dur2</th>\n",
       "      <th>pitch_dur3</th>\n",
       "      <th>pitch_dur4</th>\n",
       "      <th>pitch_dur5</th>\n",
       "    </tr>\n",
       "  </thead>\n",
       "  <tbody>\n",
       "    <tr>\n",
       "      <th>0</th>\n",
       "      <td>d5</td>\n",
       "      <td>8d</td>\n",
       "      <td>0</td>\n",
       "      <td>3</td>\n",
       "      <td>1</td>\n",
       "      <td>I6</td>\n",
       "      <td>3</td>\n",
       "      <td>0</td>\n",
       "      <td>0</td>\n",
       "      <td>0</td>\n",
       "      <td>...</td>\n",
       "      <td>72-8d</td>\n",
       "      <td>73-8d</td>\n",
       "      <td>74-8d</td>\n",
       "      <td>75-8d</td>\n",
       "      <td>76-8d</td>\n",
       "      <td>77-8d</td>\n",
       "      <td>78-8d</td>\n",
       "      <td>79-8d</td>\n",
       "      <td>80-8d</td>\n",
       "      <td>81-8d</td>\n",
       "    </tr>\n",
       "    <tr>\n",
       "      <th>1</th>\n",
       "      <td>eb5</td>\n",
       "      <td>16</td>\n",
       "      <td>0</td>\n",
       "      <td>3</td>\n",
       "      <td>4</td>\n",
       "      <td>I6</td>\n",
       "      <td>4</td>\n",
       "      <td>1</td>\n",
       "      <td>0</td>\n",
       "      <td>0</td>\n",
       "      <td>...</td>\n",
       "      <td>73-16</td>\n",
       "      <td>74-16</td>\n",
       "      <td>75-16</td>\n",
       "      <td>76-16</td>\n",
       "      <td>77-16</td>\n",
       "      <td>78-16</td>\n",
       "      <td>79-16</td>\n",
       "      <td>80-16</td>\n",
       "      <td>81-16</td>\n",
       "      <td>82-16</td>\n",
       "    </tr>\n",
       "    <tr>\n",
       "      <th>2</th>\n",
       "      <td>c5</td>\n",
       "      <td>8</td>\n",
       "      <td>1</td>\n",
       "      <td>1</td>\n",
       "      <td>1</td>\n",
       "      <td>I6</td>\n",
       "      <td>2</td>\n",
       "      <td>1</td>\n",
       "      <td>0</td>\n",
       "      <td>0</td>\n",
       "      <td>...</td>\n",
       "      <td>70-8</td>\n",
       "      <td>71-8</td>\n",
       "      <td>72-8</td>\n",
       "      <td>73-8</td>\n",
       "      <td>74-8</td>\n",
       "      <td>75-8</td>\n",
       "      <td>76-8</td>\n",
       "      <td>77-8</td>\n",
       "      <td>78-8</td>\n",
       "      <td>79-8</td>\n",
       "    </tr>\n",
       "  </tbody>\n",
       "</table>\n",
       "<p>3 rows × 27 columns</p>\n",
       "</div>\n",
       "      <button class=\"colab-df-convert\" onclick=\"convertToInteractive('df-0e44c778-48ce-48cb-9430-b869a6696294')\"\n",
       "              title=\"Convert this dataframe to an interactive table.\"\n",
       "              style=\"display:none;\">\n",
       "        \n",
       "  <svg xmlns=\"http://www.w3.org/2000/svg\" height=\"24px\"viewBox=\"0 0 24 24\"\n",
       "       width=\"24px\">\n",
       "    <path d=\"M0 0h24v24H0V0z\" fill=\"none\"/>\n",
       "    <path d=\"M18.56 5.44l.94 2.06.94-2.06 2.06-.94-2.06-.94-.94-2.06-.94 2.06-2.06.94zm-11 1L8.5 8.5l.94-2.06 2.06-.94-2.06-.94L8.5 2.5l-.94 2.06-2.06.94zm10 10l.94 2.06.94-2.06 2.06-.94-2.06-.94-.94-2.06-.94 2.06-2.06.94z\"/><path d=\"M17.41 7.96l-1.37-1.37c-.4-.4-.92-.59-1.43-.59-.52 0-1.04.2-1.43.59L10.3 9.45l-7.72 7.72c-.78.78-.78 2.05 0 2.83L4 21.41c.39.39.9.59 1.41.59.51 0 1.02-.2 1.41-.59l7.78-7.78 2.81-2.81c.8-.78.8-2.07 0-2.86zM5.41 20L4 18.59l7.72-7.72 1.47 1.35L5.41 20z\"/>\n",
       "  </svg>\n",
       "      </button>\n",
       "      \n",
       "  <style>\n",
       "    .colab-df-container {\n",
       "      display:flex;\n",
       "      flex-wrap:wrap;\n",
       "      gap: 12px;\n",
       "    }\n",
       "\n",
       "    .colab-df-convert {\n",
       "      background-color: #E8F0FE;\n",
       "      border: none;\n",
       "      border-radius: 50%;\n",
       "      cursor: pointer;\n",
       "      display: none;\n",
       "      fill: #1967D2;\n",
       "      height: 32px;\n",
       "      padding: 0 0 0 0;\n",
       "      width: 32px;\n",
       "    }\n",
       "\n",
       "    .colab-df-convert:hover {\n",
       "      background-color: #E2EBFA;\n",
       "      box-shadow: 0px 1px 2px rgba(60, 64, 67, 0.3), 0px 1px 3px 1px rgba(60, 64, 67, 0.15);\n",
       "      fill: #174EA6;\n",
       "    }\n",
       "\n",
       "    [theme=dark] .colab-df-convert {\n",
       "      background-color: #3B4455;\n",
       "      fill: #D2E3FC;\n",
       "    }\n",
       "\n",
       "    [theme=dark] .colab-df-convert:hover {\n",
       "      background-color: #434B5C;\n",
       "      box-shadow: 0px 1px 3px 1px rgba(0, 0, 0, 0.15);\n",
       "      filter: drop-shadow(0px 1px 2px rgba(0, 0, 0, 0.3));\n",
       "      fill: #FFFFFF;\n",
       "    }\n",
       "  </style>\n",
       "\n",
       "      <script>\n",
       "        const buttonEl =\n",
       "          document.querySelector('#df-0e44c778-48ce-48cb-9430-b869a6696294 button.colab-df-convert');\n",
       "        buttonEl.style.display =\n",
       "          google.colab.kernel.accessAllowed ? 'block' : 'none';\n",
       "\n",
       "        async function convertToInteractive(key) {\n",
       "          const element = document.querySelector('#df-0e44c778-48ce-48cb-9430-b869a6696294');\n",
       "          const dataTable =\n",
       "            await google.colab.kernel.invokeFunction('convertToInteractive',\n",
       "                                                     [key], {});\n",
       "          if (!dataTable) return;\n",
       "\n",
       "          const docLinkHtml = 'Like what you see? Visit the ' +\n",
       "            '<a target=\"_blank\" href=https://colab.research.google.com/notebooks/data_table.ipynb>data table notebook</a>'\n",
       "            + ' to learn more about interactive tables.';\n",
       "          element.innerHTML = '';\n",
       "          dataTable['output_type'] = 'display_data';\n",
       "          await google.colab.output.renderOutput(dataTable, element);\n",
       "          const docLink = document.createElement('div');\n",
       "          docLink.innerHTML = docLinkHtml;\n",
       "          element.appendChild(docLink);\n",
       "        }\n",
       "      </script>\n",
       "    </div>\n",
       "  </div>\n",
       "  "
      ],
      "text/plain": [
       "  note_name duration  measure  beat  subdiv harm  from_root  NCT  BI2  CI  \\\n",
       "0        d5       8d        0     3       1   I6          3    0    0   0   \n",
       "1       eb5       16        0     3       4   I6          4    1    0   0   \n",
       "2        c5        8        1     1       1   I6          2    1    0   0   \n",
       "\n",
       "   ...  pitch_dur-4 pitch_dur-3  pitch_dur-2  pitch_dur-1  pitch_dur0  \\\n",
       "0  ...        72-8d       73-8d        74-8d        75-8d       76-8d   \n",
       "1  ...        73-16       74-16        75-16        76-16       77-16   \n",
       "2  ...         70-8        71-8         72-8         73-8        74-8   \n",
       "\n",
       "  pitch_dur1 pitch_dur2 pitch_dur3 pitch_dur4 pitch_dur5  \n",
       "0      77-8d      78-8d      79-8d      80-8d      81-8d  \n",
       "1      78-16      79-16      80-16      81-16      82-16  \n",
       "2       75-8       76-8       77-8       78-8       79-8  \n",
       "\n",
       "[3 rows x 27 columns]"
      ]
     },
     "execution_count": 18,
     "metadata": {},
     "output_type": "execute_result"
    }
   ],
   "source": [
    "all_csv_dfs[0].head(3)"
   ]
  },
  {
   "cell_type": "code",
   "execution_count": 19,
   "id": "eEqvGEUDZahc",
   "metadata": {
    "id": "eEqvGEUDZahc"
   },
   "outputs": [],
   "source": [
    "# Create mapping of all pitch_dur columns\n",
    "\n",
    "corpus = []\n",
    "for df in all_csv_dfs:\n",
    "    for i in range(-6,6):\n",
    "        pitch_dur = list(df[f'pitch_dur{i}'])\n",
    "        corpus = corpus + pitch_dur        "
   ]
  },
  {
   "cell_type": "code",
   "execution_count": 20,
   "id": "Qn1w9MDeZ1rg",
   "metadata": {
    "id": "Qn1w9MDeZ1rg"
   },
   "outputs": [],
   "source": [
    "pitch_corpus = [val.split('-')[0] for val in corpus]\n",
    "duration_corpus = [val.split('-')[1] for val in corpus]"
   ]
  },
  {
   "cell_type": "code",
   "execution_count": 21,
   "id": "gaQhi9jqZahd",
   "metadata": {
    "colab": {
     "base_uri": "https://localhost:8080/"
    },
    "id": "gaQhi9jqZahd",
    "outputId": "cbc2f4b9-fa8c-4956-f1e6-2019a650c169"
   },
   "outputs": [
    {
     "name": "stdout",
     "output_type": "stream",
     "text": [
      "Total notes in dataset: 16368\n",
      "Total unique pitches in corpus: 45\n",
      "Total unique durations in corpus: 13\n"
     ]
    }
   ],
   "source": [
    "pitch_count_num = collections.Counter(pitch_corpus)\n",
    "duration_count_num = collections.Counter(duration_corpus)\n",
    "\n",
    "print(\"Total notes in dataset:\", len(pitch_corpus))\n",
    "print(\"Total unique pitches in corpus:\", len(pitch_count_num))\n",
    "print(\"Total unique durations in corpus:\", len(duration_count_num))"
   ]
  },
  {
   "cell_type": "code",
   "execution_count": 22,
   "id": "BXPeST7jZahd",
   "metadata": {
    "colab": {
     "base_uri": "https://localhost:8080/"
    },
    "id": "BXPeST7jZahd",
    "outputId": "96c2214a-7052-4a52-f145-458a267164e1"
   },
   "outputs": [
    {
     "name": "stdout",
     "output_type": "stream",
     "text": [
      "Average recurrence for a note in Corpus: 363.73333333333335\n",
      "Most frequent note in Corpus appeared: 871 times\n",
      "Least frequent note in Corpus appeared: 1 time\n"
     ]
    }
   ],
   "source": [
    "# Exploring the notes dictionary\n",
    "Notes = list(pitch_count_num.keys())\n",
    "Recurrence = list(pitch_count_num.values())\n",
    "\n",
    "# Average recurrence for a note in Corpus\n",
    "def Average(lst):\n",
    "    return sum(lst) / len(lst)\n",
    "print(\"Average recurrence for a note in Corpus:\", Average(Recurrence))\n",
    "print(\"Most frequent note in Corpus appeared:\", max(Recurrence), \"times\")\n",
    "print(\"Least frequent note in Corpus appeared:\", min(Recurrence), \"time\")"
   ]
  },
  {
   "cell_type": "code",
   "execution_count": 23,
   "id": "QU6hJVeSZahe",
   "metadata": {
    "colab": {
     "base_uri": "https://localhost:8080/"
    },
    "id": "QU6hJVeSZahe",
    "outputId": "aa3fccf7-11e7-439b-ee13-9cbf174cf047"
   },
   "outputs": [
    {
     "name": "stdout",
     "output_type": "stream",
     "text": [
      "Total number of characters: 16368\n",
      "Number of unique characters: 45\n"
     ]
    }
   ],
   "source": [
    "# Storing all the unique characters present in the corpus to buid a mapping dict.\n",
    "pitch_symb = sorted(list(set(pitch_corpus)))\n",
    "duration_symb = sorted(list(set(duration_corpus)))\n",
    "\n",
    "# Dictionary to convert duration into length in 64th notes\n",
    "len_in_64th_notes = {'64': 1, '32': 2, '32d': 3, '16': 4, '16d': 6, '8': 8, '8d': 12, \n",
    "                     '8dd': 14, '4': 16, '4d': 24, '2': 32, '2d': 48, '1': 64}\n",
    "reverse_len_in_64th_notes = {v: k for k, v in len_in_64th_notes.items()}\n",
    "\n",
    "L_pitch_corpus = len(pitch_corpus)  # length of corpus\n",
    "L_duration_corpus = len(duration_corpus)\n",
    "L_pitch_symb = len(pitch_symb)  # length of total unique characters\n",
    "L_duration_symb = len(duration_symb)\n",
    "\n",
    "# Building dictionary to access the vocabulary from indices and vice versa\n",
    "pitch_mapping = dict((int(c), i) for i, c in enumerate(pitch_symb))\n",
    "pitch_reverse_mapping = dict((i, int(c)) for i, c in enumerate(pitch_symb))\n",
    "duration_mapping = dict((len_in_64th_notes[c], i) for i, c in enumerate(duration_symb))\n",
    "duration_reverse_mapping = dict((i, len_in_64th_notes[c]) for i, c in enumerate(duration_symb))\n",
    "\n",
    "print(\"Total number of characters:\", L_pitch_corpus)\n",
    "print(\"Number of unique characters:\", L_pitch_symb)"
   ]
  },
  {
   "cell_type": "code",
   "execution_count": 24,
   "id": "iEhgO0XmcqDl",
   "metadata": {
    "id": "iEhgO0XmcqDl"
   },
   "outputs": [],
   "source": [
    "test_df = all_csv_dfs[0]"
   ]
  },
  {
   "cell_type": "code",
   "execution_count": 25,
   "id": "4IpHnhujctwW",
   "metadata": {
    "id": "4IpHnhujctwW"
   },
   "outputs": [],
   "source": [
    "test_list = list(test_df['pitch_dur0'])"
   ]
  },
  {
   "cell_type": "code",
   "execution_count": 26,
   "id": "zOTKgyZlc_ZK",
   "metadata": {
    "colab": {
     "base_uri": "https://localhost:8080/"
    },
    "id": "zOTKgyZlc_ZK",
    "outputId": "ca41d412-3cda-464b-a9cb-aab0131478bd"
   },
   "outputs": [
    {
     "name": "stdout",
     "output_type": "stream",
     "text": [
      "[[28, 11], [29, 1], [26, 10], [24, 10], [24, 7], [24, 7]]\n",
      "[[29, 1], [26, 10], [24, 10], [24, 7], [24, 7], [23, 7]]\n",
      "[[26, 10], [24, 10], [24, 7], [24, 7], [23, 7], [0, 7]]\n",
      "[[24, 10], [24, 7], [24, 7], [23, 7], [0, 7], [29, 11]]\n",
      "[[24, 7], [24, 7], [23, 7], [0, 7], [29, 11], [31, 1]]\n",
      "[[24, 7], [23, 7], [0, 7], [29, 11], [31, 1], [28, 10]]\n",
      "[[23, 7], [0, 7], [29, 11], [31, 1], [28, 10], [26, 10]]\n",
      "[[0, 7], [29, 11], [31, 1], [28, 10], [26, 10], [26, 7]]\n",
      "[[29, 11], [31, 1], [28, 10], [26, 10], [26, 7], [26, 7]]\n",
      "[[31, 1], [28, 10], [26, 10], [26, 7], [26, 7], [24, 7]]\n"
     ]
    }
   ],
   "source": [
    "length = 6\n",
    "for i in range(0, len(test_list) - length, 1):\n",
    "  feature = test_list[i:i + length]\n",
    "  feature_split = [val.split('-') for val in feature]\n",
    "  feature_mapped = [[val[0], len_in_64th_notes[val[1]]] for val in feature_split]\n",
    "  feature_full_map = [\n",
    "                        [\n",
    "                          pitch_mapping[int(val[0])], \n",
    "                          duration_mapping[int(val[1])]\n",
    "                        ] \n",
    "                      for val in feature_mapped\n",
    "                      ]\n",
    "  print(feature_full_map)\n",
    "  # print([duration_mapping[val[1]] for val in feature_split])\n",
    "  # print([val.split('-')[1] for val in feature])\n"
   ]
  },
  {
   "cell_type": "code",
   "execution_count": 27,
   "id": "02wSx23pZahe",
   "metadata": {
    "colab": {
     "base_uri": "https://localhost:8080/"
    },
    "id": "02wSx23pZahe",
    "outputId": "6487197e-385b-40a0-a18e-4856f5ebc79a"
   },
   "outputs": [
    {
     "name": "stdout",
     "output_type": "stream",
     "text": [
      "Total number of sequences in the corpus: 12264\n"
     ]
    }
   ],
   "source": [
    "# Splitting the corpus in equal length of strings and output target\n",
    "length = 6\n",
    "features = []\n",
    "target_pitch = []\n",
    "target_duration = []\n",
    "for df in all_csv_dfs:\n",
    "    # make embedded list of pitch_dur columns\n",
    "    pitch_dur_columns = []\n",
    "    for i in range(-6,6):\n",
    "        pitch_dur_columns.append(list(df[f'pitch_dur{i}']))\n",
    "    # add slices to features and pitch / duration to targets\n",
    "    L_df = len(df)\n",
    "    for column in pitch_dur_columns:    \n",
    "        for i in range(0, L_df - length, 1):\n",
    "          feature = column[i:i + length]\n",
    "          feature_split = [val.split('-') for val in feature]\n",
    "          feature_mapped = [[val[0], len_in_64th_notes[val[1]]] for val in feature_split]\n",
    "          feature_full_map = [[pitch_mapping[int(val[0])], duration_mapping[int(val[1])]] for val in feature_mapped]\n",
    "          features.append(feature_full_map)\n",
    "\n",
    "          target = column[i + length]\n",
    "          target_split = target.split('-')\n",
    "          target_pitch.append(pitch_mapping[int(target_split[0])])\n",
    "          target_duration.append(duration_mapping[len_in_64th_notes[target_split[1]]])\n",
    "    \n",
    "L_datapoints = len(target_pitch)\n",
    "print(\"Total number of sequences in the corpus:\", L_datapoints)"
   ]
  },
  {
   "cell_type": "code",
   "execution_count": 28,
   "id": "KbR-9cDE1dQB",
   "metadata": {
    "colab": {
     "base_uri": "https://localhost:8080/"
    },
    "id": "KbR-9cDE1dQB",
    "outputId": "ea25188b-85db-4aea-8726-ca1544e30322"
   },
   "outputs": [
    {
     "data": {
      "text/plain": [
       "10"
      ]
     },
     "execution_count": 28,
     "metadata": {},
     "output_type": "execute_result"
    }
   ],
   "source": [
    "target_duration[25]"
   ]
  },
  {
   "cell_type": "code",
   "execution_count": 29,
   "id": "j59soT9FZahf",
   "metadata": {
    "id": "j59soT9FZahf"
   },
   "outputs": [],
   "source": [
    "# reshape X\n",
    "X = (np.reshape(features, (L_datapoints, length, 2)))\n",
    "# normalize X\n",
    "X_norm = np.zeros(X.shape[0]*X.shape[1]*X.shape[2]).reshape(X.shape)\n",
    "X_norm[:, :, 0] = X[:, :, 0] / float(L_pitch_symb)\n",
    "X_norm[:, :, 1] = X[:, :, 1] / float(L_duration_symb)\n",
    "\n",
    "# one hot encode the output variable\n",
    "#y = to_categorical(targets)"
   ]
  },
  {
   "cell_type": "markdown",
   "id": "fPGEAJ1p6GxU",
   "metadata": {
    "id": "fPGEAJ1p6GxU"
   },
   "source": [
    "**getting class weights for target**"
   ]
  },
  {
   "cell_type": "code",
   "execution_count": 30,
   "id": "CX49hiqY6GxU",
   "metadata": {
    "colab": {
     "base_uri": "https://localhost:8080/",
     "height": 265
    },
    "id": "CX49hiqY6GxU",
    "outputId": "e42e77a3-2091-4a9e-b883-8ec21b10d404"
   },
   "outputs": [
    {
     "data": {
      "image/png": "[encoded data removed]",
      "text/plain": [
       "<Figure size 432x288 with 1 Axes>"
      ]
     },
     "metadata": {
      "needs_background": "light"
     },
     "output_type": "display_data"
    }
   ],
   "source": [
    "plt.hist(target_pitch, alpha=0.25)\n",
    "plt.hist(target_duration, alpha=0.25);"
   ]
  },
  {
   "cell_type": "code",
   "execution_count": 31,
   "id": "tOmXMWUs6GxV",
   "metadata": {
    "id": "tOmXMWUs6GxV"
   },
   "outputs": [],
   "source": [
    "pitch_counts = np.unique(np.array(target_pitch), return_counts=True)\n",
    "duration_counts = np.unique(np.array(target_duration), return_counts=True)"
   ]
  },
  {
   "cell_type": "code",
   "execution_count": 32,
   "id": "yD6y6GTw6GxV",
   "metadata": {
    "id": "yD6y6GTw6GxV"
   },
   "outputs": [],
   "source": [
    "pitch_class_weights_simple = {key:val for key, val in zip(pitch_counts[0], pitch_counts[1])}\n",
    "duration_class_weights_simple = {key:val for key, val in zip(duration_counts[0], duration_counts[1])}\n",
    "pitch_mean = np.mean(list(pitch_class_weights_simple.values()))\n",
    "duration_mean = np.mean(list(duration_class_weights_simple.values()))\n",
    "pitch_class_weights = {key:(1 / val) * pitch_mean for key, val in zip(pitch_counts[0], pitch_counts[1])}\n",
    "duration_class_weights = {key:(1 / val) * duration_mean for key, val in zip(duration_counts[0], duration_counts[1])}"
   ]
  },
  {
   "cell_type": "code",
   "execution_count": 33,
   "id": "cIhox5BL6GxV",
   "metadata": {
    "id": "cIhox5BL6GxV"
   },
   "outputs": [],
   "source": [
    "pcw = pitch_class_weights\n",
    "dcw = duration_class_weights\n",
    "\n",
    "pcw_keys = list(pitch_class_weights)\n",
    "dcw_keys = list(duration_class_weights)\n",
    "for i in range(max(pcw_keys)):\n",
    "  if i not in pcw_keys:\n",
    "    pcw[i] = 0\n",
    "\n",
    "for i in range(max(dcw_keys)):\n",
    "  if i not in dcw_keys:\n",
    "    dcw[i] = 0"
   ]
  },
  {
   "cell_type": "markdown",
   "id": "Jsve02h3chRB",
   "metadata": {
    "id": "Jsve02h3chRB"
   },
   "source": [
    "**Prepare y data**"
   ]
  },
  {
   "cell_type": "code",
   "execution_count": 34,
   "id": "6Yqy_89LFW_b",
   "metadata": {
    "id": "6Yqy_89LFW_b"
   },
   "outputs": [],
   "source": [
    "y_pitch = np.array(target_pitch).reshape(-1,1)\n",
    "y_duration = np.array(target_duration).reshape(-1,1)\n",
    "target_all = np.hstack((y_pitch, y_duration))"
   ]
  },
  {
   "cell_type": "code",
   "execution_count": 35,
   "id": "LSBqPlH1GNoT",
   "metadata": {
    "id": "LSBqPlH1GNoT"
   },
   "outputs": [],
   "source": [
    "y = {\"pitch_output\": y_pitch, \"duration_output\": y_duration}\n",
    "\n",
    "### Code Alec sent me \n",
    "# y_train = {\"pitch_output\": y_train_pitch, \"duration_output\": y_train_duration}\n",
    "# y_val = {\"pitch_output\": y_val_pitch, \"duration_output\": y_val_duration}\n",
    "\n",
    "# history = model.fit(\n",
    "    # x = X_train,\n",
    "# \t  y = y_train,\n",
    "# \t  validation_data=(X_test,y_test)\n",
    "# )"
   ]
  },
  {
   "cell_type": "code",
   "execution_count": 36,
   "id": "dogIqRFv0QP5",
   "metadata": {
    "colab": {
     "base_uri": "https://localhost:8080/"
    },
    "id": "dogIqRFv0QP5",
    "outputId": "c2c50ef7-aacc-4ebd-b471-af436235465b"
   },
   "outputs": [
    {
     "data": {
      "text/plain": [
       "array([[ 7],\n",
       "       [ 7],\n",
       "       [11],\n",
       "       ...,\n",
       "       [ 5],\n",
       "       [10],\n",
       "       [10]])"
      ]
     },
     "execution_count": 36,
     "metadata": {},
     "output_type": "execute_result"
    }
   ],
   "source": [
    "y['duration_output']"
   ]
  },
  {
   "cell_type": "markdown",
   "id": "O-Pd2p567st3",
   "metadata": {
    "id": "O-Pd2p567st3"
   },
   "source": [
    "**multi-output model**"
   ]
  },
  {
   "cell_type": "code",
   "execution_count": 37,
   "id": "q-zH_0_K56Tv",
   "metadata": {
    "id": "q-zH_0_K56Tv"
   },
   "outputs": [],
   "source": [
    "from numpy.core.fromnumeric import shape\n",
    "from tensorflow.keras.optimizers import RMSprop\n",
    "from tensorflow.keras.losses import SparseCategoricalCrossentropy, CategoricalCrossentropy\n",
    "from tensorflow.keras.layers import Input\n",
    "from tensorflow.keras.models import Model\n",
    "\n",
    "\n",
    "# loss = CategoricalCrossentropy()\n",
    "\n",
    "opt = RMSprop(learning_rate=0.001)\n",
    "\n",
    "def initialize_model():\n",
    "    \n",
    "    input_layer = Input(shape=X_norm.shape[1:], name='input_layer')\n",
    "    first_LSTM = LSTM(512, name='first_LSTM', activation='tanh')(input_layer)\n",
    "    first_dropout = Dropout(0.1, name='first_dropout')(first_LSTM)\n",
    "    first_dense = Dense(256, name='first_dense', activation='tanh')(first_dropout)\n",
    "    second_dropout = Dropout(0.1, name='second_dropout')(first_dense)\n",
    "\n",
    "    pitch_output = Dense(len(pcw), name='pitch_output', activation='softmax')(second_dropout)\n",
    "    duration_output = Dense(len(dcw), name='duration_output', activation='softmax')(second_dropout)\n",
    "\n",
    "    model = Model(inputs=input_layer, outputs=[pitch_output, duration_output])\n",
    "\n",
    "    losses = {\n",
    "        \"pitch_output\": \"sparse_categorical_crossentropy\",\n",
    "\t      \"duration_output\": \"sparse_categorical_crossentropy\",\n",
    "        }\n",
    "\n",
    "    loss_weights = {\n",
    "        \"pitch_output\": 0.5, \n",
    "        \"duration_output\": 0.5\n",
    "    }\n",
    "\n",
    "    model.compile(optimizer=opt, loss=losses, loss_weights=loss_weights,metrics=[\"accuracy\"])\n",
    "\n",
    "    return model\n",
    "\n",
    "    # model.compile(optimizer=opt,\n",
    "    #           loss={'pitch_output': loss, 'duration_output': loss})\n",
    "  \n",
    "\n",
    "    # model.add(LSTM(512, activation='tanh', input_shape=X.shape[1:], return_sequences=True))\n",
    "    # model.add(Dropout(0.1))\n",
    "    # model.add(LSTM(256, activation='tanh'))\n",
    "    # model.add(Dense(256, activation='relu'))\n",
    "    # model.add(Dropout(0.1))\n",
    "    # model.add(Dense(y.shape[1], activation='softmax'))\n",
    "    \n",
    "    # model.compile(loss=loss, optimizer=opt)\n",
    "    \n",
    "    # return model"
   ]
  },
  {
   "cell_type": "code",
   "execution_count": 38,
   "id": "Zw6-L5Eu56V3",
   "metadata": {
    "colab": {
     "base_uri": "https://localhost:8080/"
    },
    "id": "Zw6-L5Eu56V3",
    "outputId": "a6d1f6ac-8c51-4d45-ca8a-43d645e1976d"
   },
   "outputs": [
    {
     "name": "stdout",
     "output_type": "stream",
     "text": [
      "Model: \"model\"\n",
      "__________________________________________________________________________________________________\n",
      " Layer (type)                   Output Shape         Param #     Connected to                     \n",
      "==================================================================================================\n",
      " input_layer (InputLayer)       [(None, 6, 2)]       0           []                               \n",
      "                                                                                                  \n",
      " first_LSTM (LSTM)              (None, 512)          1054720     ['input_layer[0][0]']            \n",
      "                                                                                                  \n",
      " first_dropout (Dropout)        (None, 512)          0           ['first_LSTM[0][0]']             \n",
      "                                                                                                  \n",
      " first_dense (Dense)            (None, 256)          131328      ['first_dropout[0][0]']          \n",
      "                                                                                                  \n",
      " second_dropout (Dropout)       (None, 256)          0           ['first_dense[0][0]']            \n",
      "                                                                                                  \n",
      " pitch_output (Dense)           (None, 45)           11565       ['second_dropout[0][0]']         \n",
      "                                                                                                  \n",
      " duration_output (Dense)        (None, 12)           3084        ['second_dropout[0][0]']         \n",
      "                                                                                                  \n",
      "==================================================================================================\n",
      "Total params: 1,200,697\n",
      "Trainable params: 1,200,697\n",
      "Non-trainable params: 0\n",
      "__________________________________________________________________________________________________\n"
     ]
    }
   ],
   "source": [
    "model = initialize_model()\n",
    "model.summary()"
   ]
  },
  {
   "cell_type": "code",
   "execution_count": 39,
   "id": "PhfihpfRJLDC",
   "metadata": {
    "colab": {
     "base_uri": "https://localhost:8080/",
     "height": 564
    },
    "id": "PhfihpfRJLDC",
    "outputId": "b48b8d32-fbfe-423a-d072-131e2e7e18c5"
   },
   "outputs": [
    {
     "data": {
      "image/png": "[encoded data removed]",
      "text/plain": [
       "<IPython.core.display.Image object>"
      ]
     },
     "execution_count": 39,
     "metadata": {},
     "output_type": "execute_result"
    }
   ],
   "source": [
    "from tensorflow.keras.utils import plot_model\n",
    "plot_model(model)"
   ]
  },
  {
   "cell_type": "code",
   "execution_count": 40,
   "id": "eKJGg1g056Xy",
   "metadata": {
    "colab": {
     "base_uri": "https://localhost:8080/"
    },
    "id": "eKJGg1g056Xy",
    "outputId": "c6a151ed-8ee4-4cec-ee2d-f76e70eeebb2"
   },
   "outputs": [
    {
     "name": "stdout",
     "output_type": "stream",
     "text": [
      "Epoch 1/120\n",
      "307/307 [==============================] - 18s 24ms/step - loss: 2.1272 - pitch_output_loss: 2.9981 - duration_output_loss: 1.2564 - pitch_output_accuracy: 0.0879 - duration_output_accuracy: 0.6025 - val_loss: 2.2940 - val_pitch_output_loss: 2.8637 - val_duration_output_loss: 1.7242 - val_pitch_output_accuracy: 0.1072 - val_duration_output_accuracy: 0.5520\n",
      "Epoch 2/120\n",
      "307/307 [==============================] - 6s 19ms/step - loss: 1.9162 - pitch_output_loss: 2.7158 - duration_output_loss: 1.1166 - pitch_output_accuracy: 0.1170 - duration_output_accuracy: 0.6352 - val_loss: 2.1940 - val_pitch_output_loss: 2.7700 - val_duration_output_loss: 1.6181 - val_pitch_output_accuracy: 0.0995 - val_duration_output_accuracy: 0.5809\n",
      "Epoch 3/120\n",
      "307/307 [==============================] - 5s 18ms/step - loss: 1.8106 - pitch_output_loss: 2.6152 - duration_output_loss: 1.0061 - pitch_output_accuracy: 0.1392 - duration_output_accuracy: 0.6621 - val_loss: 2.3091 - val_pitch_output_loss: 2.8233 - val_duration_output_loss: 1.7949 - val_pitch_output_accuracy: 0.0966 - val_duration_output_accuracy: 0.5561\n",
      "Epoch 4/120\n",
      "307/307 [==============================] - 5s 15ms/step - loss: 1.7017 - pitch_output_loss: 2.5424 - duration_output_loss: 0.8611 - pitch_output_accuracy: 0.1511 - duration_output_accuracy: 0.7103 - val_loss: 2.4962 - val_pitch_output_loss: 2.8720 - val_duration_output_loss: 2.1205 - val_pitch_output_accuracy: 0.0970 - val_duration_output_accuracy: 0.5247\n",
      "Epoch 5/120\n",
      "307/307 [==============================] - 4s 14ms/step - loss: 1.5772 - pitch_output_loss: 2.4582 - duration_output_loss: 0.6963 - pitch_output_accuracy: 0.1661 - duration_output_accuracy: 0.7669 - val_loss: 2.5603 - val_pitch_output_loss: 2.8949 - val_duration_output_loss: 2.2258 - val_pitch_output_accuracy: 0.1093 - val_duration_output_accuracy: 0.4187\n",
      "Epoch 6/120\n",
      "307/307 [==============================] - 4s 14ms/step - loss: 1.4577 - pitch_output_loss: 2.3697 - duration_output_loss: 0.5458 - pitch_output_accuracy: 0.1793 - duration_output_accuracy: 0.8152 - val_loss: 2.6960 - val_pitch_output_loss: 3.0490 - val_duration_output_loss: 2.3431 - val_pitch_output_accuracy: 0.0909 - val_duration_output_accuracy: 0.5267\n",
      "Epoch 7/120\n",
      "307/307 [==============================] - 4s 13ms/step - loss: 1.3478 - pitch_output_loss: 2.2648 - duration_output_loss: 0.4309 - pitch_output_accuracy: 0.1979 - duration_output_accuracy: 0.8584 - val_loss: 2.9038 - val_pitch_output_loss: 3.1967 - val_duration_output_loss: 2.6108 - val_pitch_output_accuracy: 0.0950 - val_duration_output_accuracy: 0.5226\n",
      "Epoch 8/120\n",
      "307/307 [==============================] - 4s 14ms/step - loss: 1.2619 - pitch_output_loss: 2.1701 - duration_output_loss: 0.3537 - pitch_output_accuracy: 0.2168 - duration_output_accuracy: 0.8809 - val_loss: 3.0812 - val_pitch_output_loss: 3.3583 - val_duration_output_loss: 2.8042 - val_pitch_output_accuracy: 0.0864 - val_duration_output_accuracy: 0.5287\n",
      "Epoch 9/120\n",
      "307/307 [==============================] - 4s 13ms/step - loss: 1.1857 - pitch_output_loss: 2.0773 - duration_output_loss: 0.2941 - pitch_output_accuracy: 0.2411 - duration_output_accuracy: 0.9043 - val_loss: 3.1423 - val_pitch_output_loss: 3.3409 - val_duration_output_loss: 2.9437 - val_pitch_output_accuracy: 0.1048 - val_duration_output_accuracy: 0.5271\n",
      "Epoch 10/120\n",
      "307/307 [==============================] - 4s 13ms/step - loss: 1.1195 - pitch_output_loss: 1.9874 - duration_output_loss: 0.2516 - pitch_output_accuracy: 0.2578 - duration_output_accuracy: 0.9191 - val_loss: 3.2280 - val_pitch_output_loss: 3.5292 - val_duration_output_loss: 2.9269 - val_pitch_output_accuracy: 0.0913 - val_duration_output_accuracy: 0.4790\n",
      "Epoch 11/120\n",
      "307/307 [==============================] - 4s 14ms/step - loss: 1.0575 - pitch_output_loss: 1.9001 - duration_output_loss: 0.2148 - pitch_output_accuracy: 0.2776 - duration_output_accuracy: 0.9268 - val_loss: 3.4632 - val_pitch_output_loss: 3.7521 - val_duration_output_loss: 3.1742 - val_pitch_output_accuracy: 0.0876 - val_duration_output_accuracy: 0.5112\n",
      "Epoch 12/120\n",
      "307/307 [==============================] - 4s 13ms/step - loss: 1.0057 - pitch_output_loss: 1.8186 - duration_output_loss: 0.1929 - pitch_output_accuracy: 0.2931 - duration_output_accuracy: 0.9363 - val_loss: 3.3336 - val_pitch_output_loss: 3.7534 - val_duration_output_loss: 2.9139 - val_pitch_output_accuracy: 0.1027 - val_duration_output_accuracy: 0.5308\n",
      "Epoch 13/120\n",
      "307/307 [==============================] - 5s 16ms/step - loss: 0.9609 - pitch_output_loss: 1.7487 - duration_output_loss: 0.1732 - pitch_output_accuracy: 0.3222 - duration_output_accuracy: 0.9419 - val_loss: 3.5786 - val_pitch_output_loss: 3.9524 - val_duration_output_loss: 3.2049 - val_pitch_output_accuracy: 0.0934 - val_duration_output_accuracy: 0.5132\n",
      "Epoch 14/120\n",
      "307/307 [==============================] - 5s 15ms/step - loss: 0.9260 - pitch_output_loss: 1.6848 - duration_output_loss: 0.1672 - pitch_output_accuracy: 0.3371 - duration_output_accuracy: 0.9445 - val_loss: 3.6969 - val_pitch_output_loss: 4.1134 - val_duration_output_loss: 3.2804 - val_pitch_output_accuracy: 0.1080 - val_duration_output_accuracy: 0.5002\n",
      "Epoch 15/120\n",
      "307/307 [==============================] - 5s 18ms/step - loss: 0.8888 - pitch_output_loss: 1.6340 - duration_output_loss: 0.1436 - pitch_output_accuracy: 0.3557 - duration_output_accuracy: 0.9512 - val_loss: 3.7201 - val_pitch_output_loss: 4.2301 - val_duration_output_loss: 3.2102 - val_pitch_output_accuracy: 0.0876 - val_duration_output_accuracy: 0.5100\n",
      "Epoch 16/120\n",
      "307/307 [==============================] - 5s 18ms/step - loss: 0.8513 - pitch_output_loss: 1.5682 - duration_output_loss: 0.1344 - pitch_output_accuracy: 0.3762 - duration_output_accuracy: 0.9533 - val_loss: 3.9181 - val_pitch_output_loss: 4.4416 - val_duration_output_loss: 3.3946 - val_pitch_output_accuracy: 0.0954 - val_duration_output_accuracy: 0.4880\n",
      "Epoch 17/120\n",
      "307/307 [==============================] - 5s 18ms/step - loss: 0.8263 - pitch_output_loss: 1.5246 - duration_output_loss: 0.1280 - pitch_output_accuracy: 0.3924 - duration_output_accuracy: 0.9557 - val_loss: 3.9533 - val_pitch_output_loss: 4.5636 - val_duration_output_loss: 3.3431 - val_pitch_output_accuracy: 0.0868 - val_duration_output_accuracy: 0.5206\n",
      "Epoch 18/120\n",
      "307/307 [==============================] - 5s 15ms/step - loss: 0.7941 - pitch_output_loss: 1.4693 - duration_output_loss: 0.1189 - pitch_output_accuracy: 0.4087 - duration_output_accuracy: 0.9583 - val_loss: 4.0834 - val_pitch_output_loss: 4.5955 - val_duration_output_loss: 3.5714 - val_pitch_output_accuracy: 0.0925 - val_duration_output_accuracy: 0.5014\n",
      "Epoch 19/120\n",
      "307/307 [==============================] - 4s 13ms/step - loss: 0.7744 - pitch_output_loss: 1.4335 - duration_output_loss: 0.1154 - pitch_output_accuracy: 0.4192 - duration_output_accuracy: 0.9611 - val_loss: 4.2320 - val_pitch_output_loss: 4.7708 - val_duration_output_loss: 3.6932 - val_pitch_output_accuracy: 0.1174 - val_duration_output_accuracy: 0.4778\n",
      "Epoch 20/120\n",
      "307/307 [==============================] - 5s 15ms/step - loss: 0.7532 - pitch_output_loss: 1.3912 - duration_output_loss: 0.1153 - pitch_output_accuracy: 0.4358 - duration_output_accuracy: 0.9608 - val_loss: 4.3000 - val_pitch_output_loss: 4.8990 - val_duration_output_loss: 3.7011 - val_pitch_output_accuracy: 0.0974 - val_duration_output_accuracy: 0.5149\n",
      "Epoch 21/120\n",
      "307/307 [==============================] - 6s 19ms/step - loss: 0.7301 - pitch_output_loss: 1.3532 - duration_output_loss: 0.1071 - pitch_output_accuracy: 0.4500 - duration_output_accuracy: 0.9629 - val_loss: 4.3514 - val_pitch_output_loss: 4.9547 - val_duration_output_loss: 3.7480 - val_pitch_output_accuracy: 0.0856 - val_duration_output_accuracy: 0.4900\n",
      "Epoch 22/120\n",
      "307/307 [==============================] - 5s 16ms/step - loss: 0.7106 - pitch_output_loss: 1.3164 - duration_output_loss: 0.1048 - pitch_output_accuracy: 0.4617 - duration_output_accuracy: 0.9659 - val_loss: 4.3434 - val_pitch_output_loss: 4.8965 - val_duration_output_loss: 3.7903 - val_pitch_output_accuracy: 0.1052 - val_duration_output_accuracy: 0.4782\n"
     ]
    }
   ],
   "source": [
    "es = EarlyStopping(patience=20, restore_best_weights=True)\n",
    "\n",
    "class_weight = {'pitch_output': pcw, 'duration_output': dcw}\n",
    "\n",
    "history = model.fit(X, y, validation_split=0.2, batch_size=32, epochs=120, verbose=1, callbacks=[es])"
   ]
  },
  {
   "cell_type": "code",
   "execution_count": 41,
   "id": "NpMuuwP1elL4",
   "metadata": {
    "colab": {
     "base_uri": "https://localhost:8080/",
     "height": 268
    },
    "id": "NpMuuwP1elL4",
    "outputId": "f859d1c1-4ded-4b36-dd9a-379861241cdb"
   },
   "outputs": [
    {
     "data": {
      "image/png": "[encoded data removed]",
      "text/plain": [
       "<Figure size 432x288 with 1 Axes>"
      ]
     },
     "metadata": {
      "needs_background": "light"
     },
     "output_type": "display_data"
    }
   ],
   "source": [
    "plt.plot(history.epoch, history.history['loss'])\n",
    "plt.plot(history.epoch, history.history['val_loss']);"
   ]
  },
  {
   "cell_type": "markdown",
   "id": "Q5v-j87UjKnx",
   "metadata": {
    "id": "Q5v-j87UjKnx"
   },
   "source": [
    "**exploring model.predict**"
   ]
  },
  {
   "cell_type": "code",
   "execution_count": 42,
   "id": "A44t7RE5glzJ",
   "metadata": {
    "colab": {
     "base_uri": "https://localhost:8080/"
    },
    "id": "A44t7RE5glzJ",
    "outputId": "722627bc-71b7-4acf-b05e-0f15b80628a7"
   },
   "outputs": [
    {
     "name": "stdout",
     "output_type": "stream",
     "text": [
      "1/1 [==============================] - 1s 745ms/step\n"
     ]
    }
   ],
   "source": [
    "sample = X_norm[0].reshape(1, length, 2)\n",
    "pitch_pred, duration_pred = model.predict(sample, verbose=1)"
   ]
  },
  {
   "cell_type": "code",
   "execution_count": 43,
   "id": "vdGvDl5-zhKx",
   "metadata": {
    "colab": {
     "base_uri": "https://localhost:8080/"
    },
    "id": "vdGvDl5-zhKx",
    "outputId": "ed8f625e-ce85-48f7-98c6-4aa3f590703f"
   },
   "outputs": [
    {
     "data": {
      "text/plain": [
       "[array([[1.00564705e-02, 3.16338241e-02, 1.86122190e-02, 2.79555432e-02,\n",
       "         1.36865983e-02, 1.11679301e-01, 1.60095498e-01, 2.02464908e-01,\n",
       "         1.13002904e-01, 7.63538033e-02, 4.60127443e-02, 3.01749241e-02,\n",
       "         2.39703432e-02, 9.78953112e-03, 3.76298395e-03, 4.44492418e-03,\n",
       "         1.81645586e-03, 9.42101993e-04, 2.39463887e-04, 4.38864168e-04,\n",
       "         3.67219967e-04, 2.00512048e-04, 2.66097923e-04, 9.51135953e-05,\n",
       "         2.08301091e-04, 1.81075346e-04, 4.09677974e-04, 4.02708451e-04,\n",
       "         5.44612529e-04, 5.64365473e-04, 8.12744722e-04, 1.44220260e-03,\n",
       "         4.00166446e-03, 2.69838772e-03, 6.65243203e-03, 4.93588997e-03,\n",
       "         1.12986015e-02, 1.42213572e-02, 1.69674959e-02, 1.48012135e-02,\n",
       "         1.74547900e-02, 3.14680510e-03, 4.37675277e-03, 6.58881711e-03,\n",
       "         2.27665092e-04]], dtype=float32),\n",
       " array([[0.07096191, 0.36071858, 0.00169617, 0.02561335, 0.02379934,\n",
       "         0.07090067, 0.00215109, 0.25203192, 0.02768971, 0.00212978,\n",
       "         0.11804592, 0.0442616 ]], dtype=float32)]"
      ]
     },
     "execution_count": 43,
     "metadata": {},
     "output_type": "execute_result"
    }
   ],
   "source": [
    "predictions = model.predict(sample)\n",
    "predictions"
   ]
  },
  {
   "cell_type": "code",
   "execution_count": 44,
   "id": "e9VrnI9BjmM8",
   "metadata": {
    "colab": {
     "base_uri": "https://localhost:8080/"
    },
    "id": "e9VrnI9BjmM8",
    "outputId": "1b0b8397-c4c9-4cd9-c724-e1d59ab6f030"
   },
   "outputs": [
    {
     "data": {
      "text/plain": [
       "(1, 12)"
      ]
     },
     "execution_count": 44,
     "metadata": {},
     "output_type": "execute_result"
    }
   ],
   "source": [
    "duration_pred.shape"
   ]
  },
  {
   "cell_type": "code",
   "execution_count": 45,
   "id": "RNsaKB1bhXLa",
   "metadata": {
    "colab": {
     "base_uri": "https://localhost:8080/",
     "height": 265
    },
    "id": "RNsaKB1bhXLa",
    "outputId": "ba8704f1-6bdb-44a7-af21-013fae7fb3b3"
   },
   "outputs": [
    {
     "data": {
      "image/png": "[encoded data removed]",
      "text/plain": [
       "<Figure size 432x288 with 1 Axes>"
      ]
     },
     "metadata": {
      "needs_background": "light"
     },
     "output_type": "display_data"
    }
   ],
   "source": [
    "plt.plot(list(range(len(pitch_pred[0]))), np.exp(pitch_pred[0]));"
   ]
  },
  {
   "cell_type": "code",
   "execution_count": 46,
   "id": "nrsRMaM6iWOk",
   "metadata": {
    "colab": {
     "base_uri": "https://localhost:8080/",
     "height": 265
    },
    "id": "nrsRMaM6iWOk",
    "outputId": "2cbd37ee-37ac-4d36-bee4-3ae1c75bb62a"
   },
   "outputs": [
    {
     "data": {
      "image/png": "[encoded data removed]",
      "text/plain": [
       "<Figure size 432x288 with 1 Axes>"
      ]
     },
     "metadata": {
      "needs_background": "light"
     },
     "output_type": "display_data"
    }
   ],
   "source": [
    "plt.plot(list(range(len(duration_pred[0]))), np.log(duration_pred[0]));"
   ]
  },
  {
   "cell_type": "code",
   "execution_count": 47,
   "id": "wDsojkryksuO",
   "metadata": {
    "colab": {
     "base_uri": "https://localhost:8080/"
    },
    "id": "wDsojkryksuO",
    "outputId": "3418378c-6352-4267-f83e-c2931ede6def"
   },
   "outputs": [
    {
     "name": "stdout",
     "output_type": "stream",
     "text": [
      "1.0\n"
     ]
    },
    {
     "data": {
      "text/plain": [
       "array([0.02193246, 0.02241085, 0.02212092, 0.02232857, 0.02201222,\n",
       "       0.02427849, 0.02548288, 0.02658578, 0.02431064, 0.02343581,\n",
       "       0.02273542, 0.02237818, 0.02223976, 0.02192661, 0.02179486,\n",
       "       0.02180973, 0.02175248, 0.02173347, 0.02171821, 0.02172254,\n",
       "       0.02172098, 0.02171736, 0.02171878, 0.02171507, 0.02171753,\n",
       "       0.02171694, 0.0217219 , 0.02172175, 0.02172484, 0.02172526,\n",
       "       0.02173066, 0.02174434, 0.02180007, 0.02177167, 0.02185793,\n",
       "       0.02182044, 0.02195972, 0.022024  , 0.02208456, 0.02203677,\n",
       "       0.02209533, 0.02178144, 0.02180824, 0.02185654, 0.02171795],\n",
       "      dtype=float32)"
      ]
     },
     "execution_count": 47,
     "metadata": {},
     "output_type": "execute_result"
    }
   ],
   "source": [
    "exp_pitch_preds = np.exp(pitch_pred[0])\n",
    "pitch_pred = exp_pitch_preds / np.sum(exp_pitch_preds)\n",
    "print(np.sum(pitch_pred))\n",
    "pitch_pred"
   ]
  },
  {
   "cell_type": "code",
   "execution_count": 48,
   "id": "6BlVa5XJlODu",
   "metadata": {
    "colab": {
     "base_uri": "https://localhost:8080/",
     "height": 282
    },
    "id": "6BlVa5XJlODu",
    "outputId": "6a553b51-733d-4594-80df-bcbc59646d42"
   },
   "outputs": [
    {
     "data": {
      "text/plain": [
       "[<matplotlib.lines.Line2D at 0x7fd7d8d48110>]"
      ]
     },
     "execution_count": 48,
     "metadata": {},
     "output_type": "execute_result"
    },
    {
     "data": {
      "image/png": "[encoded data removed]",
      "text/plain": [
       "<Figure size 432x288 with 1 Axes>"
      ]
     },
     "metadata": {
      "needs_background": "light"
     },
     "output_type": "display_data"
    }
   ],
   "source": [
    "plt.plot(list(range(len(pitch_pred))), pitch_pred)"
   ]
  },
  {
   "cell_type": "code",
   "execution_count": 49,
   "id": "V331UW-BlXKW",
   "metadata": {
    "colab": {
     "base_uri": "https://localhost:8080/"
    },
    "id": "V331UW-BlXKW",
    "outputId": "c8f7bd8d-36a5-4a47-f297-dc130dc29327"
   },
   "outputs": [
    {
     "data": {
      "text/plain": [
       "7"
      ]
     },
     "execution_count": 49,
     "metadata": {},
     "output_type": "execute_result"
    }
   ],
   "source": [
    "pitch_index = np.argmax(pitch_pred)\n",
    "pitch_index"
   ]
  },
  {
   "cell_type": "code",
   "execution_count": 50,
   "id": "2fjkmtq73MIx",
   "metadata": {
    "colab": {
     "base_uri": "https://localhost:8080/"
    },
    "id": "2fjkmtq73MIx",
    "outputId": "e93cf0a0-2f2e-43d5-b30e-d6dc6c7afca3"
   },
   "outputs": [
    {
     "data": {
      "text/plain": [
       "array([[0.07096191, 0.36071858, 0.00169617, 0.02561335, 0.02379934,\n",
       "        0.07090067, 0.00215109, 0.25203192, 0.02768971, 0.00212978,\n",
       "        0.11804592, 0.0442616 ]], dtype=float32)"
      ]
     },
     "execution_count": 50,
     "metadata": {},
     "output_type": "execute_result"
    }
   ],
   "source": [
    "duration_pred"
   ]
  },
  {
   "cell_type": "code",
   "execution_count": 51,
   "id": "d1ACUVVIsRp0",
   "metadata": {
    "colab": {
     "base_uri": "https://localhost:8080/"
    },
    "id": "d1ACUVVIsRp0",
    "outputId": "a6be1ff8-cf36-4777-bfd8-e15f4837d6bd"
   },
   "outputs": [
    {
     "name": "stdout",
     "output_type": "stream",
     "text": [
      "[8 6 7]\n",
      "[7 1]\n"
     ]
    }
   ],
   "source": [
    "pitch_pred_top_3_ind = np.argpartition(pitch_pred, -3)[-3:]\n",
    "dur_pred_top_2_ind = np.argpartition(duration_pred, -2)[0][-2:]\n",
    "print(pitch_pred_top_3_ind)\n",
    "print(dur_pred_top_2_ind)"
   ]
  },
  {
   "cell_type": "code",
   "execution_count": 52,
   "id": "gN6a7eM25Ay7",
   "metadata": {
    "colab": {
     "base_uri": "https://localhost:8080/"
    },
    "id": "gN6a7eM25Ay7",
    "outputId": "58715380-d46c-4fc9-85ad-456ae38208d9"
   },
   "outputs": [
    {
     "data": {
      "text/plain": [
       "1"
      ]
     },
     "execution_count": 52,
     "metadata": {},
     "output_type": "execute_result"
    }
   ],
   "source": [
    "np.random.choice(dur_pred_top_2_ind)"
   ]
  },
  {
   "cell_type": "code",
   "execution_count": 53,
   "id": "RbdJJkuV4l0D",
   "metadata": {
    "colab": {
     "base_uri": "https://localhost:8080/"
    },
    "id": "RbdJJkuV4l0D",
    "outputId": "a9e40392-f4cc-46e3-eb60-e59151b67c95"
   },
   "outputs": [
    {
     "data": {
      "text/plain": [
       "[[8, 1], [6, 7], [7, 7]]"
      ]
     },
     "execution_count": 53,
     "metadata": {},
     "output_type": "execute_result"
    }
   ],
   "source": [
    "three_notes = [[pitch, np.random.choice(dur_pred_top_2_ind)] for pitch in pitch_pred_top_3_ind]\n",
    "three_notes"
   ]
  },
  {
   "cell_type": "code",
   "execution_count": 54,
   "id": "6qIwE1Ju66qQ",
   "metadata": {
    "colab": {
     "base_uri": "https://localhost:8080/"
    },
    "id": "6qIwE1Ju66qQ",
    "outputId": "bbf5fad1-cf51-4803-f286-f3808925bea1"
   },
   "outputs": [
    {
     "data": {
      "text/plain": [
       "[[56, '16'], [54, '4'], [55, '4']]"
      ]
     },
     "execution_count": 54,
     "metadata": {},
     "output_type": "execute_result"
    }
   ],
   "source": [
    "[[pitch_reverse_mapping[pitch], reverse_len_in_64th_notes[duration_reverse_mapping[duration]]] for pitch, duration in three_notes]"
   ]
  },
  {
   "cell_type": "code",
   "execution_count": 55,
   "id": "VTlge13E5TPE",
   "metadata": {
    "colab": {
     "base_uri": "https://localhost:8080/"
    },
    "id": "VTlge13E5TPE",
    "outputId": "3dfa8636-3bf5-4836-a7ef-04c08dff68f3"
   },
   "outputs": [
    {
     "data": {
      "text/plain": [
       "array([0.17777778, 0.13333333, 0.15555556])"
      ]
     },
     "execution_count": 55,
     "metadata": {},
     "output_type": "execute_result"
    }
   ],
   "source": [
    "pitch_pred_top_3_ind / float(L_pitch_symb)"
   ]
  },
  {
   "cell_type": "markdown",
   "id": "8AhlKqRQLrvj",
   "metadata": {
    "id": "8AhlKqRQLrvj"
   },
   "source": [
    "**generating three notes**"
   ]
  },
  {
   "cell_type": "code",
   "execution_count": 56,
   "id": "5LqcORwvKviU",
   "metadata": {
    "colab": {
     "base_uri": "https://localhost:8080/"
    },
    "id": "5LqcORwvKviU",
    "outputId": "876a6617-820c-412e-818d-b10ad6d5d5ad"
   },
   "outputs": [
    {
     "data": {
      "text/plain": [
       "[[56, '4'], [54, '4'], [55, '16']]"
      ]
     },
     "execution_count": 56,
     "metadata": {},
     "output_type": "execute_result"
    }
   ],
   "source": [
    "# return predictions from sample\n",
    "sample = X_norm[0].reshape(1, length, 2)\n",
    "pitch_pred, duration_pred = model.predict(sample)\n",
    "\n",
    "# get log of predictions\n",
    "pitch_pred = np.log(pitch_pred[0]) / 1.0  # diversity?\n",
    "duration_pred = np.log(duration_pred[0])\n",
    "\n",
    "# un-log predictions (not sure why we logged them...)\n",
    "exp_pitch_preds = np.exp(pitch_pred)\n",
    "exp_duration_preds = np.exp(duration_pred)\n",
    "\n",
    "# make odds of all predictions = 1.0\n",
    "pitch_pred = exp_pitch_preds / np.sum(exp_pitch_preds)\n",
    "duration_pred = exp_duration_preds / np.sum(exp_duration_preds)\n",
    "\n",
    "# get top 3 pitch predictions and top 2 duration predictions\n",
    "pitch_index_top_3 = np.argpartition(pitch_pred, -3)[-3:]\n",
    "dur_index_top_2 = np.argpartition(duration_pred, -2)[-2:]\n",
    "\n",
    "# return three notes as [pitch, duration] pairs\n",
    "three_notes = [[pitch, np.random.choice(dur_index_top_2)] for pitch in pitch_index_top_3]\n",
    "three_notes_mapped = [[pitch_reverse_mapping[pitch], reverse_len_in_64th_notes[duration_reverse_mapping[duration]]] for pitch, duration in three_notes]\n",
    "\n",
    "three_notes_mapped\n",
    "\n",
    "### for model.prediction input\n",
    "# pitch_index_N = pitch_index_top_3 / float(L_pitch_symb)\n",
    "# duration_index_N = duration_index_top_3 / float(L_duration_symb)"
   ]
  },
  {
   "cell_type": "markdown",
   "id": "qwqzvm_CLxOI",
   "metadata": {
    "id": "qwqzvm_CLxOI"
   },
   "source": [
    "**TODO create loop that asks user to choose one of three notes each time**"
   ]
  },
  {
   "cell_type": "code",
   "execution_count": 61,
   "id": "wEWrswdqelL5",
   "metadata": {
    "colab": {
     "base_uri": "https://localhost:8080/",
     "height": 253
    },
    "id": "wEWrswdqelL5",
    "outputId": "18a02486-d097-4b6c-a593-3025b55abb81"
   },
   "outputs": [
    {
     "name": "stdout",
     "output_type": "stream",
     "text": [
      "1/1 [==============================] - 0s 16ms/step\n"
     ]
    },
    {
     "ename": "IndexError",
     "evalue": "ignored",
     "output_type": "error",
     "traceback": [
      "\u001b[0;31m---------------------------------------------------------------------------\u001b[0m",
      "\u001b[0;31mIndexError\u001b[0m                                Traceback (most recent call last)",
      "\u001b[0;32m<ipython-input-61-0d542d283293>\u001b[0m in \u001b[0;36m<module>\u001b[0;34m()\u001b[0m\n\u001b[1;32m     15\u001b[0m     \u001b[0mduration_pred\u001b[0m \u001b[0;34m=\u001b[0m \u001b[0mexp_duration_preds\u001b[0m \u001b[0;34m/\u001b[0m \u001b[0mnp\u001b[0m\u001b[0;34m.\u001b[0m\u001b[0msum\u001b[0m\u001b[0;34m(\u001b[0m\u001b[0mexp_duration_preds\u001b[0m\u001b[0;34m)\u001b[0m\u001b[0;34m\u001b[0m\u001b[0;34m\u001b[0m\u001b[0m\n\u001b[1;32m     16\u001b[0m \u001b[0;34m\u001b[0m\u001b[0m\n\u001b[0;32m---> 17\u001b[0;31m     \u001b[0mpitch_index_top_3\u001b[0m \u001b[0;34m=\u001b[0m \u001b[0mnp\u001b[0m\u001b[0;34m.\u001b[0m\u001b[0margpartition\u001b[0m\u001b[0;34m(\u001b[0m\u001b[0mpitch_pred\u001b[0m\u001b[0;34m,\u001b[0m \u001b[0;34m-\u001b[0m\u001b[0;36m3\u001b[0m\u001b[0;34m)\u001b[0m\u001b[0;34m[\u001b[0m\u001b[0;36m0\u001b[0m\u001b[0;34m]\u001b[0m\u001b[0;34m[\u001b[0m\u001b[0;34m-\u001b[0m\u001b[0;36m3\u001b[0m\u001b[0;34m:\u001b[0m\u001b[0;34m]\u001b[0m\u001b[0;34m\u001b[0m\u001b[0;34m\u001b[0m\u001b[0m\n\u001b[0m\u001b[1;32m     18\u001b[0m     \u001b[0mdur_index_top_3\u001b[0m \u001b[0;34m=\u001b[0m \u001b[0mnp\u001b[0m\u001b[0;34m.\u001b[0m\u001b[0margpartition\u001b[0m\u001b[0;34m(\u001b[0m\u001b[0mduration_pred\u001b[0m\u001b[0;34m,\u001b[0m \u001b[0;34m-\u001b[0m\u001b[0;36m3\u001b[0m\u001b[0;34m)\u001b[0m\u001b[0;34m[\u001b[0m\u001b[0;36m0\u001b[0m\u001b[0;34m]\u001b[0m\u001b[0;34m[\u001b[0m\u001b[0;34m-\u001b[0m\u001b[0;36m2\u001b[0m\u001b[0;34m:\u001b[0m\u001b[0;34m]\u001b[0m\u001b[0;34m\u001b[0m\u001b[0;34m\u001b[0m\u001b[0m\n\u001b[1;32m     19\u001b[0m \u001b[0;34m\u001b[0m\u001b[0m\n",
      "\u001b[0;31mIndexError\u001b[0m: invalid index to scalar variable."
     ]
    }
   ],
   "source": [
    "note_count = 10\n",
    "Music = \"\"\n",
    "notes_generated = []\n",
    "for i in range(note_count):\n",
    "    sample = X_norm[0].reshape(1, length, 2)\n",
    "    pitch_pred, duration_pred = model.predict(sample, verbose=1)\n",
    "\n",
    "    pitch_pred = np.log(pitch_pred[0]) / 1.0  # diversity?\n",
    "    duration_pred = np.log(duration_pred[0])\n",
    "\n",
    "    exp_pitch_preds = np.exp(pitch_pred)\n",
    "    exp_duration_preds = np.exp(duration_pred)\n",
    "\n",
    "    pitch_pred = exp_pitch_preds / np.sum(exp_pitch_preds)\n",
    "    duration_pred = exp_duration_preds / np.sum(exp_duration_preds)\n",
    "\n",
    "    pitch_index_top_3 = np.argpartition(pitch_pred, -3)[0][-3:]\n",
    "    dur_index_top_3 = np.argpartition(duration_pred, -3)[0][-2:]\n",
    "\n",
    "    ### for model.prediction input\n",
    "    # pitch_index_N = pitch_index_top_3 / float(L_pitch_symb)\n",
    "    # duration_index_N = duration_index_top_3 / float(L_duration_symb)\n",
    "\n",
    "    three_notes = [[pitch, np.random.choice(dur_pred_top_3_ind)] for pitch in pitch_index_top_3]\n",
    "    three_notes_mapped = [[pitch_reverse_mapping[pitch], reverse_len_in_64th_notes[duration_reverse_mapping[duration]]] for pitch, duration in three_notes]\n",
    "\n",
    "    # notes_generated.append([pitch_index, duration_index])\n",
    "\n",
    "    # Music = [reverse_mapping[char] for char in notes_generated]\n",
    "    # seed = np.insert(sample[0], len(sample[0]), index_N)\n",
    "    # sample = sample[1:]"
   ]
  },
  {
   "cell_type": "markdown",
   "id": "365b8f7f",
   "metadata": {
    "heading_collapsed": true,
    "id": "365b8f7f"
   },
   "source": [
    "### Create midi file"
   ]
  },
  {
   "cell_type": "code",
   "execution_count": null,
   "id": "d97101cf",
   "metadata": {
    "hidden": true,
    "id": "d97101cf"
   },
   "outputs": [],
   "source": [
    "def notes_to_midi(\n",
    "    notes: pd.DataFrame,\n",
    "    instrument_name: str,\n",
    "    velocity: int = 100 # note loudness\n",
    ") -> pretty_midi.PrettyMIDI:\n",
    "    \n",
    "    pm = pretty_midi.PrettyMIDI()\n",
    "    instrument = pretty_midi.Instrument(\n",
    "        program=pretty_midi.instrument_name_to_program(\n",
    "            instrument_name))\n",
    "    \n",
    "    prev_start = 0\n",
    "    for i, note in notes.iterrows():\n",
    "        start = float(prev_start)\n",
    "        end = float(prev_start + note['dur(s)'])\n",
    "        if note['note_name'] == 'r':\n",
    "            start += float(note['dur(s)'])\n",
    "            prev_start = start\n",
    "        else:\n",
    "            note = pretty_midi.Note(\n",
    "                velocity=velocity,\n",
    "                pitch=note.pitch_norm,\n",
    "#                 pitch=int(pretty_midi.note_name_to_number(note['note_name'])),\n",
    "                start=start,\n",
    "                end=end\n",
    "            )\n",
    "            instrument.notes.append(note)\n",
    "            prev_start = end\n",
    "            \n",
    "    pm.instruments.append(instrument)\n",
    "    return pm"
   ]
  },
  {
   "cell_type": "code",
   "execution_count": null,
   "id": "541dd775",
   "metadata": {
    "hidden": true,
    "id": "541dd775"
   },
   "outputs": [],
   "source": [
    "instrument_name = 'Acoustic Guitar (nylon)'\n",
    "\n",
    "all_midis = []\n",
    "for df in all_csv_dfs:\n",
    "    pm = notes_to_midi(df, instrument_name)\n",
    "    all_midis.append(pm)"
   ]
  },
  {
   "cell_type": "code",
   "execution_count": null,
   "id": "2a28daf3",
   "metadata": {
    "hidden": true,
    "id": "2a28daf3"
   },
   "outputs": [],
   "source": [
    "instrument = all_midis[0].instruments[0]\n",
    "instrument.notes"
   ]
  },
  {
   "cell_type": "markdown",
   "id": "7e8bdb0a",
   "metadata": {
    "heading_collapsed": true,
    "id": "7e8bdb0a"
   },
   "source": [
    "### Playback the midi"
   ]
  },
  {
   "cell_type": "code",
   "execution_count": null,
   "id": "8f0d7022",
   "metadata": {
    "hidden": true,
    "id": "8f0d7022"
   },
   "outputs": [],
   "source": [
    "_SAMPLING_RATE = 16000\n",
    "\n",
    "def display_audio(pm: pretty_midi.PrettyMIDI):\n",
    "    waveform = pm.fluidsynth(fs=_SAMPLING_RATE)\n",
    "    return display.Audio(waveform, rate=_SAMPLING_RATE)"
   ]
  },
  {
   "cell_type": "code",
   "execution_count": null,
   "id": "c5148a50",
   "metadata": {
    "hidden": true,
    "id": "c5148a50"
   },
   "outputs": [],
   "source": [
    "# instrument_name = 'Electric Piano 1'\n",
    "instrument_name = 'Acoustic Guitar (nylon)'\n",
    "out_file = 'example.midi'\n",
    "\n",
    "example_pm = notes_to_midi(all_csv_dfs[10], instrument_name)"
   ]
  },
  {
   "cell_type": "code",
   "execution_count": null,
   "id": "13c14db0",
   "metadata": {
    "hidden": true,
    "id": "13c14db0"
   },
   "outputs": [],
   "source": [
    "#display_audio(example_pm)"
   ]
  },
  {
   "cell_type": "markdown",
   "id": "a2dc3852",
   "metadata": {
    "heading_collapsed": true,
    "id": "a2dc3852"
   },
   "source": [
    "### Create dataframe from midi"
   ]
  },
  {
   "cell_type": "code",
   "execution_count": null,
   "id": "c3e04d6b",
   "metadata": {
    "hidden": true,
    "id": "c3e04d6b"
   },
   "outputs": [],
   "source": [
    "filenames[45]"
   ]
  },
  {
   "cell_type": "code",
   "execution_count": null,
   "id": "9c2d1fdd",
   "metadata": {
    "hidden": true,
    "id": "9c2d1fdd"
   },
   "outputs": [],
   "source": [
    "instrument = example_pm.instruments[0]\n",
    "instrument.notes"
   ]
  },
  {
   "cell_type": "code",
   "execution_count": null,
   "id": "d6781eaf",
   "metadata": {
    "hidden": true,
    "id": "d6781eaf"
   },
   "outputs": [],
   "source": [
    "def midi_to_notes(midi: pretty_midi.PrettyMIDI()) -> pd.DataFrame:\n",
    "#     pm = pretty_midi.PrettyMIDI(midi_file)\n",
    "    instrument = midi.instruments[0]\n",
    "    notes = collections.defaultdict(list)\n",
    "    \n",
    "    # Sort the notes by start time\n",
    "    sorted_notes = sorted(instrument.notes, key=lambda note: note.start)\n",
    "    prev_start = sorted_notes[0].start\n",
    "    \n",
    "    for note in sorted_notes:\n",
    "        start = note.start\n",
    "        end = note.end\n",
    "        notes['pitch'].append(note.pitch)\n",
    "        notes['start'].append(start)\n",
    "        notes['end'].append(end)\n",
    "        notes['step'].append(start-prev_start)\n",
    "        notes['duration'].append(end - start)\n",
    "        prev_start = start\n",
    "        \n",
    "    return pd.DataFrame({name: np.array(value) for name, value in notes.items()})"
   ]
  },
  {
   "cell_type": "code",
   "execution_count": null,
   "id": "8506328f",
   "metadata": {
    "hidden": true,
    "id": "8506328f"
   },
   "outputs": [],
   "source": [
    "all_midi_dfs = []\n",
    "\n",
    "for midi in all_midis:\n",
    "    midi_df = midi_to_notes(midi)\n",
    "    all_midi_dfs.append(midi_df)"
   ]
  },
  {
   "cell_type": "code",
   "execution_count": null,
   "id": "f5b44961",
   "metadata": {
    "hidden": true,
    "id": "f5b44961"
   },
   "outputs": [],
   "source": [
    "all_midi_dfs[45].head()"
   ]
  },
  {
   "cell_type": "code",
   "execution_count": null,
   "id": "17e7fa04",
   "metadata": {
    "hidden": true,
    "id": "17e7fa04"
   },
   "outputs": [],
   "source": [
    "max_pitch_list = []\n",
    "min_pitch_list = []\n",
    "pitch_list = []\n",
    "for midi in all_midi_dfs:\n",
    "    max_pitch_list.append(midi.pitch.max())\n",
    "    min_pitch_list.append(midi.pitch.min())\n",
    "    for pitch in midi.pitch:\n",
    "        if pitch not in pitch_list:\n",
    "            pitch_list.append(pitch)"
   ]
  },
  {
   "cell_type": "code",
   "execution_count": null,
   "id": "c1d9e42a",
   "metadata": {
    "hidden": true,
    "id": "c1d9e42a"
   },
   "outputs": [],
   "source": [
    "pitch_list.sort()\n",
    "print(f\"highest note: {max(max_pitch_list)} ({pretty_midi.note_number_to_name(max(max_pitch_list))})\")\n",
    "print(f\"lowest note:, {min(min_pitch_list)} ({pretty_midi.note_number_to_name(min(min_pitch_list))})\")\n",
    "print('number of different notes:', len(pitch_list))"
   ]
  }
 ],
 "metadata": {
  "accelerator": "GPU",
  "colab": {
   "collapsed_sections": [
    "365b8f7f",
    "7e8bdb0a",
    "a2dc3852",
    "a03f0041",
    "0223c268",
    "a244d9d7",
    "2fcdb2eb",
    "a5a580bf",
    "7fe2981d",
    "b3d2fcc2"
   ],
   "name": "stephen_csv_to_midi.ipynb",
   "provenance": []
  },
  "kernelspec": {
   "display_name": "Python 3 (ipykernel)",
   "language": "python",
   "name": "python3"
  },
  "language_info": {
   "codemirror_mode": {
    "name": "ipython",
    "version": 3
   },
   "file_extension": ".py",
   "mimetype": "text/x-python",
   "name": "python",
   "nbconvert_exporter": "python",
   "pygments_lexer": "ipython3",
   "version": "3.8.12"
  },
  "toc": {
   "base_numbering": 1,
   "nav_menu": {},
   "number_sections": true,
   "sideBar": true,
   "skip_h1_title": false,
   "title_cell": "Table of Contents",
   "title_sidebar": "Contents",
   "toc_cell": false,
   "toc_position": {},
   "toc_section_display": true,
   "toc_window_display": false
  }
 },
 "nbformat": 4,
 "nbformat_minor": 5
}

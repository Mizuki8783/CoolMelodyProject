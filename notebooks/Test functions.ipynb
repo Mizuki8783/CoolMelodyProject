{
 "cells": [
  {
   "cell_type": "code",
   "execution_count": 11,
   "id": "749aa87d",
   "metadata": {},
   "outputs": [],
   "source": [
    "from CoolMelodyProject import csvcombiner"
   ]
  },
  {
   "cell_type": "code",
   "execution_count": 4,
   "id": "c5b4aa65",
   "metadata": {},
   "outputs": [
    {
     "name": "stdout",
     "output_type": "stream",
     "text": [
      "/home/benthompson/code/sevans47/CoolMelodyProject/notebooks\r\n"
     ]
    }
   ],
   "source": [
    "!pwd\n"
   ]
  },
  {
   "cell_type": "code",
   "execution_count": 5,
   "id": "24cf0230",
   "metadata": {},
   "outputs": [],
   "source": [
    "import os\n",
    "import sys"
   ]
  },
  {
   "cell_type": "code",
   "execution_count": 6,
   "id": "e75516ed",
   "metadata": {},
   "outputs": [
    {
     "name": "stdout",
     "output_type": "stream",
     "text": [
      "CoolMelodyProject\r\n"
     ]
    }
   ],
   "source": [
    "!pyenv local"
   ]
  },
  {
   "cell_type": "code",
   "execution_count": 7,
   "id": "0dbb3379",
   "metadata": {},
   "outputs": [],
   "source": [
    "path = os.path.abspath('..')"
   ]
  },
  {
   "cell_type": "code",
   "execution_count": 8,
   "id": "be71e42d",
   "metadata": {},
   "outputs": [],
   "source": [
    "sys.path.append(path)"
   ]
  },
  {
   "cell_type": "code",
   "execution_count": 9,
   "id": "18e8d920",
   "metadata": {},
   "outputs": [
    {
     "data": {
      "text/plain": [
       "['/home/benthompson/code/sevans47/CoolMelodyProject/notebooks',\n",
       " '/home/benthompson/code/bendthompson/data-challenges/04-Decision-Science',\n",
       " '/home/benthompson/code/sevans47/CoolMelodyProject/notebooks',\n",
       " '/home/benthompson/.pyenv/versions/3.8.12/lib/python38.zip',\n",
       " '/home/benthompson/.pyenv/versions/3.8.12/lib/python3.8',\n",
       " '/home/benthompson/.pyenv/versions/3.8.12/lib/python3.8/lib-dynload',\n",
       " '',\n",
       " '/home/benthompson/.pyenv/versions/3.8.12/envs/CoolMelodyProject/lib/python3.8/site-packages',\n",
       " '/home/benthompson/code/sevans47/CoolMelodyProject']"
      ]
     },
     "execution_count": 9,
     "metadata": {},
     "output_type": "execute_result"
    }
   ],
   "source": [
    "sys.path"
   ]
  },
  {
   "cell_type": "code",
   "execution_count": 12,
   "id": "c5b89fb6",
   "metadata": {},
   "outputs": [
    {
     "data": {
      "text/html": [
       "<div>\n",
       "<style scoped>\n",
       "    .dataframe tbody tr th:only-of-type {\n",
       "        vertical-align: middle;\n",
       "    }\n",
       "\n",
       "    .dataframe tbody tr th {\n",
       "        vertical-align: top;\n",
       "    }\n",
       "\n",
       "    .dataframe thead th {\n",
       "        text-align: right;\n",
       "    }\n",
       "</style>\n",
       "<table border=\"1\" class=\"dataframe\">\n",
       "  <thead>\n",
       "    <tr style=\"text-align: right;\">\n",
       "      <th></th>\n",
       "      <th>note_num</th>\n",
       "      <th>note_name</th>\n",
       "      <th>duration</th>\n",
       "      <th>measure</th>\n",
       "      <th>beat</th>\n",
       "      <th>subdiv</th>\n",
       "      <th>harm</th>\n",
       "      <th>from_root</th>\n",
       "      <th>NCT</th>\n",
       "      <th>BI2</th>\n",
       "      <th>CI</th>\n",
       "      <th>trill</th>\n",
       "      <th>dynamic</th>\n",
       "      <th>movement_name</th>\n",
       "    </tr>\n",
       "  </thead>\n",
       "  <tbody>\n",
       "    <tr>\n",
       "      <th>0</th>\n",
       "      <td>0</td>\n",
       "      <td>r</td>\n",
       "      <td>8</td>\n",
       "      <td>1</td>\n",
       "      <td>1</td>\n",
       "      <td>1</td>\n",
       "      <td>I</td>\n",
       "      <td>0</td>\n",
       "      <td>0</td>\n",
       "      <td>0</td>\n",
       "      <td>0</td>\n",
       "      <td>0</td>\n",
       "      <td>p</td>\n",
       "      <td>K281-II</td>\n",
       "    </tr>\n",
       "    <tr>\n",
       "      <th>1</th>\n",
       "      <td>1</td>\n",
       "      <td>bb5</td>\n",
       "      <td>8</td>\n",
       "      <td>1</td>\n",
       "      <td>2</td>\n",
       "      <td>1</td>\n",
       "      <td>I</td>\n",
       "      <td>5</td>\n",
       "      <td>0</td>\n",
       "      <td>0</td>\n",
       "      <td>0</td>\n",
       "      <td>0</td>\n",
       "      <td>p</td>\n",
       "      <td>K281-II</td>\n",
       "    </tr>\n",
       "    <tr>\n",
       "      <th>2</th>\n",
       "      <td>2</td>\n",
       "      <td>ab5</td>\n",
       "      <td>8</td>\n",
       "      <td>1</td>\n",
       "      <td>3</td>\n",
       "      <td>1</td>\n",
       "      <td>I</td>\n",
       "      <td>4</td>\n",
       "      <td>1</td>\n",
       "      <td>0</td>\n",
       "      <td>0</td>\n",
       "      <td>0</td>\n",
       "      <td>p</td>\n",
       "      <td>K281-II</td>\n",
       "    </tr>\n",
       "    <tr>\n",
       "      <th>3</th>\n",
       "      <td>3</td>\n",
       "      <td>g5</td>\n",
       "      <td>8</td>\n",
       "      <td>2</td>\n",
       "      <td>1</td>\n",
       "      <td>1</td>\n",
       "      <td>I</td>\n",
       "      <td>3</td>\n",
       "      <td>0</td>\n",
       "      <td>0</td>\n",
       "      <td>0</td>\n",
       "      <td>0</td>\n",
       "      <td>c</td>\n",
       "      <td>K281-II</td>\n",
       "    </tr>\n",
       "    <tr>\n",
       "      <th>4</th>\n",
       "      <td>4</td>\n",
       "      <td>f5</td>\n",
       "      <td>8</td>\n",
       "      <td>2</td>\n",
       "      <td>2</td>\n",
       "      <td>1</td>\n",
       "      <td>I</td>\n",
       "      <td>2</td>\n",
       "      <td>1</td>\n",
       "      <td>0</td>\n",
       "      <td>0</td>\n",
       "      <td>0</td>\n",
       "      <td>c</td>\n",
       "      <td>K281-II</td>\n",
       "    </tr>\n",
       "    <tr>\n",
       "      <th>...</th>\n",
       "      <td>...</td>\n",
       "      <td>...</td>\n",
       "      <td>...</td>\n",
       "      <td>...</td>\n",
       "      <td>...</td>\n",
       "      <td>...</td>\n",
       "      <td>...</td>\n",
       "      <td>...</td>\n",
       "      <td>...</td>\n",
       "      <td>...</td>\n",
       "      <td>...</td>\n",
       "      <td>...</td>\n",
       "      <td>...</td>\n",
       "      <td>...</td>\n",
       "    </tr>\n",
       "    <tr>\n",
       "      <th>1359</th>\n",
       "      <td>22</td>\n",
       "      <td>c5</td>\n",
       "      <td>8</td>\n",
       "      <td>4</td>\n",
       "      <td>1</td>\n",
       "      <td>3</td>\n",
       "      <td>V6</td>\n",
       "      <td>5</td>\n",
       "      <td>0</td>\n",
       "      <td>0</td>\n",
       "      <td>1</td>\n",
       "      <td>0</td>\n",
       "      <td>p</td>\n",
       "      <td>K570-III</td>\n",
       "    </tr>\n",
       "    <tr>\n",
       "      <th>1360</th>\n",
       "      <td>23</td>\n",
       "      <td>d5</td>\n",
       "      <td>8</td>\n",
       "      <td>4</td>\n",
       "      <td>2</td>\n",
       "      <td>1</td>\n",
       "      <td>I</td>\n",
       "      <td>3</td>\n",
       "      <td>0</td>\n",
       "      <td>0</td>\n",
       "      <td>1</td>\n",
       "      <td>0</td>\n",
       "      <td>p</td>\n",
       "      <td>K570-III</td>\n",
       "    </tr>\n",
       "    <tr>\n",
       "      <th>1361</th>\n",
       "      <td>24</td>\n",
       "      <td>eb5</td>\n",
       "      <td>8</td>\n",
       "      <td>4</td>\n",
       "      <td>2</td>\n",
       "      <td>3</td>\n",
       "      <td>ii6</td>\n",
       "      <td>3</td>\n",
       "      <td>0</td>\n",
       "      <td>0</td>\n",
       "      <td>1</td>\n",
       "      <td>0</td>\n",
       "      <td>p</td>\n",
       "      <td>K570-III</td>\n",
       "    </tr>\n",
       "    <tr>\n",
       "      <th>1362</th>\n",
       "      <td>25</td>\n",
       "      <td>d5</td>\n",
       "      <td>4</td>\n",
       "      <td>4</td>\n",
       "      <td>3</td>\n",
       "      <td>1</td>\n",
       "      <td>I64</td>\n",
       "      <td>3</td>\n",
       "      <td>0</td>\n",
       "      <td>0</td>\n",
       "      <td>1</td>\n",
       "      <td>0</td>\n",
       "      <td>p</td>\n",
       "      <td>K570-III</td>\n",
       "    </tr>\n",
       "    <tr>\n",
       "      <th>1363</th>\n",
       "      <td>26</td>\n",
       "      <td>c5</td>\n",
       "      <td>8</td>\n",
       "      <td>4</td>\n",
       "      <td>4</td>\n",
       "      <td>1</td>\n",
       "      <td>V</td>\n",
       "      <td>5</td>\n",
       "      <td>0</td>\n",
       "      <td>0</td>\n",
       "      <td>1</td>\n",
       "      <td>0</td>\n",
       "      <td>p</td>\n",
       "      <td>K570-III</td>\n",
       "    </tr>\n",
       "  </tbody>\n",
       "</table>\n",
       "<p>1364 rows × 14 columns</p>\n",
       "</div>"
      ],
      "text/plain": [
       "      note_num note_name duration  measure  beat subdiv harm  from_root  NCT  \\\n",
       "0            0         r        8        1     1      1    I          0    0   \n",
       "1            1       bb5        8        1     2      1    I          5    0   \n",
       "2            2       ab5        8        1     3      1    I          4    1   \n",
       "3            3        g5        8        2     1      1    I          3    0   \n",
       "4            4        f5        8        2     2      1    I          2    1   \n",
       "...        ...       ...      ...      ...   ...    ...  ...        ...  ...   \n",
       "1359        22        c5        8        4     1      3   V6          5    0   \n",
       "1360        23        d5        8        4     2      1    I          3    0   \n",
       "1361        24       eb5        8        4     2      3  ii6          3    0   \n",
       "1362        25        d5        4        4     3      1  I64          3    0   \n",
       "1363        26        c5        8        4     4      1    V          5    0   \n",
       "\n",
       "      BI2  CI  trill dynamic movement_name  \n",
       "0       0   0      0       p       K281-II  \n",
       "1       0   0      0       p       K281-II  \n",
       "2       0   0      0       p       K281-II  \n",
       "3       0   0      0       c       K281-II  \n",
       "4       0   0      0       c       K281-II  \n",
       "...   ...  ..    ...     ...           ...  \n",
       "1359    0   1      0       p      K570-III  \n",
       "1360    0   1      0       p      K570-III  \n",
       "1361    0   1      0       p      K570-III  \n",
       "1362    0   1      0       p      K570-III  \n",
       "1363    0   1      0       p      K570-III  \n",
       "\n",
       "[1364 rows x 14 columns]"
      ]
     },
     "execution_count": 12,
     "metadata": {},
     "output_type": "execute_result"
    }
   ],
   "source": [
    "csvcombiner.get_stacked_movement_df()"
   ]
  },
  {
   "cell_type": "code",
   "execution_count": 14,
   "id": "6098866f",
   "metadata": {},
   "outputs": [
    {
     "data": {
      "text/plain": [
       "57"
      ]
     },
     "execution_count": 14,
     "metadata": {},
     "output_type": "execute_result"
    }
   ],
   "source": [
    "len(csvcombiner.get_movement_df_dict())"
   ]
  },
  {
   "cell_type": "code",
   "execution_count": 15,
   "id": "40f8199c",
   "metadata": {},
   "outputs": [
    {
     "data": {
      "text/plain": [
       "57"
      ]
     },
     "execution_count": 15,
     "metadata": {},
     "output_type": "execute_result"
    }
   ],
   "source": [
    "len(csvcombiner.get_movement_df_list())"
   ]
  },
  {
   "cell_type": "code",
   "execution_count": null,
   "id": "ca549488",
   "metadata": {},
   "outputs": [],
   "source": []
  }
 ],
 "metadata": {
  "kernelspec": {
   "display_name": "Python 3 (ipykernel)",
   "language": "python",
   "name": "python3"
  },
  "language_info": {
   "codemirror_mode": {
    "name": "ipython",
    "version": 3
   },
   "file_extension": ".py",
   "mimetype": "text/x-python",
   "name": "python",
   "nbconvert_exporter": "python",
   "pygments_lexer": "ipython3",
   "version": "3.8.12"
  },
  "toc": {
   "base_numbering": 1,
   "nav_menu": {},
   "number_sections": true,
   "sideBar": true,
   "skip_h1_title": false,
   "title_cell": "Table of Contents",
   "title_sidebar": "Contents",
   "toc_cell": false,
   "toc_position": {},
   "toc_section_display": true,
   "toc_window_display": false
  }
 },
 "nbformat": 4,
 "nbformat_minor": 5
}

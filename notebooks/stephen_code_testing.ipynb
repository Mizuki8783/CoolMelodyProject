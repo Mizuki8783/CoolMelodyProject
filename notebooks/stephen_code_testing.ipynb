{
 "cells": [
  {
   "cell_type": "code",
   "execution_count": 1,
   "id": "3867500c",
   "metadata": {},
   "outputs": [
    {
     "name": "stdout",
     "output_type": "stream",
     "text": [
      "Collecting music21\n",
      "  Downloading music21-7.1.0.tar.gz (19.2 MB)\n",
      "\u001b[2K     \u001b[38;2;114;156;31m━━━━━━━━━━━━━━━━━━━━━━━━━━━━━━━━━━━━━━━━\u001b[0m \u001b[32m19.2/19.2 MB\u001b[0m \u001b[31m8.9 MB/s\u001b[0m eta \u001b[36m0:00:00\u001b[0m0m eta \u001b[36m0:00:01\u001b[0m[36m0:00:01\u001b[0m\n",
      "\u001b[?25h  Preparing metadata (setup.py) ... \u001b[?25ldone\n",
      "\u001b[?25hCollecting chardet\n",
      "  Downloading chardet-4.0.0-py2.py3-none-any.whl (178 kB)\n",
      "\u001b[2K     \u001b[38;2;114;156;31m━━━━━━━━━━━━━━━━━━━━━━━━━━━━━━━━━━━━━━━\u001b[0m \u001b[32m178.7/178.7 KB\u001b[0m \u001b[31m5.1 MB/s\u001b[0m eta \u001b[36m0:00:00\u001b[0m\n",
      "\u001b[?25hCollecting joblib\n",
      "  Using cached joblib-1.1.0-py2.py3-none-any.whl (306 kB)\n",
      "Collecting jsonpickle\n",
      "  Downloading jsonpickle-2.1.0-py2.py3-none-any.whl (38 kB)\n",
      "Requirement already satisfied: matplotlib in /Users/Stephen/.pyenv/versions/3.8.12/envs/CoolMelodyProject/lib/python3.8/site-packages (from music21) (3.5.1)\n",
      "Collecting more_itertools\n",
      "  Downloading more_itertools-8.12.0-py3-none-any.whl (54 kB)\n",
      "\u001b[2K     \u001b[38;2;114;156;31m━━━━━━━━━━━━━━━━━━━━━━━━━━━━━━━━━━━━━━━━\u001b[0m \u001b[32m54.3/54.3 KB\u001b[0m \u001b[31m2.0 MB/s\u001b[0m eta \u001b[36m0:00:00\u001b[0m\n",
      "\u001b[?25hRequirement already satisfied: numpy in /Users/Stephen/.pyenv/versions/3.8.12/envs/CoolMelodyProject/lib/python3.8/site-packages (from music21) (1.19.5)\n",
      "Collecting webcolors>=1.5\n",
      "  Downloading webcolors-1.11.1-py3-none-any.whl (9.9 kB)\n",
      "Requirement already satisfied: pyparsing>=2.2.1 in /Users/Stephen/.pyenv/versions/3.8.12/envs/CoolMelodyProject/lib/python3.8/site-packages (from matplotlib->music21) (3.0.7)\n",
      "Requirement already satisfied: fonttools>=4.22.0 in /Users/Stephen/.pyenv/versions/3.8.12/envs/CoolMelodyProject/lib/python3.8/site-packages (from matplotlib->music21) (4.29.1)\n",
      "Requirement already satisfied: pillow>=6.2.0 in /Users/Stephen/.pyenv/versions/3.8.12/envs/CoolMelodyProject/lib/python3.8/site-packages (from matplotlib->music21) (9.0.1)\n",
      "Requirement already satisfied: kiwisolver>=1.0.1 in /Users/Stephen/.pyenv/versions/3.8.12/envs/CoolMelodyProject/lib/python3.8/site-packages (from matplotlib->music21) (1.3.2)\n",
      "Requirement already satisfied: cycler>=0.10 in /Users/Stephen/.pyenv/versions/3.8.12/envs/CoolMelodyProject/lib/python3.8/site-packages (from matplotlib->music21) (0.11.0)\n",
      "Requirement already satisfied: python-dateutil>=2.7 in /Users/Stephen/.pyenv/versions/3.8.12/envs/CoolMelodyProject/lib/python3.8/site-packages (from matplotlib->music21) (2.8.2)\n",
      "Requirement already satisfied: packaging>=20.0 in /Users/Stephen/.pyenv/versions/3.8.12/envs/CoolMelodyProject/lib/python3.8/site-packages (from matplotlib->music21) (21.3)\n",
      "Requirement already satisfied: six>=1.5 in /Users/Stephen/.pyenv/versions/3.8.12/envs/CoolMelodyProject/lib/python3.8/site-packages (from python-dateutil>=2.7->matplotlib->music21) (1.15.0)\n",
      "Building wheels for collected packages: music21\n",
      "  Building wheel for music21 (setup.py) ... \u001b[?25ldone\n",
      "\u001b[?25h  Created wheel for music21: filename=music21-7.1.0-py3-none-any.whl size=21912583 sha256=d6117dc75aace266819b703824aee154da6a2a49729b50ca61da26441ec2aa57\n",
      "  Stored in directory: /Users/Stephen/Library/Caches/pip/wheels/c3/0a/1a/73580f7fc6d1a676a949544d592c0a39546b8ba0477594f2c9\n",
      "Successfully built music21\n",
      "Installing collected packages: webcolors, more_itertools, jsonpickle, joblib, chardet, music21\n",
      "Successfully installed chardet-4.0.0 joblib-1.1.0 jsonpickle-2.1.0 more_itertools-8.12.0 music21-7.1.0 webcolors-1.11.1\n"
     ]
    }
   ],
   "source": [
    "!pip install music21"
   ]
  },
  {
   "cell_type": "code",
   "execution_count": 2,
   "id": "09ab1819",
   "metadata": {},
   "outputs": [],
   "source": [
    "import music21 as m21"
   ]
  },
  {
   "cell_type": "code",
   "execution_count": 4,
   "id": "dd994149",
   "metadata": {},
   "outputs": [],
   "source": [
    "from music21 import note"
   ]
  },
  {
   "cell_type": "code",
   "execution_count": 5,
   "id": "aa35c1c8",
   "metadata": {},
   "outputs": [],
   "source": [
    "from music21 import converter"
   ]
  },
  {
   "cell_type": "code",
   "execution_count": 7,
   "id": "6961abe9",
   "metadata": {},
   "outputs": [
    {
     "data": {
      "text/html": [
       "\n",
       "                <div id='midiPlayerDiv337'></div>\n",
       "                <link rel=\"stylesheet\" href=\"//cuthbertLab.github.io/music21j/css/m21.css\"\n",
       "                    type=\"text/css\" />\n",
       "                <script>\n",
       "                require.config({\n",
       "                    paths: {'music21': '//cuthbertLab.github.io/music21j/src/music21'}\n",
       "                });\n",
       "                require(['music21'], function() {\n",
       "                               mp = new music21.miditools.MidiPlayer();\n",
       "                               mp.addPlayer('#midiPlayerDiv337');\n",
       "                               mp.base64Load('data:audio/midi;base64,TVRoZAAAAAYAAQACBABNVHJrAAAAFAD/UQMHoSAA/1gEBAIYCIgA/y8ATVRyawAAAFYA/wMAAOAAQIgAkDBaiACAMAAAkDFaiACAMQAAkDVaiACANQAAkDVahACANQAAkDdahSuANwAAkDlahSqQO1oBgDkAhSqAOwAAkDxaiACAPACIAP8vAA==');\n",
       "                        });\n",
       "                </script>"
      ],
      "text/plain": [
       "<IPython.core.display.HTML object>"
      ]
     },
     "metadata": {},
     "output_type": "display_data"
    }
   ],
   "source": [
    "s = converter.parse('tinyNotation: 4/4 C4_hi D-4 E#4 F8 trip{G4 A4 B4} c4')\n",
    "s.show('midi')"
   ]
  },
  {
   "cell_type": "code",
   "execution_count": null,
   "id": "e4b2a566",
   "metadata": {},
   "outputs": [],
   "source": []
  }
 ],
 "metadata": {
  "kernelspec": {
   "display_name": "Python 3 (ipykernel)",
   "language": "python",
   "name": "python3"
  },
  "language_info": {
   "codemirror_mode": {
    "name": "ipython",
    "version": 3
   },
   "file_extension": ".py",
   "mimetype": "text/x-python",
   "name": "python",
   "nbconvert_exporter": "python",
   "pygments_lexer": "ipython3",
   "version": "3.8.12"
  },
  "toc": {
   "base_numbering": 1,
   "nav_menu": {},
   "number_sections": true,
   "sideBar": true,
   "skip_h1_title": false,
   "title_cell": "Table of Contents",
   "title_sidebar": "Contents",
   "toc_cell": false,
   "toc_position": {},
   "toc_section_display": true,
   "toc_window_display": false
  }
 },
 "nbformat": 4,
 "nbformat_minor": 5
}

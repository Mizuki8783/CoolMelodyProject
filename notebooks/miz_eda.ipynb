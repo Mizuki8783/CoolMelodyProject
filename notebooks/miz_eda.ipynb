{
 "cells": [
  {
   "cell_type": "code",
   "execution_count": 1,
   "id": "69c3281e",
   "metadata": {},
   "outputs": [],
   "source": [
    "%load_ext autoreload\n",
    "%autoreload 2"
   ]
  },
  {
   "cell_type": "markdown",
   "id": "6176a536",
   "metadata": {
    "heading_collapsed": true
   },
   "source": [
    "## CSV to midi"
   ]
  },
  {
   "cell_type": "markdown",
   "id": "222d5a40",
   "metadata": {
    "hidden": true
   },
   "source": [
    "### Setup"
   ]
  },
  {
   "cell_type": "code",
   "execution_count": 2,
   "id": "8426d8d7",
   "metadata": {
    "hidden": true
   },
   "outputs": [
    {
     "ename": "ModuleNotFoundError",
     "evalue": "No module named 'fluidsynth'",
     "output_type": "error",
     "traceback": [
      "\u001b[0;31m---------------------------------------------------------------------------\u001b[0m",
      "\u001b[0;31mModuleNotFoundError\u001b[0m                       Traceback (most recent call last)",
      "Input \u001b[0;32mIn [2]\u001b[0m, in \u001b[0;36m<cell line: 4>\u001b[0;34m()\u001b[0m\n\u001b[1;32m      2\u001b[0m \u001b[38;5;28;01mimport\u001b[39;00m \u001b[38;5;21;01mnumpy\u001b[39;00m \u001b[38;5;28;01mas\u001b[39;00m \u001b[38;5;21;01mnp\u001b[39;00m\n\u001b[1;32m      3\u001b[0m \u001b[38;5;28;01mimport\u001b[39;00m \u001b[38;5;21;01mpretty_midi\u001b[39;00m\n\u001b[0;32m----> 4\u001b[0m \u001b[38;5;28;01mimport\u001b[39;00m \u001b[38;5;21;01mfluidsynth\u001b[39;00m\n\u001b[1;32m      5\u001b[0m \u001b[38;5;28;01mfrom\u001b[39;00m \u001b[38;5;21;01mIPython\u001b[39;00m \u001b[38;5;28;01mimport\u001b[39;00m display\n\u001b[1;32m      6\u001b[0m \u001b[38;5;28;01mimport\u001b[39;00m \u001b[38;5;21;01mglob\u001b[39;00m\n",
      "\u001b[0;31mModuleNotFoundError\u001b[0m: No module named 'fluidsynth'"
     ]
    }
   ],
   "source": [
    "import pandas as pd\n",
    "import numpy as np\n",
    "import pretty_midi\n",
    "import fluidsynth\n",
    "from IPython import display\n",
    "import glob\n",
    "import collections\n",
    "import tensorflow as tf\n",
    "import matplotlib.pyplot as plt"
   ]
  },
  {
   "cell_type": "code",
   "execution_count": null,
   "id": "8b5ec55a",
   "metadata": {
    "hidden": true
   },
   "outputs": [],
   "source": [
    "filenames = glob.glob('raw_data/mozart_sonatas/mps - K*')\n",
    "print('Number of files:', len(filenames))\n",
    "print('first file:', filenames[0])"
   ]
  },
  {
   "cell_type": "markdown",
   "id": "3ece1cbf",
   "metadata": {
    "hidden": true
   },
   "source": [
    "**create pieces df (each row is one piece)**"
   ]
  },
  {
   "cell_type": "code",
   "execution_count": null,
   "id": "3d09afe5",
   "metadata": {
    "hidden": true
   },
   "outputs": [],
   "source": [
    "pieces_df = pd.read_csv('raw_data/mozart_sonatas/mps - pieces.csv')\n",
    "pieces_df.head()"
   ]
  },
  {
   "cell_type": "markdown",
   "id": "8e0aacb2",
   "metadata": {
    "heading_collapsed": true,
    "hidden": true
   },
   "source": [
    "### Normalize pitches to C major / A minor"
   ]
  },
  {
   "cell_type": "markdown",
   "id": "bc0d2571",
   "metadata": {
    "hidden": true
   },
   "source": [
    "**create key converter dictionaries**"
   ]
  },
  {
   "cell_type": "code",
   "execution_count": null,
   "id": "b36877f7",
   "metadata": {
    "hidden": true
   },
   "outputs": [],
   "source": [
    "all_keys = set([key for key in pieces_df.key.value_counts().index])\n",
    "all_keys"
   ]
  },
  {
   "cell_type": "code",
   "execution_count": null,
   "id": "e1899327",
   "metadata": {
    "hidden": true
   },
   "outputs": [],
   "source": [
    "# key: # of half steps to add to get to c major / a minor\n",
    "maj_key_converter_dict = {'a major': 3, 'bb major': 2, 'c major': 0, 'd major': -2, 'eb major': -3, 'f major': -5, 'g major': 5}\n",
    "min_key_converter_dict = {'a minor': 0, 'c minor': -3, 'f minor': 4}"
   ]
  },
  {
   "cell_type": "code",
   "execution_count": null,
   "id": "59ad640c",
   "metadata": {
    "hidden": true
   },
   "outputs": [],
   "source": [
    "def normalize_pitches(x, piece_key_type, piece_key):\n",
    "    if x > 0:\n",
    "        if piece_key_type == 'major':\n",
    "            x += maj_key_converter_dict[piece_key]\n",
    "        else:\n",
    "            x += min_key_converter_dict[piece_key]\n",
    "    return x"
   ]
  },
  {
   "cell_type": "markdown",
   "id": "694dcaf8",
   "metadata": {
    "heading_collapsed": true,
    "hidden": true
   },
   "source": [
    "### Create duration (in seconds) column"
   ]
  },
  {
   "cell_type": "code",
   "execution_count": null,
   "id": "7bd11799",
   "metadata": {
    "hidden": true
   },
   "outputs": [],
   "source": [
    "bpm_beat_types = set([bpm.split('=')[0] for bpm in pieces_df.bpm.value_counts().index])\n",
    "bpm_beat_types"
   ]
  },
  {
   "cell_type": "code",
   "execution_count": null,
   "id": "72958d0e",
   "metadata": {
    "hidden": true
   },
   "outputs": [],
   "source": [
    "# bpm note value: amount to multiply bpm by to convert bpm to quarter notes\n",
    "bpm_converter_dict = {'2': 2, '2d': 3, '4': 1, '4d': 1.5, '8': 0.5}"
   ]
  },
  {
   "cell_type": "code",
   "execution_count": null,
   "id": "c966c3d1",
   "metadata": {
    "hidden": true
   },
   "outputs": [],
   "source": [
    "# duration: amount to multiply spb (seconds per beat) by to get duration in seconds\n",
    "beat_dict = {\n",
    "    '1': 4, \n",
    "    '2': 2, \n",
    "    '4': 1, \n",
    "    '8': 0.5,\n",
    "    '16': 0.25,\n",
    "    '32': 0.125,\n",
    "    '64': 0.0625\n",
    "}"
   ]
  },
  {
   "cell_type": "code",
   "execution_count": null,
   "id": "d881b90a",
   "metadata": {
    "hidden": true
   },
   "outputs": [],
   "source": [
    "def duration_to_seconds(x, piece_spb):\n",
    "    if type(x) != 'str':\n",
    "        x = str(x)\n",
    "    if x[-2:] == 'dd':\n",
    "        s = piece_spb * beat_dict[x[:-2]] * 1.75\n",
    "    elif x[-1] == 'd':\n",
    "        s = piece_spb * beat_dict[x[:-1]] * 1.5\n",
    "    else:\n",
    "        s = piece_spb * beat_dict[x]\n",
    "    return s"
   ]
  },
  {
   "cell_type": "markdown",
   "id": "ece9a515",
   "metadata": {
    "heading_collapsed": true,
    "hidden": true
   },
   "source": [
    "### preprocess all dfs"
   ]
  },
  {
   "cell_type": "code",
   "execution_count": null,
   "id": "5808a4d2",
   "metadata": {
    "hidden": true
   },
   "outputs": [],
   "source": [
    "def process_df(filename):\n",
    "    \n",
    "    # extract the K number\n",
    "    k_num = filename.split(' - ')[1].split('.csv')[0].strip(' ')\n",
    "    \n",
    "    # create df\n",
    "    df = pd.read_csv(filename)  # make df\n",
    "    \n",
    "    # normalize pitch\n",
    "    df['pitch'] = df.note_name.apply(lambda x: pretty_midi.note_name_to_number(x) if x != 'r' else 0)  \n",
    "    piece_key = pieces_df[pieces_df['name'] == k_num]['key'].values[0].strip(' ')\n",
    "    piece_key_type = piece_key.split(' ')[1].strip(' ')\n",
    "    df['pitch_norm'] = df.pitch.apply(normalize_pitches, args=(piece_key_type, piece_key))\n",
    "    \n",
    "    # get duration in seconds\n",
    "    piece_bpm = pieces_df[pieces_df['name'] == k_num]['bpm'].values[0].split('=')\n",
    "    piece_bpm_norm = int(bpm_converter_dict[piece_bpm[0]] * int(piece_bpm[1]))\n",
    "    piece_spb = 60 / piece_bpm_norm\n",
    "    df['dur(s)'] = df.duration.apply(duration_to_seconds, args=(piece_spb,))\n",
    "    \n",
    "    return df"
   ]
  },
  {
   "cell_type": "code",
   "execution_count": null,
   "id": "0fe9b69e",
   "metadata": {
    "hidden": true
   },
   "outputs": [],
   "source": [
    "all_csv_dfs = []\n",
    "for file in filenames:\n",
    "    all_csv_dfs.append(process_df(file))"
   ]
  },
  {
   "cell_type": "code",
   "execution_count": null,
   "id": "4bdfbf30",
   "metadata": {
    "hidden": true
   },
   "outputs": [],
   "source": [
    "all_csv_dfs[0].head()"
   ]
  },
  {
   "cell_type": "markdown",
   "id": "365b8f7f",
   "metadata": {
    "hidden": true
   },
   "source": [
    "### Create midi file"
   ]
  },
  {
   "cell_type": "code",
   "execution_count": null,
   "id": "d97101cf",
   "metadata": {
    "hidden": true
   },
   "outputs": [],
   "source": [
    "def notes_to_midi(\n",
    "    notes: pd.DataFrame,\n",
    "    instrument_name: str,\n",
    "    velocity: int = 100 # note loudness\n",
    ") -> pretty_midi.PrettyMIDI:\n",
    "    \n",
    "    pm = pretty_midi.PrettyMIDI()\n",
    "    instrument = pretty_midi.Instrument(\n",
    "        program=pretty_midi.instrument_name_to_program(\n",
    "            instrument_name))\n",
    "    \n",
    "    prev_start = 0\n",
    "    for i, note in notes.iterrows():\n",
    "        start = float(prev_start)\n",
    "        end = float(prev_start + note['dur(s)'])\n",
    "        if note['note_name'] == 'r':\n",
    "            start += float(note['dur(s)'])\n",
    "            prev_start = start\n",
    "        else:\n",
    "            note = pretty_midi.Note(\n",
    "                velocity=velocity,\n",
    "                pitch=int(pretty_midi.note_name_to_number(note['note_name'])),\n",
    "                start=start,\n",
    "                end=end\n",
    "            )\n",
    "            instrument.notes.append(note)\n",
    "            prev_start = end\n",
    "            \n",
    "    pm.instruments.append(instrument)\n",
    "    return pm"
   ]
  },
  {
   "cell_type": "code",
   "execution_count": null,
   "id": "541dd775",
   "metadata": {
    "hidden": true
   },
   "outputs": [],
   "source": [
    "instrument_name = 'Acoustic Guitar (nylon)'\n",
    "\n",
    "all_midis = []\n",
    "for df in all_csv_dfs:\n",
    "    pm = notes_to_midi(df, instrument_name)\n",
    "    all_midis.append(pm)"
   ]
  },
  {
   "cell_type": "code",
   "execution_count": null,
   "id": "ed1ded4d",
   "metadata": {
    "hidden": true
   },
   "outputs": [],
   "source": [
    "stop"
   ]
  },
  {
   "cell_type": "markdown",
   "id": "7e8bdb0a",
   "metadata": {
    "heading_collapsed": true,
    "hidden": true
   },
   "source": [
    "### Playback the midi"
   ]
  },
  {
   "cell_type": "code",
   "execution_count": null,
   "id": "8f0d7022",
   "metadata": {
    "hidden": true
   },
   "outputs": [],
   "source": [
    "_SAMPLING_RATE = 16000\n",
    "\n",
    "def display_audio(pm: pretty_midi.PrettyMIDI):\n",
    "    waveform = pm.fluidsynth(fs=_SAMPLING_RATE)\n",
    "    return display.Audio(waveform, rate=_SAMPLING_RATE)"
   ]
  },
  {
   "cell_type": "code",
   "execution_count": null,
   "id": "c5148a50",
   "metadata": {
    "hidden": true
   },
   "outputs": [],
   "source": [
    "# instrument_name = 'Electric Piano 1'\n",
    "instrument_name = 'Acoustic Guitar (nylon)'\n",
    "out_file = 'example.midi'\n",
    "\n",
    "example_pm = notes_to_midi(all_dfs[10], instrument_name)"
   ]
  },
  {
   "cell_type": "code",
   "execution_count": null,
   "id": "13c14db0",
   "metadata": {
    "hidden": true
   },
   "outputs": [],
   "source": [
    "display_audio(example_pm)"
   ]
  },
  {
   "cell_type": "markdown",
   "id": "a2dc3852",
   "metadata": {
    "hidden": true
   },
   "source": [
    "### Create dataframe from midi"
   ]
  },
  {
   "cell_type": "code",
   "execution_count": null,
   "id": "9c2d1fdd",
   "metadata": {
    "hidden": true
   },
   "outputs": [],
   "source": [
    "instrument = example_pm.instruments[0]\n",
    "instrument.notes"
   ]
  },
  {
   "cell_type": "code",
   "execution_count": null,
   "id": "d6781eaf",
   "metadata": {
    "hidden": true
   },
   "outputs": [],
   "source": [
    "def midi_to_notes(midi: pretty_midi.PrettyMIDI()) -> pd.DataFrame:\n",
    "#     pm = pretty_midi.PrettyMIDI(midi_file)\n",
    "    instrument = midi.instruments[0]\n",
    "    notes = collections.defaultdict(list)\n",
    "    \n",
    "    # Sort the notes by start time\n",
    "    sorted_notes = sorted(instrument.notes, key=lambda note: note.start)\n",
    "    prev_start = sorted_notes[0].start\n",
    "    \n",
    "    for note in sorted_notes:\n",
    "        start = note.start\n",
    "        end = note.end\n",
    "        notes['pitch'].append(note.pitch)\n",
    "        notes['start'].append(start)\n",
    "        notes['end'].append(end)\n",
    "        notes['step'].append(start-prev_start)\n",
    "        notes['duration'].append(end - start)\n",
    "        prev_start = start\n",
    "        \n",
    "    return pd.DataFrame({name: np.array(value) for name, value in notes.items()})"
   ]
  },
  {
   "cell_type": "code",
   "execution_count": null,
   "id": "8506328f",
   "metadata": {
    "hidden": true
   },
   "outputs": [],
   "source": [
    "all_midi_dfs = []\n",
    "\n",
    "for midi in all_midis:\n",
    "    midi_df = midi_to_notes(midi)\n",
    "    all_midi_dfs.append(midi_df)"
   ]
  },
  {
   "cell_type": "code",
   "execution_count": null,
   "id": "f5b44961",
   "metadata": {
    "hidden": true
   },
   "outputs": [],
   "source": [
    "all_midi_dfs[45].head()"
   ]
  },
  {
   "cell_type": "code",
   "execution_count": null,
   "id": "17e7fa04",
   "metadata": {
    "hidden": true
   },
   "outputs": [],
   "source": [
    "max_pitch_list = []\n",
    "min_pitch_list = []\n",
    "pitch_list = []\n",
    "for midi in all_midi_dfs:\n",
    "    max_pitch_list.append(midi.pitch.max())\n",
    "    min_pitch_list.append(midi.pitch.min())\n",
    "    for pitch in midi.pitch:\n",
    "        if pitch not in pitch_list:\n",
    "            pitch_list.append(pitch)"
   ]
  },
  {
   "cell_type": "code",
   "execution_count": null,
   "id": "c1d9e42a",
   "metadata": {
    "hidden": true
   },
   "outputs": [],
   "source": [
    "pitch_list.sort()\n",
    "print(f\"highest note: {max(max_pitch_list)} ({pretty_midi.note_number_to_name(max(max_pitch_list))})\")\n",
    "print(f\"lowest note:, {min(min_pitch_list)} ({pretty_midi.note_number_to_name(min(min_pitch_list))})\")\n",
    "print('number of different notes:', len(pitch_list))"
   ]
  },
  {
   "cell_type": "markdown",
   "id": "a03f0041",
   "metadata": {
    "hidden": true
   },
   "source": [
    "### Create slices"
   ]
  },
  {
   "cell_type": "code",
   "execution_count": null,
   "id": "3758d519",
   "metadata": {
    "hidden": true
   },
   "outputs": [],
   "source": [
    "num_slices_per_midi = 5\n",
    "slice_length = 4\n",
    "X = []\n",
    "y = []\n",
    "\n",
    "for midi in all_midi_dfs:\n",
    "    df_len = len(midi)\n",
    "    last_possible_ind = df_len - (slice_length + 1)\n",
    "    slice_ind = np.random.choice(last_possible_ind, num_slices_per_midi, replace=False)\n",
    "    for i in slice_ind:\n",
    "        X.append(midi.loc[i:i+(slice_length - 1)])\n",
    "        y.append(midi.loc[i+slice_length])\n"
   ]
  },
  {
   "cell_type": "code",
   "execution_count": null,
   "id": "072ce3d0",
   "metadata": {
    "hidden": true
   },
   "outputs": [],
   "source": [
    "X[0].values"
   ]
  },
  {
   "cell_type": "code",
   "execution_count": null,
   "id": "24596664",
   "metadata": {
    "hidden": true
   },
   "outputs": [],
   "source": [
    "X_seq = []\n",
    "for slice in X:\n",
    "    X_seq.append(np.delete(slice.values, [1,2], axis=1))"
   ]
  },
  {
   "cell_type": "code",
   "execution_count": null,
   "id": "a04aaf2d",
   "metadata": {
    "hidden": true
   },
   "outputs": [],
   "source": [
    "X_3d = np.stack(X_seq)"
   ]
  },
  {
   "cell_type": "code",
   "execution_count": null,
   "id": "16ebc380",
   "metadata": {
    "hidden": true
   },
   "outputs": [],
   "source": [
    "y_seq = []\n",
    "for slice in y:\n",
    "    y_seq.append(np.delete(slice.values, [1,2]))"
   ]
  },
  {
   "cell_type": "code",
   "execution_count": null,
   "id": "beafc149",
   "metadata": {
    "hidden": true
   },
   "outputs": [],
   "source": [
    "y_2d = np.stack(y_seq)"
   ]
  },
  {
   "cell_type": "code",
   "execution_count": null,
   "id": "7e752191",
   "metadata": {
    "hidden": true
   },
   "outputs": [],
   "source": [
    "print(X_3d.shape)\n",
    "print(y_2d.shape)"
   ]
  },
  {
   "cell_type": "markdown",
   "id": "0223c268",
   "metadata": {
    "hidden": true
   },
   "source": [
    "### Simple model"
   ]
  },
  {
   "cell_type": "code",
   "execution_count": null,
   "id": "fa7d217c",
   "metadata": {
    "hidden": true
   },
   "outputs": [],
   "source": [
    "from tensorflow.keras.models import Sequential\n",
    "from tensorflow.keras import layers\n",
    "\n",
    "def initialize_model():\n",
    "    model = Sequential()\n",
    "    model.add(layers.LSTM(units=len(pitch_list), activation='tanh', input_shape=X_3d.shape[1:]))\n",
    "    model.add(layers.Dense(3, activation='linear'))\n",
    "    \n",
    "    model.compile(loss='mse', optimizer='rmsprop')\n",
    "    \n",
    "    return model"
   ]
  },
  {
   "cell_type": "code",
   "execution_count": null,
   "id": "9b0dff49",
   "metadata": {
    "hidden": true
   },
   "outputs": [],
   "source": [
    "model = initialize_model()\n",
    "model.summary()"
   ]
  },
  {
   "cell_type": "code",
   "execution_count": null,
   "id": "8cfc1047",
   "metadata": {
    "hidden": true
   },
   "outputs": [],
   "source": [
    "from tensorflow.keras.callbacks import EarlyStopping\n",
    "\n",
    "es = EarlyStopping(patience=20, restore_best_weights=True)\n",
    "\n",
    "model = initialize_model()\n",
    "history = model.fit(X_3d, y_2d, validation_split=0.3, batch_size=16, epochs=300, verbose=1, callbacks=[es])"
   ]
  },
  {
   "cell_type": "code",
   "execution_count": null,
   "id": "49686e49",
   "metadata": {
    "hidden": true
   },
   "outputs": [],
   "source": [
    "plt.plot(history.epoch, history.history['loss'])"
   ]
  },
  {
   "cell_type": "code",
   "execution_count": null,
   "id": "37bb4cca",
   "metadata": {
    "hidden": true
   },
   "outputs": [],
   "source": [
    "y_pred[0][0]"
   ]
  },
  {
   "cell_type": "code",
   "execution_count": null,
   "id": "142dd8ed",
   "metadata": {
    "hidden": true
   },
   "outputs": [],
   "source": [
    "X_test = tf.expand_dims(X_3d[0], 0)\n",
    "\n",
    "y_pred = model.predict(X_test)\n",
    "\n",
    "y_pred"
   ]
  },
  {
   "cell_type": "markdown",
   "id": "a244d9d7",
   "metadata": {
    "heading_collapsed": true,
    "hidden": true
   },
   "source": [
    "### Generate Notes"
   ]
  },
  {
   "cell_type": "code",
   "execution_count": null,
   "id": "9132701b",
   "metadata": {
    "hidden": true
   },
   "outputs": [],
   "source": [
    "number_predictions = 20\n",
    "\n",
    "input_notes = X_3d[0]\n",
    "\n",
    "generated_notes = []\n",
    "prev_start = 0\n",
    "for i in range(number_predictions):\n",
    "    inputs = tf.expand_dims(input_notes, 0)\n",
    "    y_pred = model.predict(inputs)\n",
    "    pitch = int(y_pred[0][0])\n",
    "    step = y_pred[0][1]\n",
    "    duration = y_pred[0][2]\n",
    "    start = prev_start + step\n",
    "    end = start + duration\n",
    "    input_note = (pitch, step, duration)\n",
    "    generated_notes.append((*input_note, start, end))\n",
    "    input_notes = np.delete(input_notes, 0, axis=0)\n",
    "    input_notes = np.append(input_notes, np.expand_dims(input_note, 0), axis=0)\n",
    "    prev_start = start\n",
    "    "
   ]
  },
  {
   "cell_type": "code",
   "execution_count": null,
   "id": "081783f5",
   "metadata": {
    "hidden": true
   },
   "outputs": [],
   "source": [
    "generated_notes = pd.DataFrame(generated_notes, columns=all_midi_dfs[0].columns)"
   ]
  },
  {
   "cell_type": "code",
   "execution_count": null,
   "id": "73606f63",
   "metadata": {
    "hidden": true
   },
   "outputs": [],
   "source": [
    "generated_notes"
   ]
  },
  {
   "cell_type": "code",
   "execution_count": null,
   "id": "4ab03f0e",
   "metadata": {
    "hidden": true
   },
   "outputs": [],
   "source": [
    "def midi_df_to_midi(\n",
    "    notes: pd.DataFrame,\n",
    "    instrument_name: str,\n",
    "    velocity: int = 100 # note loudness\n",
    ") -> pretty_midi.PrettyMIDI:\n",
    "    \n",
    "    pm = pretty_midi.PrettyMIDI()\n",
    "    instrument = pretty_midi.Instrument(\n",
    "        program=pretty_midi.instrument_name_to_program(\n",
    "            instrument_name))\n",
    "    \n",
    "    prev_start = 0\n",
    "    for i, note in notes.iterrows():\n",
    "        start = float(prev_start + note['step'])\n",
    "        end = float(start + note['duration'])\n",
    "        note = pretty_midi.Note(\n",
    "            velocity=velocity,\n",
    "            pitch=int(note['pitch']),\n",
    "            start=start,\n",
    "            end=end,\n",
    "        )\n",
    "        instrument.notes.append(note)\n",
    "        prev_start = start\n",
    "        \n",
    "    pm.instruments.append(instrument)\n",
    "    return pm"
   ]
  },
  {
   "cell_type": "code",
   "execution_count": null,
   "id": "13c73315",
   "metadata": {
    "hidden": true
   },
   "outputs": [],
   "source": [
    "pm = midi_df_to_midi(generated_notes, instrument_name)\n",
    "display_audio(pm)"
   ]
  },
  {
   "cell_type": "code",
   "execution_count": null,
   "id": "30253a25",
   "metadata": {
    "hidden": true
   },
   "outputs": [],
   "source": []
  },
  {
   "cell_type": "code",
   "execution_count": null,
   "id": "1152360d",
   "metadata": {
    "hidden": true
   },
   "outputs": [],
   "source": []
  },
  {
   "cell_type": "code",
   "execution_count": null,
   "id": "b7e5ae4f",
   "metadata": {
    "hidden": true
   },
   "outputs": [],
   "source": []
  },
  {
   "cell_type": "code",
   "execution_count": null,
   "id": "04195074",
   "metadata": {
    "hidden": true
   },
   "outputs": [],
   "source": []
  },
  {
   "cell_type": "code",
   "execution_count": null,
   "id": "daa3a500",
   "metadata": {
    "hidden": true
   },
   "outputs": [],
   "source": []
  },
  {
   "cell_type": "code",
   "execution_count": null,
   "id": "4abd8a0b",
   "metadata": {
    "hidden": true
   },
   "outputs": [],
   "source": []
  },
  {
   "cell_type": "code",
   "execution_count": null,
   "id": "581a600e",
   "metadata": {
    "hidden": true
   },
   "outputs": [],
   "source": []
  },
  {
   "cell_type": "code",
   "execution_count": null,
   "id": "c873d344",
   "metadata": {
    "hidden": true
   },
   "outputs": [],
   "source": []
  },
  {
   "cell_type": "markdown",
   "id": "a5a580bf",
   "metadata": {
    "heading_collapsed": true,
    "hidden": true
   },
   "source": [
    "### from RNN tutorial"
   ]
  },
  {
   "cell_type": "code",
   "execution_count": null,
   "id": "b9e1a9ed",
   "metadata": {
    "hidden": true
   },
   "outputs": [],
   "source": [
    "def mse_with_positive_pressure(y_true: tf.Tensor, y_pred: tf.Tensor):\n",
    "    mse = (y_true -y_pred) ** 2\n",
    "    positive_pressure = 10 * tf.maximum(-y_pred, 0.0)\n",
    "    return tf.reduce_mean(mse + positive_pressure)"
   ]
  },
  {
   "cell_type": "code",
   "execution_count": null,
   "id": "3f42e38b",
   "metadata": {
    "hidden": true
   },
   "outputs": [],
   "source": [
    "input_shape = X_3d.shape[1:]\n",
    "learning_rate = 0.005\n",
    "\n",
    "inputs = tf.keras.Input(input_shape)\n",
    "x = tf.keras.layers.LSTM(len(pitch_list))(inputs)\n",
    "\n",
    "outputs = {\n",
    "    'pitch': tf.keras.layers.Dense(len(pitch_list), name='pitch')(x),\n",
    "    'step': tf.keras.layers.Dense(1, name='step')(x),\n",
    "    'duration': tf.keras.layers.Dense(1, name='duration')(x),\n",
    "}\n",
    "                                   \n",
    "\n",
    "model = tf.keras.Model(inputs, outputs)\n",
    "\n",
    "loss = {\n",
    "    'pitch': tf.keras.losses.SparseCategoricalCrossentropy(from_logits=True),\n",
    "    'step': mse_with_positive_pressure,\n",
    "    'duration': mse_with_positive_pressure,\n",
    "}\n",
    "\n",
    "optimizer = tf.keras.optimizers.Adam(learning_rate=learning_rate)\n",
    "\n",
    "model.compile(loss=loss, optimizer=optimizer)\n",
    "\n",
    "model.summary()"
   ]
  },
  {
   "cell_type": "code",
   "execution_count": null,
   "id": "1f709ec5",
   "metadata": {
    "hidden": true
   },
   "outputs": [],
   "source": [
    "model.compile(\n",
    "    loss=loss,\n",
    "    loss_weights={\n",
    "        'pitch': 0.05,\n",
    "        'step': 1.0,\n",
    "        'duration': 1.0\n",
    "    },\n",
    "    optimizer=optimizer,\n",
    ")\n"
   ]
  },
  {
   "cell_type": "code",
   "execution_count": null,
   "id": "13116cd1",
   "metadata": {
    "hidden": true
   },
   "outputs": [],
   "source": [
    "es = tf.keras.callbacks.EarlyStopping(\n",
    "        monitor='loss',\n",
    "        patience=5,\n",
    "        verbose=1,\n",
    "        restore_best_weights=True)"
   ]
  },
  {
   "cell_type": "code",
   "execution_count": null,
   "id": "1e22d643",
   "metadata": {
    "hidden": true
   },
   "outputs": [],
   "source": [
    "%%time\n",
    "epochs = 10\n",
    "\n",
    "history = model.fit(\n",
    "    X_3d,\n",
    "    epochs=epochs,\n",
    "    callbacks=[es],\n",
    ")"
   ]
  },
  {
   "cell_type": "markdown",
   "id": "7fe2981d",
   "metadata": {
    "heading_collapsed": true,
    "hidden": true
   },
   "source": [
    "### dataframes to tensorflow dataset"
   ]
  },
  {
   "cell_type": "code",
   "execution_count": null,
   "id": "46bd47a9",
   "metadata": {
    "hidden": true
   },
   "outputs": [],
   "source": [
    "key_order = ['pitch', 'step', 'duration']\n",
    "\n",
    "midi_arrays = []\n",
    "for df in all_midi_dfs:\n",
    "    midi_arrays.append(np.stack([df[key] for key in key_order], axis=1))"
   ]
  },
  {
   "cell_type": "code",
   "execution_count": null,
   "id": "ed36654d",
   "metadata": {
    "hidden": true
   },
   "outputs": [],
   "source": [
    "tf_stuff = []\n",
    "for array in midi_arrays:\n",
    "    tf_stuff.append(tf.data.Dataset.from_tensor_slices(array))"
   ]
  },
  {
   "cell_type": "code",
   "execution_count": null,
   "id": "20de362c",
   "metadata": {
    "hidden": true
   },
   "outputs": [],
   "source": [
    "list(tf_stuff[0].as_numpy_iterator())"
   ]
  },
  {
   "cell_type": "markdown",
   "id": "a98dc775",
   "metadata": {
    "hidden": true
   },
   "source": [
    "### create slices"
   ]
  },
  {
   "cell_type": "code",
   "execution_count": null,
   "id": "4a372464",
   "metadata": {
    "hidden": true
   },
   "outputs": [],
   "source": []
  },
  {
   "cell_type": "markdown",
   "id": "3d38d457",
   "metadata": {},
   "source": [
    "# EDA"
   ]
  },
  {
   "cell_type": "code",
   "execution_count": 12,
   "id": "12cbd671",
   "metadata": {},
   "outputs": [],
   "source": [
    "import numpy as np\n",
    "import pandas as pd\n",
    "import seaborn as sns\n",
    "import matplotlib.pyplot as plt"
   ]
  },
  {
   "cell_type": "code",
   "execution_count": null,
   "id": "21662210",
   "metadata": {},
   "outputs": [],
   "source": [
    "import CoolMelodyProject."
   ]
  },
  {
   "cell_type": "markdown",
   "id": "111fc2b2",
   "metadata": {},
   "source": [
    "# music 21 and muescore"
   ]
  },
  {
   "cell_type": "code",
   "execution_count": 4,
   "id": "59668735",
   "metadata": {},
   "outputs": [
    {
     "name": "stdout",
     "output_type": "stream",
     "text": [
      "Collecting music21\n",
      "  Using cached music21-7.1.0.tar.gz (19.2 MB)\n",
      "  Preparing metadata (setup.py) ... \u001b[?25ldone\n",
      "\u001b[?25hCollecting chardet\n",
      "  Downloading chardet-4.0.0-py2.py3-none-any.whl (178 kB)\n",
      "\u001b[2K     \u001b[38;2;114;156;31m━━━━━━━━━━━━━━━━━━━━━━━━━━━━━━━━━━━━━\u001b[0m \u001b[32m178.7/178.7 KB\u001b[0m \u001b[31m166.7 kB/s\u001b[0m eta \u001b[36m0:00:00\u001b[0m[36m0:00:01\u001b[0mm eta \u001b[36m0:00:01\u001b[0m\n",
      "\u001b[?25hCollecting joblib\n",
      "  Using cached joblib-1.1.0-py2.py3-none-any.whl (306 kB)\n",
      "Collecting jsonpickle\n",
      "  Downloading jsonpickle-2.1.0-py2.py3-none-any.whl (38 kB)\n",
      "Requirement already satisfied: matplotlib in /Users/mizukinakano/.pyenv/versions/3.8.12/envs/CoolMelodyProject/lib/python3.8/site-packages (from music21) (3.5.1)\n",
      "Collecting more_itertools\n",
      "  Downloading more_itertools-8.12.0-py3-none-any.whl (54 kB)\n",
      "\u001b[2K     \u001b[38;2;114;156;31m━━━━━━━━━━━━━━━━━━━━━━━━━━━━━━━━━━━━━━━\u001b[0m \u001b[32m54.3/54.3 KB\u001b[0m \u001b[31m164.8 kB/s\u001b[0m eta \u001b[36m0:00:00\u001b[0m1m179.5 kB/s\u001b[0m eta \u001b[36m0:00:01\u001b[0m\n",
      "\u001b[?25hRequirement already satisfied: numpy in /Users/mizukinakano/.pyenv/versions/3.8.12/envs/CoolMelodyProject/lib/python3.8/site-packages (from music21) (1.22.2)\n",
      "Collecting webcolors>=1.5\n",
      "  Downloading webcolors-1.11.1-py3-none-any.whl (9.9 kB)\n",
      "Requirement already satisfied: packaging>=20.0 in /Users/mizukinakano/.pyenv/versions/3.8.12/envs/CoolMelodyProject/lib/python3.8/site-packages (from matplotlib->music21) (21.3)\n",
      "Requirement already satisfied: pyparsing>=2.2.1 in /Users/mizukinakano/.pyenv/versions/3.8.12/envs/CoolMelodyProject/lib/python3.8/site-packages (from matplotlib->music21) (3.0.7)\n",
      "Requirement already satisfied: pillow>=6.2.0 in /Users/mizukinakano/.pyenv/versions/3.8.12/envs/CoolMelodyProject/lib/python3.8/site-packages (from matplotlib->music21) (9.0.1)\n",
      "Requirement already satisfied: python-dateutil>=2.7 in /Users/mizukinakano/.pyenv/versions/3.8.12/envs/CoolMelodyProject/lib/python3.8/site-packages (from matplotlib->music21) (2.8.2)\n",
      "Requirement already satisfied: fonttools>=4.22.0 in /Users/mizukinakano/.pyenv/versions/3.8.12/envs/CoolMelodyProject/lib/python3.8/site-packages (from matplotlib->music21) (4.29.1)\n",
      "Requirement already satisfied: cycler>=0.10 in /Users/mizukinakano/.pyenv/versions/3.8.12/envs/CoolMelodyProject/lib/python3.8/site-packages (from matplotlib->music21) (0.11.0)\n",
      "Requirement already satisfied: kiwisolver>=1.0.1 in /Users/mizukinakano/.pyenv/versions/3.8.12/envs/CoolMelodyProject/lib/python3.8/site-packages (from matplotlib->music21) (1.3.2)\n",
      "Requirement already satisfied: six>=1.5 in /Users/mizukinakano/.pyenv/versions/3.8.12/envs/CoolMelodyProject/lib/python3.8/site-packages (from python-dateutil>=2.7->matplotlib->music21) (1.16.0)\n",
      "Building wheels for collected packages: music21\n",
      "  Building wheel for music21 (setup.py) ... \u001b[?25ldone\n",
      "\u001b[?25h  Created wheel for music21: filename=music21-7.1.0-py3-none-any.whl size=21912583 sha256=93f6d44b6d7ed6732a9d350f57273759889680807fa10340f10337b0a8dca42f\n",
      "  Stored in directory: /Users/mizukinakano/Library/Caches/pip/wheels/c3/0a/1a/73580f7fc6d1a676a949544d592c0a39546b8ba0477594f2c9\n",
      "Successfully built music21\n",
      "Installing collected packages: webcolors, more_itertools, jsonpickle, joblib, chardet, music21\n",
      "Successfully installed chardet-4.0.0 joblib-1.1.0 jsonpickle-2.1.0 more_itertools-8.12.0 music21-7.1.0 webcolors-1.11.1\n"
     ]
    }
   ],
   "source": [
    "!pip install music21"
   ]
  },
  {
   "cell_type": "code",
   "execution_count": 5,
   "id": "6c61f3d9",
   "metadata": {},
   "outputs": [],
   "source": [
    "from music21 import converter"
   ]
  },
  {
   "cell_type": "code",
   "execution_count": 9,
   "id": "1592c00a",
   "metadata": {},
   "outputs": [
    {
     "data": {
      "image/png": "[encoded data removed]",
      "text/plain": [
       "<IPython.core.display.Image object>"
      ]
     },
     "metadata": {
      "image/png": {
       "height": 67,
       "width": 674
      }
     },
     "output_type": "display_data"
    }
   ],
   "source": [
    "s = converter.parse('tinyNotation: 4/8 C4_hi D-4 E#4 F8 trip{G4 A4 B4} c4')\n",
    "s.show()"
   ]
  },
  {
   "cell_type": "code",
   "execution_count": 7,
   "id": "de093d95",
   "metadata": {
    "collapsed": true
   },
   "outputs": [
    {
     "data": {
      "text/html": [
       "\n",
       "                <div id='midiPlayerDiv286'></div>\n",
       "                <link rel=\"stylesheet\" href=\"//cuthbertLab.github.io/music21j/css/m21.css\"\n",
       "                    type=\"text/css\" />\n",
       "                <script>\n",
       "                require.config({\n",
       "                    paths: {'music21': '//cuthbertLab.github.io/music21j/src/music21'}\n",
       "                });\n",
       "                require(['music21'], function() {\n",
       "                               mp = new music21.miditools.MidiPlayer();\n",
       "                               mp.addPlayer('#midiPlayerDiv286');\n",
       "                               mp.base64Load('data:audio/midi;base64,TVRoZAAAAAYAAQACBABNVHJrAAAAFAD/UQMHoSAA/1gEBAIYCIgA/y8ATVRyawAAAFYA/wMAAOAAQIgAkDBaiACAMAAAkDFaiACAMQAAkDVaiACANQAAkDVahACANQAAkDdahSuANwAAkDlahSqQO1oBgDkAhSqAOwAAkDxaiACAPACIAP8vAA==');\n",
       "                        });\n",
       "                </script>"
      ],
      "text/plain": [
       "<IPython.core.display.HTML object>"
      ]
     },
     "metadata": {},
     "output_type": "display_data"
    }
   ],
   "source": [
    "s.show('midi')"
   ]
  },
  {
   "cell_type": "code",
   "execution_count": null,
   "id": "8ebc838e",
   "metadata": {},
   "outputs": [],
   "source": []
  }
 ],
 "metadata": {
  "kernelspec": {
   "display_name": "Python 3 (ipykernel)",
   "language": "python",
   "name": "python3"
  },
  "language_info": {
   "codemirror_mode": {
    "name": "ipython",
    "version": 3
   },
   "file_extension": ".py",
   "mimetype": "text/x-python",
   "name": "python",
   "nbconvert_exporter": "python",
   "pygments_lexer": "ipython3",
   "version": "3.8.12"
  },
  "toc": {
   "base_numbering": 1,
   "nav_menu": {},
   "number_sections": true,
   "sideBar": true,
   "skip_h1_title": false,
   "title_cell": "Table of Contents",
   "title_sidebar": "Contents",
   "toc_cell": false,
   "toc_position": {},
   "toc_section_display": true,
   "toc_window_display": false
  }
 },
 "nbformat": 4,
 "nbformat_minor": 5
}
